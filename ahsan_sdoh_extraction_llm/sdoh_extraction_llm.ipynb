{
 "cells": [
  {
   "cell_type": "markdown",
   "metadata": {},
   "source": [
    "#### This code will read the complete clinical note and then try to define whether a SDOH is present in the complete note. If a SDOH is present, then LLM should return the position of text in the clinical note which mentions that SDOH"
   ]
  },
  {
   "cell_type": "code",
   "execution_count": 1,
   "metadata": {},
   "outputs": [],
   "source": [
    "import pandas as pd\n",
    "import openai\n",
    "import os\n",
    "import pickle\n",
    "from openai import AzureOpenAI\n",
    "import sys\n",
    "import json\n",
    "import time"
   ]
  },
  {
   "cell_type": "code",
   "execution_count": 2,
   "metadata": {},
   "outputs": [],
   "source": [
    "sys.path.append(os.path.join(os.getcwd(), '..'))"
   ]
  },
  {
   "cell_type": "code",
   "execution_count": 3,
   "metadata": {},
   "outputs": [],
   "source": [
    "from prompts import *"
   ]
  },
  {
   "cell_type": "code",
   "execution_count": 4,
   "metadata": {},
   "outputs": [],
   "source": [
    "UNIQUE_ID_COLUMN_NAME = \"ROW_ID\"\n",
    "UNIQUE_TEXT_COLUMN_NAME = \"TEXT\"\n",
    "UNIQUE_LABEL_COLUMN_NAMES = ['sdoh_economics','sdoh_environment']\n",
    "# Economics (0: None, 1: True[Non-Adverse], 2: False[Adverse])\n",
    "# Environment (0: None, 1: True[Non-Adverse], 2: False[Adverse])"
   ]
  },
  {
   "cell_type": "code",
   "execution_count": 5,
   "metadata": {},
   "outputs": [],
   "source": [
    "#Paths to MIMIC_CSVs\n",
    "MIMIC_ADMISSION_CSV = \"../ahsan_data/ADMISSIONS.csv\" #Fill in path/to/file with the path to your MIMIC-III folder\n",
    "MIMIC_NOTEEVENTS_CSV = \"../ahsan_data/NOTEEVENTS.csv\" #Fill in path/to/file with the path to your MIMIC-III folder\n",
    "MIMIC_SBDH = \"../ahsan_data/MIMIC-SBDH.csv\" #Fill in path/to/file with the path to your MIMIC-SBDH folder"
   ]
  },
  {
   "cell_type": "code",
   "execution_count": 6,
   "metadata": {},
   "outputs": [
    {
     "name": "stderr",
     "output_type": "stream",
     "text": [
      "/tmp/ipykernel_477888/2357746518.py:2: DtypeWarning: Columns (4,5) have mixed types. Specify dtype option on import or set low_memory=False.\n",
      "  notes_df = pd.read_csv(MIMIC_NOTEEVENTS_CSV)\n"
     ]
    }
   ],
   "source": [
    "df = pd.read_csv(MIMIC_ADMISSION_CSV)\n",
    "notes_df = pd.read_csv(MIMIC_NOTEEVENTS_CSV)"
   ]
  },
  {
   "cell_type": "code",
   "execution_count": 10,
   "metadata": {},
   "outputs": [],
   "source": [
    "#Loading DataFrames for Annotated and Unnanotated MIMIC Notes\n",
    "\n",
    "newborn_list = df[df[\"ADMISSION_TYPE\"] == \"NEWBORN\"].SUBJECT_ID.to_list()\n",
    "discharge_df = notes_df[notes_df['CATEGORY'] == 'Discharge summary']\n",
    "non_neonatal = discharge_df[~discharge_df['SUBJECT_ID'].isin(newborn_list)]\n",
    "\n",
    "sbdh_data = pd.read_csv(open(MIMIC_SBDH, 'r+', encoding='UTF-8'),encoding='UTF-8', on_bad_lines='warn')\n",
    "sbdh_data = sbdh_data.rename(columns={'row_id':UNIQUE_ID_COLUMN_NAME})\n",
    "\n",
    "annotated_list = sbdh_data[UNIQUE_ID_COLUMN_NAME].tolist()\n",
    "annotated_notes = discharge_df[discharge_df[UNIQUE_ID_COLUMN_NAME].isin(annotated_list)]\n",
    "annotated_subjects = discharge_df[discharge_df[UNIQUE_ID_COLUMN_NAME].isin(annotated_list)].SUBJECT_ID.to_list()\n",
    "\n",
    "annotated_sh = pd.merge(annotated_notes,sbdh_data[[UNIQUE_ID_COLUMN_NAME] + UNIQUE_LABEL_COLUMN_NAMES],on=UNIQUE_ID_COLUMN_NAME, how='left')\n",
    "\n",
    "df = newborn_list = notes_df = discharge_df = non_neonatal = annotated_list = annotated_notes = annotated_subjects = sbdh_data = None"
   ]
  },
  {
   "cell_type": "code",
   "execution_count": 11,
   "metadata": {},
   "outputs": [],
   "source": [
    "with open('../azure_credentials.json', 'r') as file:\n",
    "    azure_data = json.load(file)\n",
    "    api_key = azure_data['API_KEY']\n",
    "    api_version = azure_data['API_VERSION']\n",
    "    azure_endpoint = azure_data['AZURE_ENDPOINT']\n",
    "    azure_deployment_name = azure_data['AZURE_DEPLOYMENT_NAME']\n",
    "\n",
    "client = AzureOpenAI(\n",
    "    api_key=api_key,\n",
    "    api_version=api_version,\n",
    "    azure_endpoint = azure_endpoint\n",
    "    )\n",
    "\n",
    "deployment_name=azure_deployment_name #This will correspond to the custom name you chose for your deployment when you deployed a model. Use a gpt-35-turbo-instruct deployment.\n",
    "\n",
    "# Defining a function to create the prompt from the instruction system message, the few-shot examples, and the current query\n",
    "def create_prompt(system_message, user_message):    \n",
    "    formatted_message = [\n",
    "        {\"role\": \"system\", \"content\": system_message},\n",
    "        {\"role\": \"user\", \"content\": user_message}\n",
    "    ]\n",
    "    \n",
    "    return formatted_message\n",
    "\n",
    "# This function sends the prompt to the GPT model\n",
    "def send_message(message, model_name, max_response_tokens=500):\n",
    "    response = client.chat.completions.create(\n",
    "        model=model_name,\n",
    "        messages=message,\n",
    "        temperature=0,\n",
    "        max_tokens=max_response_tokens,\n",
    "        top_p=0.95,\n",
    "        frequency_penalty=0,\n",
    "        presence_penalty=0,\n",
    "        stop=None\n",
    "    )\n",
    "    \n",
    "    return response.choices[0].message.content.strip()"
   ]
  },
  {
   "cell_type": "code",
   "execution_count": 20,
   "metadata": {},
   "outputs": [],
   "source": [
    "step1_query_ahsan_sdoh_place_extraction = '''\n",
    "You are given a free-text clinical note (<<text>>) from electronic health records. For each of the following categories, determine the attribute that accurately describes the status of the patient at the time of <<text>>. Do not infer the impact of <<text>> onto the attributes, instead focus on the factual information only which is present at the time of <<text>>.\n",
    "The category is shown in double quotes and the attributes are shown in square brackets:\n",
    "\n",
    "1. \"EMPLOYMENT\": ['Non-Adverse', 'Adverse'];\n",
    "2. \"HOUSING\": ['Non-Adverse', 'Adverse'];\n",
    "\n",
    "If a valid attribute is determined for any category, you also need to record the starting/ending character position within the <<text>> that signifies the attribute using following rules:\n",
    "- For no detection, simply return empty lists e.g., Start: [], End: []\n",
    "- For single/multiple sub-text position, return in a list format separated by commas with each position in the start/end list defining the portion of subtext within <<text>> e.g., Start: [1, 6], End: [10, 15]\n",
    "\n",
    "In your final response, you must consolidate this information in a brief reply i.e., \"YES\" if a valid attribute is determined for atleast one category, else \"NO\". Also return the starting/ending character position lists within <<text>> which signify the attribute.\n",
    "\n",
    "Input: <<{free_text}>>\n",
    "Answer: YES/NO\n",
    "Start: []\n",
    "End: []\n",
    "'''"
   ]
  },
  {
   "cell_type": "code",
   "execution_count": 27,
   "metadata": {},
   "outputs": [],
   "source": [
    "free_text = annotated_sh['TEXT'][2]\n",
    "system_message = \"You are an information extract tool that follows instructions very well and is specifically trained to extract social determinants of health elements from hospital generated free-text.\"\n",
    "user_message = step1_query_ahsan_sdoh_place_extraction.format(free_text=free_text)\n",
    "openai_message = create_prompt(system_message, user_message)\n",
    "response = send_message(openai_message, deployment_name)"
   ]
  },
  {
   "cell_type": "code",
   "execution_count": 28,
   "metadata": {},
   "outputs": [
    {
     "data": {
      "text/plain": [
       "\"Admission Date:  [**2198-4-23**]              Discharge Date:   [**2198-5-8**]\\n\\nDate of Birth:  [**2122-10-14**]             Sex:   M\\n\\nService: SURGERY\\n\\nAllergies:\\nPatient recorded as having No Known Allergies to Drugs\\n\\nAttending:[**First Name3 (LF) 148**]\\nChief Complaint:\\nfever\\n\\nMajor Surgical or Invasive Procedure:\\n1.  Exploratory laparotomy.\\n2.  Pancreatic debridement with wide drainage.\\n3.  Open cholecystectomy.\\n4.  Placement of a combined G/J tube (MIC tube).\\n5.  PICC line placement\\n6.  ERCP with stent\\n\\n\\nHistory of Present Illness:\\nThis is a 75 year old man who is a retired anethesiologist with\\nh/o CAD s/p CABG and ischemic cardiomyopathy with EF of 25% who\\nwas recently discharged from [**Hospital1 18**] following a hospital course\\nfor gallstone pancreatitis and now re-presents from rehab for\\nfevers.  During last admission, he was transferred from OSH with\\nwith fever and pancreatitis which was thought to be from\\ngallstones although there were no gallstones in the bile ducts,\\njust in the gallbladder itself.  CT scan done on admissionw as\\nconsistent with severe pancreatitis.  ERCP was done on [**2198-4-6**],\\nwith sphinceterotomy and CBD stent placed.  His post procedure\\ncourse was complicated by fevers and repeat CT abd shows\\nprogression of severe pancreatitis with extensive\\nperipancreatitis fluid collection.  This was thought to be\\neither from PNA or from inflammation from his pancreatitis.  He\\nfinished a course of azithro/ctx and a course of flagyl/cipro\\nand eventually he devefesced.  All cultures were negative.  He\\nwas discharged to rehab.\\n.\\nAt rehab, he reports having fevers since Friday [**2198-4-21**], with\\nhighest at 102.0.  He has no localizing pain.  Denies cough,\\ndysuria, abd pain or nausea and vomit.\\n.\\nROS: Negative for headache, chest pain, shortness of breath or\\nchange in bowel habits.\\n\\nPast Medical History:\\n# Coronary artery disease status post CABG x4 in [**2183**].\\n# Status post MI in [**2182**].\\n# Ischemic cardiomyopathy, EF 20-25%, echo [**2194**].\\n# Atrial flutter, currently A-paced.\\n# Ventricular irritability.\\n# ICD placement [**2193**], changed in [**2195**] ([**Company 1543**] dual- chamber\\nsystem.)\\n# CRI with a baseline creatinine of 1.2-1.5.\\n# Gout.\\n# Gallstones.\\n# Kidney stones.\\n# h/o Syncope.\\n\\nSocial History:\\nA retired anesthesiologist, worked in pain management. Denies\\ntobacco, drugs. Bottle of wine per week.\\n\\nFamily History:\\nFather had a MI at age 70.\\n\\nPhysical Exam:\\nVITALS: 102.2  112/P  68  16  93%-RA\\nGEN: A+Ox3, NAD\\nHEENT: MMM, OP clear\\nNECK: no LAD, no JVD\\nCV: RRR, II/VI holosystolic murmur at LLSB\\nPULM: crackles at bases with decreased sounds on right base, no\\nwheeze, rhonchi\\nABD: soft, NT, ND, +BS\\nEXT: [**Male First Name (un) **] stockings on both legs; 1+ pitting edema to knees\\nbilaterally\\n\\nPertinent Results:\\n137  101  19\\n--------------< 105\\n4.3  28  1.2\\n\\nCa: 9.4 Mg: 1.9 P: 3.1\\n\\nALT: 23 AP: 135 Tbili: 0.6 Alb: 3.0\\nAST: 22 LDH: 169 [**Doctor First Name **]: 25 Lip: 38\\n\\n             95\\n13.1 >  9.5 < 176\\n        28.9\\n\\nN:90.0 Band:0 L:5.2 M:4.5 E:0.1 Bas:0.2\\nHypochr: 2+ Anisocy: 1+ Macrocy: 1+ Ovalocy: 1+\\n\\nPT: 15.8  PTT: 28.3  INR: 1.4\\n\\nEKG: Regular 68 PBM, apaced, low voltage in limb leads, no ST/T\\nchanges compared to [**2198-4-5**]\\n\\nCT ABD WITH IV AND ORAL CONTRAST:\\n1. All visualized peripancreatic collections appear slightly\\nsmaller.\\n2. New air bubbles within multiple collections. Correlate with\\nhistory of marsupialization or attempts at drainage in the\\ninterval since [**2198-4-10**]. Superimposed infection in the\\ncollections cannot be excluded given the new air bubbles,\\nalthough the collections are infected, they would not expect to\\nget smaller.\\n3. Biliary stent in position. No evidence of worsening biliary\\ndilatation.\\n4. Cholelithiasis and Phrygian cap in gallbladder.\\n5. Bilateral pleural effusions, right greater than left with\\nassociated bilateral lower lobe atelectasis. Effusions slightly\\nlarger than on [**2198-2-8**].\\n\\nCXR:\\nSmall bilateral pleural effusions have increased. Moderate\\nenlargement of the cardiac silhouette is stable. Upper lungs\\ngrossly clear. Atelectasis at the lung bases is slightly more\\nsevere today. No pneumothorax. Transvenous right atrial pacer\\nand right ventricular pacer defibrillator leads are unchanged in\\ntheir respective positions. The patient is status post median\\nsternotomy and coronary bypass grafting.\\n.\\n\\n[**2198-4-30**] 05:17AM BLOOD WBC-8.1 RBC-2.98* Hgb-9.3* Hct-27.9*\\nMCV-94 MCH-31.2 MCHC-33.2 RDW-16.2* Plt Ct-197\\n[**2198-5-3**] 04:35AM BLOOD WBC-10.4 RBC-3.03* Hgb-9.0* Hct-28.2*\\nMCV-93 MCH-29.5 MCHC-31.7 RDW-16.2* Plt Ct-277\\n[**2198-4-23**] 12:50PM BLOOD Neuts-90.0* Bands-0 Lymphs-5.2* Monos-4.5\\nEos-0.1 Baso-0.2\\n[**2198-5-3**] 04:35AM BLOOD Glucose-145* UreaN-21* Creat-0.7 Na-136\\nK-4.2 Cl-100 HCO3-30 AnGap-10\\n[**2198-5-5**] 05:31AM BLOOD Glucose-145* UreaN-22* Creat-0.8 Na-138\\nK-4.1 Cl-101 HCO3-28 AnGap-13\\n[**2198-5-1**] 04:07AM BLOOD ALT-31 AST-39 AlkPhos-160* Amylase-23\\nTotBili-0.7 DirBili-0.4* IndBili-0.3\\n[**2198-5-1**] 04:07AM BLOOD Lipase-41\\n[**2198-5-5**] 05:31AM BLOOD Calcium-9.0 Phos-3.1 Mg-2.0\\n[**2198-4-30**] 05:17AM BLOOD Albumin-2.4* Iron-12*\\n[**2198-4-30**] 05:17AM BLOOD calTIBC-140* Ferritn-589* TRF-108*\\n.\\nSPECIMEN SUBMITTED: GALLBLADDER AND CONTENTS.\\nGallbladder, cholecystectomy (A):\\nAcute and chronic cholecystitis.\\nCholelithiasis.\\n.\\n\\nREPEAT, (REQUEST BY RADIOLOGIST)  [**2198-5-5**] 6:47 PM\\nFINDINGS: X-ray of the three surgical drains revealed no\\nevidence of any contrast which is radiopaque within these\\ndrains.\\n.\\nCT PELVIS W/CONTRAST  [**2198-5-5**] 12:07 PM\\nIMPRESSION:\\n1. Heterogeneity in the region of the pancreas consistent with\\nthe patient's previous necrotizing pancreatitis.\\n2. Three surgical drains in situ with some high attenuation in\\nthe region of the lesser sac which may represent fistulization\\nfrom the small bowel into this residual collection.\\n3. Loculated fluid under the anterior abdominal wall measuring\\n16 cm.\\n4. Gastrojejunostomy in situ.\\n5. Renal cysts.\\n6. Bilateral pleural effusions.\\n7. Enlarged prostate at 8 cm.\\n.\\n\\n\\nBrief Hospital Course:\\n75 year old man with CAD s/p CABD and ischemic cardiomyopathy EF\\n25% who was recently admitted for gallstone pancreatitis, now\\nre-admitted from rehab for fevers.\\n.\\n# FEVERS: Likely source is from his pancreas.  On last\\nadmission, he was febrile without an identified infectious\\nsource and was thought to be from inflammatory response to\\npancreatitis and peri-pancreatic fluid.  Currently with\\nleukocytosis and left shift although no localizing signs of\\ninfection.  The differential at this time includes (infected)\\npancreatic pseudocyst, necrotizing pancreatitis and an\\nobstructed bile duct stent.\\n-- appreciate GI following\\n-- keep NPO for now until CT scan and labs return\\n-- CT scan of abdomen with oral and IV contrast\\n-- culture blood and urine\\n-- CXR to r/o PNA\\n.\\n# CAD: currenty stable without chest pain.\\n-- continue asa + captopril + carvedilol\\n.\\n# CHF: currently euvolemic, and stable.\\n-- admitted and dry weight:\\n-- continue asa + captopril + carvedilol\\n.\\n# Aflutter: currently apaced\\n-- continue to hold coumadin in case he needs surgery\\n-- continue carvedilol\\n.\\n# CRI: Baseline creatinine 1.2-1.5\\n-- hydration and bicarb prior to contrast study\\n-- continue to monitor creatinine\\n.\\n# ANEMIA: iron studies from last admission suggest iron\\ndeficiency and chronic disease\\n-- continue iron supplements\\n-- continue to monitor hct\\n.\\n# GOUT: continue allopurinol\\n.\\n# BPH: continue flomax [**Hospital1 **]\\n.\\n# FEN:\\n-- IV hydration prior to CT scan\\n.\\n# PPX:\\n-- ambulating\\n-- protonix\\n.\\n# CODE: full\\n.\\n# DISPO: pending\\n.\\n.\\n=\\n=\\n=\\n=\\n=\\n=\\n=\\n=\\n=\\n=\\n=\\n=\\n=\\n=\\n=\\n=\\n=\\n=\\n================================================================\\nSurgery was then consulted and he went to the OR on [**4-24**] for his\\nInfected pancreatic necrosis, status post gallstone\\npancreatitis. He had\\n1.  Exploratory laparotomy.\\n2.  Pancreatic debridement with wide drainage.\\n3.  Open cholecystectomy.\\n4.  Placement of a combined G/J tube (MIC tube).\\n\\nPost-op he stayed in the ICU for 2 nights and was trasnfered to\\nthe floor on POD 3.\\n\\nGI/Abd: He was NPO with a NGT and IVF. The NGT was removed on\\nPOD 2. His G-tube was left to gravity drainage.\\nHis J-tube was capped and then trophic tubefeedings were started\\non POD 2. His tubefeedings were advanced to a goal of Replete\\nwith Fiber 3/4 strength at 80cc/hr.\\nHe had 3 JP drains in place and these were draining thick, dark\\nfluid.\\nHe continued to have high output from these drains.\\nHe was started on sips on POD 5, he was advanced to clears on\\nPOD 6.\\nJP amylase was checked on POD 7, once on a full liquid diet. His\\nJP Amylase was 27K, 34K, and 14K. He was made NPO due to his JP\\namylase reported as high. He continued on the tubefeedings. A\\ngrape juice test was positive for a leak from around the JP\\ndrains.\\nHe had one small spot with minimal drainage that could be\\nexpressed from his incision.\\nHis is now having drainage around all his drains and g/j tube\\nwith mild skin irritation. He has irritation around the tube\\nextending out from ~0.5 - 3 cm and appears at [**Doctor First Name **] to develop\\nyeast. His midline incision is c/i but has a small amount of\\nserous drainage on the gauze.\\n\\nHave suggested using Criticaid anti fungal moisture barrier to\\nprotect his skin from the drainage and to prevent the formation\\nof yeast. Continue to apply a thin layer of dressing around the\\ndrains and change as needed do not allow the gauze to become\\nsaturated with drainage. Apply the antifungal Criticaid two to\\nthree times/day.\\n\\n\\nA CT was obtained on [**5-5**] and showed:\\n1. Heterogeneity in the region of the pancreas consistent with\\nthe patient's previous necrotizing pancreatitis.\\n2. Three surgical drains in situ with some high attenuation in\\nthe region of the lesser sac which may represent fistulization\\nfrom the small bowel into this residual collection.\\n3. Loculated fluid under the anterior abdominal wall measuring\\n16 cm.\\n4. Gastrojejunostomy in situ.\\n5. Renal cysts.\\n6. Bilateral pleural effusions.\\n7. Enlarged prostate at 8 cm.\\n.\\nHe will remain NPO with TF for 2 weeks and then return for a\\nrepeat CT. His drains will remain and the drainage will be\\nmonitored.\\n\\nPain: He had good pain control with a PCA. He continued on a PCA\\nthru POD 6. Once back on a diet, he was ordered for PO pain meds\\nwith good control.\\n\\nLabs: We monitored his labs and his Tbili decreased from a high\\nof 2.6 on POD 2 to WNL by [**2198-4-28**].\\n\\nCards: He was being followed by his PCP/Cardiologist. He was put\\nback on his home meds on POD5, including Lasix IV for gentle\\ndiuresis and his heart meds.\\n\\nRenal: He was diuresing well and continued to have negative\\nfluid balance and losing weight appropriately.\\n\\n\\nMedications on Admission:\\n# Allopurinol 100 mg Tablet Sig: 1.5 Tablets PO DAILY (Daily).\\n# Amiodarone 200 mg Tablet Sig: 0.5 Tablet PO DAILY (Daily).\\n# Captopril 25 mg Tablet Sig: Two (2) Tablet PO TID (3 times a\\nday).\\n# Carvedilol 12.5 mg Tablet Sig: One (1) Tablet PO BID (2 times\\na day).\\n# Digoxin 125 mcg Tablet Sig: One (1) Tablet PO DAILY (Daily).\\n# Simvastatin 10 mg Tablet Sig: Two (2) Tablet PO DAILY\\n# Aspirin 81 mg Tablet Sig: One (1) Tablet PO once a day.\\n# Lasix 40 mg Tablet Sig: One (1) Tablet PO once a day as\\nneeded for shortness of breath, edema.\\n# Ferrous Sulfate 325 (65) mg Tablet Sig: One (1) Tablet PO\\nDAILY (Daily).\\n# Phenazopyridine 100 mg Tablet Sig: One (1) Tablet PO TID (3\\ntimes a day).\\n# Ipratropium Bromide 0.02 % Solution Sig: One (1)  Inhalation\\nQ6H (every 6 hours) as needed for shortness of breath or\\nwheezing.\\n# Tamsulosin 0.4 mg Capsule, Sust. Release 24 hr Sig: One (1)\\nCapsule, Sust. Release 24 hr PO BID (2 times a day).\\n# Zolpidem 5 mg Tablet Sig: One (1) Tablet PO HS (at bedtime)\\nas needed for insomnia.\\n# Multivitamin,Tx-Minerals     Tablet Sig: One (1) Tablet PO\\nDAILY (Daily).\\n# Protonix 40 mg Tablet, Delayed Release (E.C.) Sig: One (1)\\nTablet, Delayed Release (E.C.) PO once a day.\\n# Albuterol 90 mcg/Actuation Aerosol Sig: One (1)  Inhalation\\nevery 4-6 hours as needed for shortness of breath or wheezing.\\n# Colace, senna PRN\\n# Protein powder, 2 scoops [**Hospital1 **]\\n# Demerol PRN\\n\\n\\nDischarge Medications:\\n1. Ipratropium Bromide 0.02 % Solution Sig: One (1)  Inhalation\\nQ6H (every 6 hours) as needed.\\n2. Albuterol Sulfate 0.083 % (0.83 mg/mL) Solution Sig: One (1)\\nInhalation Q6H (every 6 hours) as needed.\\n3. Heparin (Porcine) 5,000 unit/mL Solution Sig: One (1)\\nInjection TID (3 times a day).\\n4. Insulin Regular Human 100 unit/mL Solution Sig: Sliding Scale\\n Injection ASDIR (AS DIRECTED).\\n5. Tylenol 325 mg Tablet Sig: 1-2 Tablets PO every 6-8 hours as\\nneeded for fever or pain.\\n6. Digoxin 125 mcg Tablet Sig: One (1) Tablet PO once a day.\\n7. Tamsulosin 0.4 mg Capsule, Sust. Release 24 hr Sig: One (1)\\nCapsule, Sust. Release 24 hr PO BID (2 times a day).\\n8. Captopril 25 mg Tablet Sig: One (1) Tablet PO TID (3 times a\\nday).\\n9. Carvedilol 12.5 mg Tablet Sig: One (1) Tablet PO BID (2 times\\na day).\\n10. Aspirin 81 mg Tablet, Chewable Sig: One (1) Tablet, Chewable\\nPO DAILY (Daily).\\n11. Dextromethorphan-Guaifenesin 10-100 mg/5 mL Syrup Sig: Five\\n(5) ML PO Q6H (every 6 hours) as needed.\\n12. Allopurinol 100 mg Tablet Sig: 1.5 Tablets PO DAILY (Daily).\\n\\n13. Calcium Carbonate 500 mg Tablet, Chewable Sig: Two (2)\\nTablet, Chewable PO QID (4 times a day) as needed.\\n14. Pantoprazole 40 mg Tablet, Delayed Release (E.C.) Sig: One\\n(1) Tablet, Delayed Release (E.C.) PO Q12H (every 12 hours).\\n15. Zolpidem 5 mg Tablet Sig: One (1) Tablet PO HS (at bedtime).\\n\\n16. Percocet 5-325 mg Tablet Sig: 1-2 Tablets PO every [**3-2**]\\nhours.\\n17. Octreotide Acetate 100 mcg/mL Solution Sig: One (1)\\nInjection Q8H (every 8 hours).\\n18. Amiodarone 200 mg Tablet Sig: 0.5 Tablet PO DAILY (Daily).\\n19. Docusate Sodium 100 mg Capsule Sig: One (1) Capsule PO BID\\n(2 times a day).\\n20. Imipenem-Cilastatin 500 mg Recon Soln Sig: One (1) Recon\\nSoln Intravenous Q8H (every 8 hours) for 2 doses: D/C on [**5-9**].\\nDisp:*2 Recon Soln(s)* Refills:*0*\\n\\n\\nDischarge Disposition:\\nExtended Care\\n\\nFacility:\\n[**Hospital3 7**] & Rehab Center - [**Hospital1 8**]\\n\\nDischarge Diagnosis:\\nPRIMARY:\\nInfected pancreatic necrosis,\\nstatus post gallstone pancreatitis.\\nPost-op Pancreatic leak\\n\\nSECONDARY:\\n# Coronary artery disease status post CABG x4 in [**2183**].\\n# Ischemic cardiomyopathy, EF 20-25%, echo [**2194**].\\n# Atrial flutter, currently A-paced.\\n# Ventricular irritability.\\n# ICD placement [**2193**], changed in [**2195**] ([**Company 1543**] dual- chamber\\nsystem.)\\n# CRI with a baseline creatinine of 1.2-1.5.\\n# Gout\\n# Gallstones\\n\\n\\nDischarge Condition:\\nhemodynamically stable, afebrile, ambulating\\n\\n\\nDischarge Instructions:\\nPlease take all medication as prescribed.  Keep appointments\\nlisted below.  If you have chest pain or shortness of breath,\\nget medical attention immediately.  If you have fevers or any\\ndiscomfort, please call your doctor or go to the emergency\\ndepartment.\\n.\\nContinue with tubefeedings.\\nContinue with drain care and with tubefeeding care.\\n\\nFollowup Instructions:\\nProvider: [**Name10 (NameIs) **] SCAN Phone:[**Telephone/Fax (1) 327**] Date/Time:[**2198-5-25**] 9:00\\n\\nPlease follow-up with Dr. [**Last Name (STitle) **] on [**2198-5-25**] at 10:15. Call\\n([**Telephone/Fax (1) 2363**] with questions.\\n\\nPlease follow up with your PCP [**Name Initial (PRE) 176**] 2 weeks:\\nPCP: [**Name10 (NameIs) **],[**Name11 (NameIs) 1730**] [**0-0-**]\\n\\nOTHER APPOINTMENTS:\\nProvider: [**First Name4 (NamePattern1) 1386**] [**Last Name (NamePattern1) **], MD Phone:[**Telephone/Fax (1) 463**]\\nDate/Time:[**2198-4-30**] 10:20\\nProvider: [**First Name11 (Name Pattern1) **] [**Last Name (NamePattern4) **], MD Phone:[**Telephone/Fax (1) 2359**]\\nDate/Time:[**2198-4-30**] 3:30\\n\\n\\n\\nCompleted by:[**2198-5-8**]\""
      ]
     },
     "execution_count": 28,
     "metadata": {},
     "output_type": "execute_result"
    }
   ],
   "source": [
    "free_text"
   ]
  },
  {
   "cell_type": "code",
   "execution_count": 29,
   "metadata": {},
   "outputs": [
    {
     "name": "stdout",
     "output_type": "stream",
     "text": [
      "YES\n",
      "Start: [1029, 1035]\n",
      "End: [1039, 1044]\n"
     ]
    }
   ],
   "source": [
    "print(response)"
   ]
  },
  {
   "cell_type": "code",
   "execution_count": 30,
   "metadata": {},
   "outputs": [
    {
     "name": "stdout",
     "output_type": "stream",
     "text": [
      "e pancreatitis\n"
     ]
    }
   ],
   "source": [
    "print(free_text[1079:1093])"
   ]
  },
  {
   "cell_type": "code",
   "execution_count": 31,
   "metadata": {},
   "outputs": [
    {
     "data": {
      "text/plain": [
       "15696"
      ]
     },
     "execution_count": 31,
     "metadata": {},
     "output_type": "execute_result"
    }
   ],
   "source": [
    "len(free_text)"
   ]
  },
  {
   "cell_type": "code",
   "execution_count": null,
   "metadata": {},
   "outputs": [],
   "source": []
  }
 ],
 "metadata": {
  "kernelspec": {
   "display_name": "sdoh-guevera",
   "language": "python",
   "name": "python3"
  },
  "language_info": {
   "codemirror_mode": {
    "name": "ipython",
    "version": 3
   },
   "file_extension": ".py",
   "mimetype": "text/x-python",
   "name": "python",
   "nbconvert_exporter": "python",
   "pygments_lexer": "ipython3",
   "version": "3.11.9"
  }
 },
 "nbformat": 4,
 "nbformat_minor": 2
}
