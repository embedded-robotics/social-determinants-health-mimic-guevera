{
 "cells": [
  {
   "cell_type": "code",
   "execution_count": 1,
   "metadata": {},
   "outputs": [],
   "source": [
    "import pandas as pd\n",
    "from openai import AzureOpenAI\n",
    "import json\n",
    "import openai\n",
    "from prompts import *"
   ]
  },
  {
   "cell_type": "code",
   "execution_count": 2,
   "metadata": {},
   "outputs": [],
   "source": [
    "employment_ground_truth = pd.read_csv('eval_employment_prompt.csv')\n",
    "relation_ground_truth = pd.read_csv('eval_relationship_prompt.csv')"
   ]
  },
  {
   "cell_type": "code",
   "execution_count": 3,
   "metadata": {},
   "outputs": [
    {
     "data": {
      "text/html": [
       "<div>\n",
       "<style scoped>\n",
       "    .dataframe tbody tr th:only-of-type {\n",
       "        vertical-align: middle;\n",
       "    }\n",
       "\n",
       "    .dataframe tbody tr th {\n",
       "        vertical-align: top;\n",
       "    }\n",
       "\n",
       "    .dataframe thead th {\n",
       "        text-align: right;\n",
       "    }\n",
       "</style>\n",
       "<table border=\"1\" class=\"dataframe\">\n",
       "  <thead>\n",
       "    <tr style=\"text-align: right;\">\n",
       "      <th></th>\n",
       "      <th>index</th>\n",
       "      <th>provider_type</th>\n",
       "      <th>patient_id</th>\n",
       "      <th>note_id</th>\n",
       "      <th>sentence_index</th>\n",
       "      <th>text</th>\n",
       "      <th>TRANSPORTATION_distance</th>\n",
       "      <th>TRANSPORTATION_resource</th>\n",
       "      <th>TRANSPORTATION_other</th>\n",
       "      <th>HOUSING_poor</th>\n",
       "      <th>...</th>\n",
       "      <th>EMPLOYMENT_student</th>\n",
       "      <th>SUPPORT_plus</th>\n",
       "      <th>SUPPORT_minus</th>\n",
       "      <th>PARENT</th>\n",
       "      <th>UNKNOWN</th>\n",
       "      <th>llm_text</th>\n",
       "      <th>llm_label_EMPLOYMENT</th>\n",
       "      <th>llm_label_UNKNOWN</th>\n",
       "      <th>EMPLOYMENT_nonadverse</th>\n",
       "      <th>EMPLOYMENT_adverse</th>\n",
       "    </tr>\n",
       "  </thead>\n",
       "  <tbody>\n",
       "    <tr>\n",
       "      <th>0</th>\n",
       "      <td>0</td>\n",
       "      <td>Nursing</td>\n",
       "      <td>10954</td>\n",
       "      <td>401903</td>\n",
       "      <td>0</td>\n",
       "      <td>Ms. [**Known lastname 11692**] is a 52 year ol...</td>\n",
       "      <td>0.0</td>\n",
       "      <td>0.0</td>\n",
       "      <td>0.0</td>\n",
       "      <td>0.0</td>\n",
       "      <td>...</td>\n",
       "      <td>0.0</td>\n",
       "      <td>0.0</td>\n",
       "      <td>0.0</td>\n",
       "      <td>0.0</td>\n",
       "      <td>True</td>\n",
       "      <td>{\\n  \"EMPLOYMENT\": \"UNKNOWN\",\\n  \"EMPLOYMENT_C...</td>\n",
       "      <td>UNKNOWN</td>\n",
       "      <td>True</td>\n",
       "      <td>False</td>\n",
       "      <td>False</td>\n",
       "    </tr>\n",
       "    <tr>\n",
       "      <th>1</th>\n",
       "      <td>1</td>\n",
       "      <td>Nursing</td>\n",
       "      <td>10954</td>\n",
       "      <td>401903</td>\n",
       "      <td>1</td>\n",
       "      <td>During her admission, she developed obtundatio...</td>\n",
       "      <td>0.0</td>\n",
       "      <td>0.0</td>\n",
       "      <td>0.0</td>\n",
       "      <td>0.0</td>\n",
       "      <td>...</td>\n",
       "      <td>0.0</td>\n",
       "      <td>0.0</td>\n",
       "      <td>0.0</td>\n",
       "      <td>0.0</td>\n",
       "      <td>True</td>\n",
       "      <td>{\\n  \"EMPLOYMENT\": \"UNKNOWN\",\\n  \"EMPLOYMENT_C...</td>\n",
       "      <td>UNKNOWN</td>\n",
       "      <td>True</td>\n",
       "      <td>False</td>\n",
       "      <td>False</td>\n",
       "    </tr>\n",
       "    <tr>\n",
       "      <th>2</th>\n",
       "      <td>2</td>\n",
       "      <td>Nursing</td>\n",
       "      <td>10954</td>\n",
       "      <td>401903</td>\n",
       "      <td>2</td>\n",
       "      <td>She was extubated the next day after a thorace...</td>\n",
       "      <td>0.0</td>\n",
       "      <td>0.0</td>\n",
       "      <td>0.0</td>\n",
       "      <td>0.0</td>\n",
       "      <td>...</td>\n",
       "      <td>0.0</td>\n",
       "      <td>0.0</td>\n",
       "      <td>0.0</td>\n",
       "      <td>0.0</td>\n",
       "      <td>True</td>\n",
       "      <td>{\\n  \"EMPLOYMENT\": \"UNKNOWN\",\\n  \"EMPLOYMENT_C...</td>\n",
       "      <td>UNKNOWN</td>\n",
       "      <td>True</td>\n",
       "      <td>False</td>\n",
       "      <td>False</td>\n",
       "    </tr>\n",
       "    <tr>\n",
       "      <th>3</th>\n",
       "      <td>3</td>\n",
       "      <td>Nursing</td>\n",
       "      <td>10954</td>\n",
       "      <td>401903</td>\n",
       "      <td>3</td>\n",
       "      <td>She was transferred to the medical service fro...</td>\n",
       "      <td>0.0</td>\n",
       "      <td>0.0</td>\n",
       "      <td>0.0</td>\n",
       "      <td>0.0</td>\n",
       "      <td>...</td>\n",
       "      <td>0.0</td>\n",
       "      <td>0.0</td>\n",
       "      <td>0.0</td>\n",
       "      <td>0.0</td>\n",
       "      <td>True</td>\n",
       "      <td>{\\n  \"EMPLOYMENT\": \"UNKNOWN\",\\n  \"EMPLOYMENT_C...</td>\n",
       "      <td>UNKNOWN</td>\n",
       "      <td>True</td>\n",
       "      <td>False</td>\n",
       "      <td>False</td>\n",
       "    </tr>\n",
       "    <tr>\n",
       "      <th>4</th>\n",
       "      <td>4</td>\n",
       "      <td>Nursing</td>\n",
       "      <td>10954</td>\n",
       "      <td>401903</td>\n",
       "      <td>4</td>\n",
       "      <td>Please see Vascular, SICU and Medicine admissi...</td>\n",
       "      <td>0.0</td>\n",
       "      <td>0.0</td>\n",
       "      <td>0.0</td>\n",
       "      <td>0.0</td>\n",
       "      <td>...</td>\n",
       "      <td>0.0</td>\n",
       "      <td>0.0</td>\n",
       "      <td>0.0</td>\n",
       "      <td>0.0</td>\n",
       "      <td>True</td>\n",
       "      <td>{\\n  \"EMPLOYMENT\": \"UNKNOWN\",\\n  \"EMPLOYMENT_C...</td>\n",
       "      <td>UNKNOWN</td>\n",
       "      <td>True</td>\n",
       "      <td>False</td>\n",
       "      <td>False</td>\n",
       "    </tr>\n",
       "  </tbody>\n",
       "</table>\n",
       "<p>5 rows × 32 columns</p>\n",
       "</div>"
      ],
      "text/plain": [
       "   index provider_type  patient_id  note_id  sentence_index  \\\n",
       "0      0       Nursing       10954   401903               0   \n",
       "1      1       Nursing       10954   401903               1   \n",
       "2      2       Nursing       10954   401903               2   \n",
       "3      3       Nursing       10954   401903               3   \n",
       "4      4       Nursing       10954   401903               4   \n",
       "\n",
       "                                                text  TRANSPORTATION_distance  \\\n",
       "0  Ms. [**Known lastname 11692**] is a 52 year ol...                      0.0   \n",
       "1  During her admission, she developed obtundatio...                      0.0   \n",
       "2  She was extubated the next day after a thorace...                      0.0   \n",
       "3  She was transferred to the medical service fro...                      0.0   \n",
       "4  Please see Vascular, SICU and Medicine admissi...                      0.0   \n",
       "\n",
       "   TRANSPORTATION_resource  TRANSPORTATION_other  HOUSING_poor  ...  \\\n",
       "0                      0.0                   0.0           0.0  ...   \n",
       "1                      0.0                   0.0           0.0  ...   \n",
       "2                      0.0                   0.0           0.0  ...   \n",
       "3                      0.0                   0.0           0.0  ...   \n",
       "4                      0.0                   0.0           0.0  ...   \n",
       "\n",
       "   EMPLOYMENT_student  SUPPORT_plus  SUPPORT_minus  PARENT  UNKNOWN  \\\n",
       "0                 0.0           0.0            0.0     0.0     True   \n",
       "1                 0.0           0.0            0.0     0.0     True   \n",
       "2                 0.0           0.0            0.0     0.0     True   \n",
       "3                 0.0           0.0            0.0     0.0     True   \n",
       "4                 0.0           0.0            0.0     0.0     True   \n",
       "\n",
       "                                            llm_text  llm_label_EMPLOYMENT  \\\n",
       "0  {\\n  \"EMPLOYMENT\": \"UNKNOWN\",\\n  \"EMPLOYMENT_C...               UNKNOWN   \n",
       "1  {\\n  \"EMPLOYMENT\": \"UNKNOWN\",\\n  \"EMPLOYMENT_C...               UNKNOWN   \n",
       "2  {\\n  \"EMPLOYMENT\": \"UNKNOWN\",\\n  \"EMPLOYMENT_C...               UNKNOWN   \n",
       "3  {\\n  \"EMPLOYMENT\": \"UNKNOWN\",\\n  \"EMPLOYMENT_C...               UNKNOWN   \n",
       "4  {\\n  \"EMPLOYMENT\": \"UNKNOWN\",\\n  \"EMPLOYMENT_C...               UNKNOWN   \n",
       "\n",
       "   llm_label_UNKNOWN  EMPLOYMENT_nonadverse  EMPLOYMENT_adverse  \n",
       "0               True                  False               False  \n",
       "1               True                  False               False  \n",
       "2               True                  False               False  \n",
       "3               True                  False               False  \n",
       "4               True                  False               False  \n",
       "\n",
       "[5 rows x 32 columns]"
      ]
     },
     "execution_count": 3,
     "metadata": {},
     "output_type": "execute_result"
    }
   ],
   "source": [
    "employment_ground_truth.head()"
   ]
  },
  {
   "cell_type": "code",
   "execution_count": 4,
   "metadata": {},
   "outputs": [
    {
     "data": {
      "text/html": [
       "<div>\n",
       "<style scoped>\n",
       "    .dataframe tbody tr th:only-of-type {\n",
       "        vertical-align: middle;\n",
       "    }\n",
       "\n",
       "    .dataframe tbody tr th {\n",
       "        vertical-align: top;\n",
       "    }\n",
       "\n",
       "    .dataframe thead th {\n",
       "        text-align: right;\n",
       "    }\n",
       "</style>\n",
       "<table border=\"1\" class=\"dataframe\">\n",
       "  <thead>\n",
       "    <tr style=\"text-align: right;\">\n",
       "      <th></th>\n",
       "      <th>index</th>\n",
       "      <th>provider_type</th>\n",
       "      <th>patient_id</th>\n",
       "      <th>note_id</th>\n",
       "      <th>sentence_index</th>\n",
       "      <th>text</th>\n",
       "      <th>TRANSPORTATION_distance</th>\n",
       "      <th>TRANSPORTATION_resource</th>\n",
       "      <th>TRANSPORTATION_other</th>\n",
       "      <th>HOUSING_poor</th>\n",
       "      <th>...</th>\n",
       "      <th>SUPPORT_plus</th>\n",
       "      <th>SUPPORT_minus</th>\n",
       "      <th>PARENT</th>\n",
       "      <th>UNKNOWN</th>\n",
       "      <th>llm_text</th>\n",
       "      <th>llm_label_marital_status</th>\n",
       "      <th>llm_label_RELATIONSHIP</th>\n",
       "      <th>llm_label_UNKNOWN</th>\n",
       "      <th>RELATIONSHIP_nonadverse</th>\n",
       "      <th>RELATIONSHIP_adverse</th>\n",
       "    </tr>\n",
       "  </thead>\n",
       "  <tbody>\n",
       "    <tr>\n",
       "      <th>0</th>\n",
       "      <td>0</td>\n",
       "      <td>Nursing</td>\n",
       "      <td>10954</td>\n",
       "      <td>401903</td>\n",
       "      <td>0</td>\n",
       "      <td>Ms. [**Known lastname 11692**] is a 52 year ol...</td>\n",
       "      <td>0.0</td>\n",
       "      <td>0.0</td>\n",
       "      <td>0.0</td>\n",
       "      <td>0.0</td>\n",
       "      <td>...</td>\n",
       "      <td>0.0</td>\n",
       "      <td>0.0</td>\n",
       "      <td>0.0</td>\n",
       "      <td>True</td>\n",
       "      <td>{\\n  \"marital_status\": \"UNKNOWN\",\\n  \"marital_...</td>\n",
       "      <td>UNKNOWN</td>\n",
       "      <td>UNKNOWN</td>\n",
       "      <td>True</td>\n",
       "      <td>False</td>\n",
       "      <td>False</td>\n",
       "    </tr>\n",
       "    <tr>\n",
       "      <th>1</th>\n",
       "      <td>1</td>\n",
       "      <td>Nursing</td>\n",
       "      <td>10954</td>\n",
       "      <td>401903</td>\n",
       "      <td>1</td>\n",
       "      <td>During her admission, she developed obtundatio...</td>\n",
       "      <td>0.0</td>\n",
       "      <td>0.0</td>\n",
       "      <td>0.0</td>\n",
       "      <td>0.0</td>\n",
       "      <td>...</td>\n",
       "      <td>0.0</td>\n",
       "      <td>0.0</td>\n",
       "      <td>0.0</td>\n",
       "      <td>True</td>\n",
       "      <td>{\\n  \"marital_status\": \"UNKNOWN\",\\n  \"marital_...</td>\n",
       "      <td>UNKNOWN</td>\n",
       "      <td>UNKNOWN</td>\n",
       "      <td>True</td>\n",
       "      <td>False</td>\n",
       "      <td>False</td>\n",
       "    </tr>\n",
       "    <tr>\n",
       "      <th>2</th>\n",
       "      <td>2</td>\n",
       "      <td>Nursing</td>\n",
       "      <td>10954</td>\n",
       "      <td>401903</td>\n",
       "      <td>2</td>\n",
       "      <td>She was extubated the next day after a thorace...</td>\n",
       "      <td>0.0</td>\n",
       "      <td>0.0</td>\n",
       "      <td>0.0</td>\n",
       "      <td>0.0</td>\n",
       "      <td>...</td>\n",
       "      <td>0.0</td>\n",
       "      <td>0.0</td>\n",
       "      <td>0.0</td>\n",
       "      <td>True</td>\n",
       "      <td>{\\n  \"marital_status\": \"UNKNOWN\",\\n  \"marital_...</td>\n",
       "      <td>UNKNOWN</td>\n",
       "      <td>UNKNOWN</td>\n",
       "      <td>True</td>\n",
       "      <td>False</td>\n",
       "      <td>False</td>\n",
       "    </tr>\n",
       "    <tr>\n",
       "      <th>3</th>\n",
       "      <td>3</td>\n",
       "      <td>Nursing</td>\n",
       "      <td>10954</td>\n",
       "      <td>401903</td>\n",
       "      <td>3</td>\n",
       "      <td>She was transferred to the medical service fro...</td>\n",
       "      <td>0.0</td>\n",
       "      <td>0.0</td>\n",
       "      <td>0.0</td>\n",
       "      <td>0.0</td>\n",
       "      <td>...</td>\n",
       "      <td>0.0</td>\n",
       "      <td>0.0</td>\n",
       "      <td>0.0</td>\n",
       "      <td>True</td>\n",
       "      <td>{\\n  \"marital_status\": \"UNKNOWN\",\\n  \"marital_...</td>\n",
       "      <td>UNKNOWN</td>\n",
       "      <td>UNKNOWN</td>\n",
       "      <td>True</td>\n",
       "      <td>False</td>\n",
       "      <td>False</td>\n",
       "    </tr>\n",
       "    <tr>\n",
       "      <th>4</th>\n",
       "      <td>4</td>\n",
       "      <td>Nursing</td>\n",
       "      <td>10954</td>\n",
       "      <td>401903</td>\n",
       "      <td>4</td>\n",
       "      <td>Please see Vascular, SICU and Medicine admissi...</td>\n",
       "      <td>0.0</td>\n",
       "      <td>0.0</td>\n",
       "      <td>0.0</td>\n",
       "      <td>0.0</td>\n",
       "      <td>...</td>\n",
       "      <td>0.0</td>\n",
       "      <td>0.0</td>\n",
       "      <td>0.0</td>\n",
       "      <td>True</td>\n",
       "      <td>{\\n  \"marital_status\": \"UNKNOWN\",\\n  \"marital_...</td>\n",
       "      <td>UNKNOWN</td>\n",
       "      <td>UNKNOWN</td>\n",
       "      <td>True</td>\n",
       "      <td>False</td>\n",
       "      <td>False</td>\n",
       "    </tr>\n",
       "  </tbody>\n",
       "</table>\n",
       "<p>5 rows × 33 columns</p>\n",
       "</div>"
      ],
      "text/plain": [
       "   index provider_type  patient_id  note_id  sentence_index  \\\n",
       "0      0       Nursing       10954   401903               0   \n",
       "1      1       Nursing       10954   401903               1   \n",
       "2      2       Nursing       10954   401903               2   \n",
       "3      3       Nursing       10954   401903               3   \n",
       "4      4       Nursing       10954   401903               4   \n",
       "\n",
       "                                                text  TRANSPORTATION_distance  \\\n",
       "0  Ms. [**Known lastname 11692**] is a 52 year ol...                      0.0   \n",
       "1  During her admission, she developed obtundatio...                      0.0   \n",
       "2  She was extubated the next day after a thorace...                      0.0   \n",
       "3  She was transferred to the medical service fro...                      0.0   \n",
       "4  Please see Vascular, SICU and Medicine admissi...                      0.0   \n",
       "\n",
       "   TRANSPORTATION_resource  TRANSPORTATION_other  HOUSING_poor  ...  \\\n",
       "0                      0.0                   0.0           0.0  ...   \n",
       "1                      0.0                   0.0           0.0  ...   \n",
       "2                      0.0                   0.0           0.0  ...   \n",
       "3                      0.0                   0.0           0.0  ...   \n",
       "4                      0.0                   0.0           0.0  ...   \n",
       "\n",
       "   SUPPORT_plus  SUPPORT_minus  PARENT  UNKNOWN  \\\n",
       "0           0.0            0.0     0.0     True   \n",
       "1           0.0            0.0     0.0     True   \n",
       "2           0.0            0.0     0.0     True   \n",
       "3           0.0            0.0     0.0     True   \n",
       "4           0.0            0.0     0.0     True   \n",
       "\n",
       "                                            llm_text  \\\n",
       "0  {\\n  \"marital_status\": \"UNKNOWN\",\\n  \"marital_...   \n",
       "1  {\\n  \"marital_status\": \"UNKNOWN\",\\n  \"marital_...   \n",
       "2  {\\n  \"marital_status\": \"UNKNOWN\",\\n  \"marital_...   \n",
       "3  {\\n  \"marital_status\": \"UNKNOWN\",\\n  \"marital_...   \n",
       "4  {\\n  \"marital_status\": \"UNKNOWN\",\\n  \"marital_...   \n",
       "\n",
       "   llm_label_marital_status  llm_label_RELATIONSHIP  llm_label_UNKNOWN  \\\n",
       "0                   UNKNOWN                 UNKNOWN               True   \n",
       "1                   UNKNOWN                 UNKNOWN               True   \n",
       "2                   UNKNOWN                 UNKNOWN               True   \n",
       "3                   UNKNOWN                 UNKNOWN               True   \n",
       "4                   UNKNOWN                 UNKNOWN               True   \n",
       "\n",
       "   RELATIONSHIP_nonadverse  RELATIONSHIP_adverse  \n",
       "0                    False                 False  \n",
       "1                    False                 False  \n",
       "2                    False                 False  \n",
       "3                    False                 False  \n",
       "4                    False                 False  \n",
       "\n",
       "[5 rows x 33 columns]"
      ]
     },
     "execution_count": 4,
     "metadata": {},
     "output_type": "execute_result"
    }
   ],
   "source": [
    "relation_ground_truth.head()"
   ]
  },
  {
   "cell_type": "code",
   "execution_count": 5,
   "metadata": {},
   "outputs": [
    {
     "data": {
      "text/plain": [
       "Index(['index', 'provider_type', 'patient_id', 'note_id', 'sentence_index',\n",
       "       'text', 'TRANSPORTATION_distance', 'TRANSPORTATION_resource',\n",
       "       'TRANSPORTATION_other', 'HOUSING_poor', 'HOUSING_undomiciled',\n",
       "       'HOUSING_other', 'RELATIONSHIP_married', 'RELATIONSHIP_partnered',\n",
       "       'RELATIONSHIP_divorced', 'RELATIONSHIP_widowed', 'RELATIONSHIP_single',\n",
       "       'EMPLOYMENT_employed', 'EMPLOYMENT_underemployed',\n",
       "       'EMPLOYMENT_unemployed', 'EMPLOYMENT_disability', 'EMPLOYMENT_retired',\n",
       "       'EMPLOYMENT_student', 'SUPPORT_plus', 'SUPPORT_minus', 'PARENT',\n",
       "       'UNKNOWN', 'llm_text', 'llm_label_EMPLOYMENT', 'llm_label_UNKNOWN',\n",
       "       'EMPLOYMENT_nonadverse', 'EMPLOYMENT_adverse'],\n",
       "      dtype='object')"
      ]
     },
     "execution_count": 5,
     "metadata": {},
     "output_type": "execute_result"
    }
   ],
   "source": [
    "employment_ground_truth.columns"
   ]
  },
  {
   "cell_type": "code",
   "execution_count": 6,
   "metadata": {},
   "outputs": [
    {
     "data": {
      "text/plain": [
       "Index(['index', 'provider_type', 'patient_id', 'note_id', 'sentence_index',\n",
       "       'text', 'TRANSPORTATION_distance', 'TRANSPORTATION_resource',\n",
       "       'TRANSPORTATION_other', 'HOUSING_poor', 'HOUSING_undomiciled',\n",
       "       'HOUSING_other', 'RELATIONSHIP_married', 'RELATIONSHIP_partnered',\n",
       "       'RELATIONSHIP_divorced', 'RELATIONSHIP_widowed', 'RELATIONSHIP_single',\n",
       "       'EMPLOYMENT_employed', 'EMPLOYMENT_underemployed',\n",
       "       'EMPLOYMENT_unemployed', 'EMPLOYMENT_disability', 'EMPLOYMENT_retired',\n",
       "       'EMPLOYMENT_student', 'SUPPORT_plus', 'SUPPORT_minus', 'PARENT',\n",
       "       'UNKNOWN', 'llm_text', 'llm_label_marital_status',\n",
       "       'llm_label_RELATIONSHIP', 'llm_label_UNKNOWN',\n",
       "       'RELATIONSHIP_nonadverse', 'RELATIONSHIP_adverse'],\n",
       "      dtype='object')"
      ]
     },
     "execution_count": 6,
     "metadata": {},
     "output_type": "execute_result"
    }
   ],
   "source": [
    "relation_ground_truth.columns"
   ]
  },
  {
   "cell_type": "code",
   "execution_count": 7,
   "metadata": {},
   "outputs": [],
   "source": [
    "relation_df = relation_ground_truth[['RELATIONSHIP_nonadverse', 'RELATIONSHIP_adverse']]"
   ]
  },
  {
   "cell_type": "code",
   "execution_count": 8,
   "metadata": {},
   "outputs": [],
   "source": [
    "final_df = employment_ground_truth.join(relation_df, on='index', how='left')"
   ]
  },
  {
   "cell_type": "code",
   "execution_count": 9,
   "metadata": {},
   "outputs": [
    {
     "data": {
      "text/html": [
       "<div>\n",
       "<style scoped>\n",
       "    .dataframe tbody tr th:only-of-type {\n",
       "        vertical-align: middle;\n",
       "    }\n",
       "\n",
       "    .dataframe tbody tr th {\n",
       "        vertical-align: top;\n",
       "    }\n",
       "\n",
       "    .dataframe thead th {\n",
       "        text-align: right;\n",
       "    }\n",
       "</style>\n",
       "<table border=\"1\" class=\"dataframe\">\n",
       "  <thead>\n",
       "    <tr style=\"text-align: right;\">\n",
       "      <th></th>\n",
       "      <th>index</th>\n",
       "      <th>provider_type</th>\n",
       "      <th>patient_id</th>\n",
       "      <th>note_id</th>\n",
       "      <th>sentence_index</th>\n",
       "      <th>text</th>\n",
       "      <th>TRANSPORTATION_distance</th>\n",
       "      <th>TRANSPORTATION_resource</th>\n",
       "      <th>TRANSPORTATION_other</th>\n",
       "      <th>HOUSING_poor</th>\n",
       "      <th>...</th>\n",
       "      <th>SUPPORT_minus</th>\n",
       "      <th>PARENT</th>\n",
       "      <th>UNKNOWN</th>\n",
       "      <th>llm_text</th>\n",
       "      <th>llm_label_EMPLOYMENT</th>\n",
       "      <th>llm_label_UNKNOWN</th>\n",
       "      <th>EMPLOYMENT_nonadverse</th>\n",
       "      <th>EMPLOYMENT_adverse</th>\n",
       "      <th>RELATIONSHIP_nonadverse</th>\n",
       "      <th>RELATIONSHIP_adverse</th>\n",
       "    </tr>\n",
       "  </thead>\n",
       "  <tbody>\n",
       "    <tr>\n",
       "      <th>0</th>\n",
       "      <td>0</td>\n",
       "      <td>Nursing</td>\n",
       "      <td>10954</td>\n",
       "      <td>401903</td>\n",
       "      <td>0</td>\n",
       "      <td>Ms. [**Known lastname 11692**] is a 52 year ol...</td>\n",
       "      <td>0.0</td>\n",
       "      <td>0.0</td>\n",
       "      <td>0.0</td>\n",
       "      <td>0.0</td>\n",
       "      <td>...</td>\n",
       "      <td>0.0</td>\n",
       "      <td>0.0</td>\n",
       "      <td>True</td>\n",
       "      <td>{\\n  \"EMPLOYMENT\": \"UNKNOWN\",\\n  \"EMPLOYMENT_C...</td>\n",
       "      <td>UNKNOWN</td>\n",
       "      <td>True</td>\n",
       "      <td>False</td>\n",
       "      <td>False</td>\n",
       "      <td>False</td>\n",
       "      <td>False</td>\n",
       "    </tr>\n",
       "    <tr>\n",
       "      <th>1</th>\n",
       "      <td>1</td>\n",
       "      <td>Nursing</td>\n",
       "      <td>10954</td>\n",
       "      <td>401903</td>\n",
       "      <td>1</td>\n",
       "      <td>During her admission, she developed obtundatio...</td>\n",
       "      <td>0.0</td>\n",
       "      <td>0.0</td>\n",
       "      <td>0.0</td>\n",
       "      <td>0.0</td>\n",
       "      <td>...</td>\n",
       "      <td>0.0</td>\n",
       "      <td>0.0</td>\n",
       "      <td>True</td>\n",
       "      <td>{\\n  \"EMPLOYMENT\": \"UNKNOWN\",\\n  \"EMPLOYMENT_C...</td>\n",
       "      <td>UNKNOWN</td>\n",
       "      <td>True</td>\n",
       "      <td>False</td>\n",
       "      <td>False</td>\n",
       "      <td>False</td>\n",
       "      <td>False</td>\n",
       "    </tr>\n",
       "    <tr>\n",
       "      <th>2</th>\n",
       "      <td>2</td>\n",
       "      <td>Nursing</td>\n",
       "      <td>10954</td>\n",
       "      <td>401903</td>\n",
       "      <td>2</td>\n",
       "      <td>She was extubated the next day after a thorace...</td>\n",
       "      <td>0.0</td>\n",
       "      <td>0.0</td>\n",
       "      <td>0.0</td>\n",
       "      <td>0.0</td>\n",
       "      <td>...</td>\n",
       "      <td>0.0</td>\n",
       "      <td>0.0</td>\n",
       "      <td>True</td>\n",
       "      <td>{\\n  \"EMPLOYMENT\": \"UNKNOWN\",\\n  \"EMPLOYMENT_C...</td>\n",
       "      <td>UNKNOWN</td>\n",
       "      <td>True</td>\n",
       "      <td>False</td>\n",
       "      <td>False</td>\n",
       "      <td>False</td>\n",
       "      <td>False</td>\n",
       "    </tr>\n",
       "    <tr>\n",
       "      <th>3</th>\n",
       "      <td>3</td>\n",
       "      <td>Nursing</td>\n",
       "      <td>10954</td>\n",
       "      <td>401903</td>\n",
       "      <td>3</td>\n",
       "      <td>She was transferred to the medical service fro...</td>\n",
       "      <td>0.0</td>\n",
       "      <td>0.0</td>\n",
       "      <td>0.0</td>\n",
       "      <td>0.0</td>\n",
       "      <td>...</td>\n",
       "      <td>0.0</td>\n",
       "      <td>0.0</td>\n",
       "      <td>True</td>\n",
       "      <td>{\\n  \"EMPLOYMENT\": \"UNKNOWN\",\\n  \"EMPLOYMENT_C...</td>\n",
       "      <td>UNKNOWN</td>\n",
       "      <td>True</td>\n",
       "      <td>False</td>\n",
       "      <td>False</td>\n",
       "      <td>False</td>\n",
       "      <td>False</td>\n",
       "    </tr>\n",
       "    <tr>\n",
       "      <th>4</th>\n",
       "      <td>4</td>\n",
       "      <td>Nursing</td>\n",
       "      <td>10954</td>\n",
       "      <td>401903</td>\n",
       "      <td>4</td>\n",
       "      <td>Please see Vascular, SICU and Medicine admissi...</td>\n",
       "      <td>0.0</td>\n",
       "      <td>0.0</td>\n",
       "      <td>0.0</td>\n",
       "      <td>0.0</td>\n",
       "      <td>...</td>\n",
       "      <td>0.0</td>\n",
       "      <td>0.0</td>\n",
       "      <td>True</td>\n",
       "      <td>{\\n  \"EMPLOYMENT\": \"UNKNOWN\",\\n  \"EMPLOYMENT_C...</td>\n",
       "      <td>UNKNOWN</td>\n",
       "      <td>True</td>\n",
       "      <td>False</td>\n",
       "      <td>False</td>\n",
       "      <td>False</td>\n",
       "      <td>False</td>\n",
       "    </tr>\n",
       "  </tbody>\n",
       "</table>\n",
       "<p>5 rows × 34 columns</p>\n",
       "</div>"
      ],
      "text/plain": [
       "   index provider_type  patient_id  note_id  sentence_index  \\\n",
       "0      0       Nursing       10954   401903               0   \n",
       "1      1       Nursing       10954   401903               1   \n",
       "2      2       Nursing       10954   401903               2   \n",
       "3      3       Nursing       10954   401903               3   \n",
       "4      4       Nursing       10954   401903               4   \n",
       "\n",
       "                                                text  TRANSPORTATION_distance  \\\n",
       "0  Ms. [**Known lastname 11692**] is a 52 year ol...                      0.0   \n",
       "1  During her admission, she developed obtundatio...                      0.0   \n",
       "2  She was extubated the next day after a thorace...                      0.0   \n",
       "3  She was transferred to the medical service fro...                      0.0   \n",
       "4  Please see Vascular, SICU and Medicine admissi...                      0.0   \n",
       "\n",
       "   TRANSPORTATION_resource  TRANSPORTATION_other  HOUSING_poor  ...  \\\n",
       "0                      0.0                   0.0           0.0  ...   \n",
       "1                      0.0                   0.0           0.0  ...   \n",
       "2                      0.0                   0.0           0.0  ...   \n",
       "3                      0.0                   0.0           0.0  ...   \n",
       "4                      0.0                   0.0           0.0  ...   \n",
       "\n",
       "   SUPPORT_minus  PARENT  UNKNOWN  \\\n",
       "0            0.0     0.0     True   \n",
       "1            0.0     0.0     True   \n",
       "2            0.0     0.0     True   \n",
       "3            0.0     0.0     True   \n",
       "4            0.0     0.0     True   \n",
       "\n",
       "                                            llm_text  llm_label_EMPLOYMENT  \\\n",
       "0  {\\n  \"EMPLOYMENT\": \"UNKNOWN\",\\n  \"EMPLOYMENT_C...               UNKNOWN   \n",
       "1  {\\n  \"EMPLOYMENT\": \"UNKNOWN\",\\n  \"EMPLOYMENT_C...               UNKNOWN   \n",
       "2  {\\n  \"EMPLOYMENT\": \"UNKNOWN\",\\n  \"EMPLOYMENT_C...               UNKNOWN   \n",
       "3  {\\n  \"EMPLOYMENT\": \"UNKNOWN\",\\n  \"EMPLOYMENT_C...               UNKNOWN   \n",
       "4  {\\n  \"EMPLOYMENT\": \"UNKNOWN\",\\n  \"EMPLOYMENT_C...               UNKNOWN   \n",
       "\n",
       "   llm_label_UNKNOWN  EMPLOYMENT_nonadverse  EMPLOYMENT_adverse  \\\n",
       "0               True                  False               False   \n",
       "1               True                  False               False   \n",
       "2               True                  False               False   \n",
       "3               True                  False               False   \n",
       "4               True                  False               False   \n",
       "\n",
       "   RELATIONSHIP_nonadverse  RELATIONSHIP_adverse  \n",
       "0                    False                 False  \n",
       "1                    False                 False  \n",
       "2                    False                 False  \n",
       "3                    False                 False  \n",
       "4                    False                 False  \n",
       "\n",
       "[5 rows x 34 columns]"
      ]
     },
     "execution_count": 9,
     "metadata": {},
     "output_type": "execute_result"
    }
   ],
   "source": [
    "final_df.head()"
   ]
  },
  {
   "cell_type": "code",
   "execution_count": 10,
   "metadata": {},
   "outputs": [],
   "source": [
    "with open('azure_credentials.json', 'r') as file:\n",
    "    azure_data = json.load(file)\n",
    "    api_key = azure_data['API_KEY']\n",
    "    api_version = azure_data['API_VERSION']\n",
    "    azure_endpoint = azure_data['AZURE_ENDPOINT']\n",
    "    azure_deployment_name = azure_data['AZURE_DEPLOYMENT_NAME']\n",
    "\n",
    "client = AzureOpenAI(\n",
    "    api_key=api_key,\n",
    "    api_version=api_version,\n",
    "    azure_endpoint = azure_endpoint\n",
    "    )\n",
    "\n",
    "deployment_name=azure_deployment_name #This will correspond to the custom name you chose for your deployment when you deployed a model. Use a gpt-35-turbo-instruct deployment.\n",
    "\n",
    "# Defining a function to create the prompt from the instruction system message, the few-shot examples, and the current query\n",
    "def create_prompt(system_message, user_message):    \n",
    "    formatted_message = [\n",
    "        {\"role\": \"system\", \"content\": system_message},\n",
    "        {\"role\": \"user\", \"content\": user_message}\n",
    "    ]\n",
    "    \n",
    "    return formatted_message\n",
    "\n",
    "# This function sends the prompt to the GPT model\n",
    "def send_message(message, model_name, max_response_tokens=500):\n",
    "    response = client.chat.completions.create(\n",
    "        model=model_name,\n",
    "        messages=message,\n",
    "        temperature=0,\n",
    "        max_tokens=max_response_tokens,\n",
    "        top_p=0.95,\n",
    "        frequency_penalty=0,\n",
    "        presence_penalty=0,\n",
    "        stop=None\n",
    "    )\n",
    "    \n",
    "    return response\n",
    "    # return response.choices[0].message.content.strip()"
   ]
  },
  {
   "cell_type": "code",
   "execution_count": 67,
   "metadata": {},
   "outputs": [],
   "source": [
    "step1_query_optimized = '''\n",
    "You are given a free-text clinical note (<<text>>) from electronic health records. For each of the following categories, determine the attribute that accurately describes the status of the patient at the time of <<text>>. The category is shown in double quote and the attributes are shown in square brackets: \n",
    "\n",
    "1. \"EMPLOYMENT\": [\"Employed\", \"Underemployed\", \"Unemployed\", \"Disability\", \"Retired\", \"Student\"];\n",
    "2. \"TRANSPORTATION\": [\"Distance\", \"Resource\"];\n",
    "3. \"HOUSING\": [\"Poor\", \"Undomiciled\"];\n",
    "4. \"MARITAL_STATUS\": [\"Married\", \"Partnered\", \"Divorced\", \"Widowed\", \"Single\"];\n",
    "5. \"RELATIONSHIP_CONDITION\": [\"NonAdverse\", \"Adverse\"];\n",
    "6. \"EMPLOYMENT_CONDITION\": [\"NonAdverse\", \"Adverse\"];\n",
    "\n",
    "Do not infer the impact of <<text>> onto the attributes, instead focus on the factual information only which is present at the time of <<text>>.\n",
    "\n",
    "Your final response must contain only ONE word i.e., \"YES\" if atleast one attribute is detected from any category else \"NO\". \n",
    "\n",
    "Input: <<{free_text}>>\n",
    "Result:\n",
    "'''"
   ]
  },
  {
   "cell_type": "code",
   "execution_count": 71,
   "metadata": {},
   "outputs": [
    {
     "name": "stdout",
     "output_type": "stream",
     "text": [
      "Occupation: Student at [**Doctor Last Name 803**] College Drugs: None Tobacco: None Alcohol: Occcassional Other: Originally from [**State 1698**] Review of systems: Constitutional: Fatigue, No(t) Fever Eyes: No(t)  Blurry vision Ear, Nose, Throat: Dry mouth Cardiovascular: No(t) Chest pain, No(t) Palpitations, No(t) Edema, Tachycardia, No(t) Orthopnea Respiratory: No(t) Cough, No(t) Dyspnea, No(t) Tachypnea, No(t) Wheeze Gastrointestinal: No(t) Abdominal pain, No(t) Nausea, No(t) Emesis, No(t) Diarrhea, No(t) Constipation Genitourinary: Foley Musculoskeletal: No(t) Joint pain, No(t) Myalgias Integumentary (skin): No(t) Jaundice, No(t) Rash Endocrine: Hyperglycemia Heme / Lymph: No(t) Anemia Neurologic: No(t) Numbness / tingling, No(t) Headache Allergy / Immunology: No(t) Immunocompromised Pain: No pain / appears comfortable Flowsheet Data as of [**2142-5-15**] 08:29 AM Vital Signs Hemodynamic monitoring Fluid Balance 24 hours Since 12 AM Total In: PO: TF: IVF: Blood products: Total out: 0 mL 0 mL Urine: NG: Stool: Drains: Balance: 0 mL 0 mL Respiratory Physical Examination General Appearance: Well nourished, No acute distress Eyes / Conjunctiva: PERRL, No(t) Pupils dilated Head, Ears, Nose, Throat: Normocephalic Lymphatic: Cervical WNL, Supraclavicular WNL Cardiovascular: (PMI Hyperdynamic), (S1: Normal), (S2: Normal), No(t) S3, No(t) S4, (Murmur: No(t) Systolic, No(t) Diastolic) Peripheral Vascular: (Right radial pulse: Present), (Left radial pulse: Present), (Right DP pulse: Present), (Left DP pulse: Present) Respiratory / Chest: (Expansion: Symmetric),\n",
      "YES\n"
     ]
    }
   ],
   "source": [
    "free_text = final_df[final_df['EMPLOYMENT_nonadverse'] == True].iloc[2].text\n",
    "print(free_text)\n",
    "system_message = \"You are an information extract tool that follows instructions very well and is specifically trained to extract social determinants of health elements from hospital generated free-text.\"\n",
    "user_message = step1_query_optimized.format(free_text=free_text)\n",
    "openai_message = create_prompt(system_message, user_message)\n",
    "response = send_message(openai_message, deployment_name)\n",
    "print(response.choices[0].message.content)"
   ]
  },
  {
   "cell_type": "code",
   "execution_count": 72,
   "metadata": {},
   "outputs": [
    {
     "name": "stdout",
     "output_type": "stream",
     "text": [
      "Occupation: Student at [**Doctor Last Name 803**] College Drugs: None Tobacco: None Alcohol: Occcassional Other: Originally from [**State 1698**] Review of systems: Constitutional: Fatigue, No(t) Fever Eyes: No(t)  Blurry vision Ear, Nose, Throat: Dry mouth Cardiovascular: No(t) Chest pain, No(t) Palpitations, No(t) Edema, Tachycardia, No(t) Orthopnea Respiratory: No(t) Cough, No(t) Dyspnea, No(t) Tachypnea, No(t) Wheeze Gastrointestinal: No(t) Abdominal pain, No(t) Nausea, No(t) Emesis, No(t) Diarrhea, No(t) Constipation Genitourinary: Foley Musculoskeletal: No(t) Joint pain, No(t) Myalgias Integumentary (skin): No(t) Jaundice, No(t) Rash Endocrine: Hyperglycemia Heme / Lymph: No(t) Anemia Neurologic: No(t) Numbness / tingling, No(t) Headache Allergy / Immunology: No(t) Immunocompromised Pain: No pain / appears comfortable Flowsheet Data as of [**2142-5-15**] 08:29 AM Vital Signs Hemodynamic monitoring Fluid Balance 24 hours Since 12 AM Total In: PO: TF: IVF: Blood products: Total out: 0 mL 0 mL Urine: NG: Stool: Drains: Balance: 0 mL 0 mL Respiratory Physical Examination General Appearance: Well nourished, No acute distress Eyes / Conjunctiva: PERRL, No(t) Pupils dilated Head, Ears, Nose, Throat: Normocephalic Lymphatic: Cervical WNL, Supraclavicular WNL Cardiovascular: (PMI Hyperdynamic), (S1: Normal), (S2: Normal), No(t) S3, No(t) S4, (Murmur: No(t) Systolic, No(t) Diastolic) Peripheral Vascular: (Right radial pulse: Present), (Left radial pulse: Present), (Right DP pulse: Present), (Left DP pulse: Present) Respiratory / Chest: (Expansion: Symmetric),\n",
      "{\n",
      "  \"EMPLOYMENT\": \"Student\",\n",
      "  \"EMPLOYMENT_CD\": 1.0,\n",
      "  \"EMPLOYMENT_evidence\": \"Occupation: Student at [**Doctor Last Name 803**] College\"\n",
      "}\n",
      "{\n",
      "  \"TRANSPORTATION\": \"UNKNOWN\",\n",
      "  \"TRANSPORTATION_CD\": 1.0,\n",
      "  \"TRANSPORTATION_evidence\": \"\"\n",
      "}\n",
      "{\n",
      "  \"HOUSING\": \"UNKNOWN\",\n",
      "  \"HOUSING_CD\": 1.0,\n",
      "  \"HOUSING_evidence\": \"\"\n",
      "}\n",
      "{\n",
      "  \"MARITAL_STATUS\": \"UNKNOWN\",\n",
      "  \"MARITAL_STATUS_CD\": 1.0,\n",
      "  \"MARITAL_STATUS_evidence\": \"\"\n",
      "}\n",
      "{\n",
      "  \"RELATIONSHIP_CONDITION\": \"UNKNOWN\",\n",
      "  \"RELATIONSHIP_CONDITION_CD\": 1.0,\n",
      "  \"RELATIONSHIP_CONDITION_evidence\": \"\"\n",
      "}\n",
      "{\n",
      "  \"EMPLOYMENT_CONDITION\": \"UNKNOWN\",\n",
      "  \"EMPLOYMENT_CONDITION_CD\": 1.0,\n",
      "  \"EMPLOYMENT_CONDITION_evidence\": \"\"\n",
      "}\n"
     ]
    }
   ],
   "source": [
    "free_text = final_df[final_df['EMPLOYMENT_nonadverse'] == True].iloc[2].text\n",
    "print(free_text)\n",
    "system_message = \"You are an information extract tool that follows instructions very well and is specifically trained to extract social determinants of health elements from hospital generated free-text.\"\n",
    "user_message = step1_query.format(free_text=free_text)\n",
    "openai_message = create_prompt(system_message, user_message)\n",
    "response = send_message(openai_message, deployment_name)\n",
    "print(response.choices[0].message.content)"
   ]
  },
  {
   "cell_type": "code",
   "execution_count": 81,
   "metadata": {},
   "outputs": [
    {
     "data": {
      "text/plain": [
       "EMPLOYMENT_nonadverse\n",
       "False    5276\n",
       "True       45\n",
       "Name: count, dtype: int64"
      ]
     },
     "execution_count": 81,
     "metadata": {},
     "output_type": "execute_result"
    }
   ],
   "source": [
    "final_df['EMPLOYMENT_nonadverse'].value_counts()"
   ]
  },
  {
   "cell_type": "code",
   "execution_count": 82,
   "metadata": {},
   "outputs": [
    {
     "data": {
      "text/plain": [
       "EMPLOYMENT_adverse\n",
       "False    5299\n",
       "True       22\n",
       "Name: count, dtype: int64"
      ]
     },
     "execution_count": 82,
     "metadata": {},
     "output_type": "execute_result"
    }
   ],
   "source": [
    "final_df['EMPLOYMENT_adverse'].value_counts()"
   ]
  },
  {
   "cell_type": "code",
   "execution_count": 83,
   "metadata": {},
   "outputs": [
    {
     "data": {
      "text/plain": [
       "RELATIONSHIP_nonadverse\n",
       "False    5157\n",
       "True      157\n",
       "Name: count, dtype: int64"
      ]
     },
     "execution_count": 83,
     "metadata": {},
     "output_type": "execute_result"
    }
   ],
   "source": [
    "final_df['RELATIONSHIP_nonadverse'].value_counts()"
   ]
  },
  {
   "cell_type": "code",
   "execution_count": 84,
   "metadata": {},
   "outputs": [
    {
     "data": {
      "text/plain": [
       "RELATIONSHIP_adverse\n",
       "False    5291\n",
       "True       23\n",
       "Name: count, dtype: int64"
      ]
     },
     "execution_count": 84,
     "metadata": {},
     "output_type": "execute_result"
    }
   ],
   "source": [
    "final_df['RELATIONSHIP_adverse'].value_counts()"
   ]
  },
  {
   "cell_type": "code",
   "execution_count": 63,
   "metadata": {},
   "outputs": [
    {
     "data": {
      "text/plain": [
       "TRANSPORTATION_distance\n",
       "0.0    5319\n",
       "1.0       2\n",
       "Name: count, dtype: int64"
      ]
     },
     "execution_count": 63,
     "metadata": {},
     "output_type": "execute_result"
    }
   ],
   "source": [
    "final_df['TRANSPORTATION_distance'].value_counts()"
   ]
  },
  {
   "cell_type": "code",
   "execution_count": 64,
   "metadata": {},
   "outputs": [
    {
     "data": {
      "text/plain": [
       "TRANSPORTATION_resource\n",
       "0.0    5321\n",
       "Name: count, dtype: int64"
      ]
     },
     "execution_count": 64,
     "metadata": {},
     "output_type": "execute_result"
    }
   ],
   "source": [
    "final_df['TRANSPORTATION_resource'].value_counts()"
   ]
  },
  {
   "cell_type": "code",
   "execution_count": 65,
   "metadata": {},
   "outputs": [
    {
     "data": {
      "text/plain": [
       "TRANSPORTATION_other\n",
       "0.0    5320\n",
       "1.0       1\n",
       "Name: count, dtype: int64"
      ]
     },
     "execution_count": 65,
     "metadata": {},
     "output_type": "execute_result"
    }
   ],
   "source": [
    "final_df['TRANSPORTATION_other'].value_counts()"
   ]
  },
  {
   "cell_type": "code",
   "execution_count": 66,
   "metadata": {},
   "outputs": [
    {
     "data": {
      "text/plain": [
       "HOUSING_poor\n",
       "0.0    5319\n",
       "1.0       2\n",
       "Name: count, dtype: int64"
      ]
     },
     "execution_count": 66,
     "metadata": {},
     "output_type": "execute_result"
    }
   ],
   "source": [
    "final_df['HOUSING_poor'].value_counts()"
   ]
  },
  {
   "cell_type": "code",
   "execution_count": 67,
   "metadata": {},
   "outputs": [
    {
     "data": {
      "text/plain": [
       "HOUSING_undomiciled\n",
       "0.0    5321\n",
       "Name: count, dtype: int64"
      ]
     },
     "execution_count": 67,
     "metadata": {},
     "output_type": "execute_result"
    }
   ],
   "source": [
    "final_df['HOUSING_undomiciled'].value_counts()"
   ]
  },
  {
   "cell_type": "code",
   "execution_count": 68,
   "metadata": {},
   "outputs": [
    {
     "data": {
      "text/plain": [
       "HOUSING_other\n",
       "0.0    5320\n",
       "1.0       1\n",
       "Name: count, dtype: int64"
      ]
     },
     "execution_count": 68,
     "metadata": {},
     "output_type": "execute_result"
    }
   ],
   "source": [
    "final_df['HOUSING_other'].value_counts()"
   ]
  },
  {
   "cell_type": "code",
   "execution_count": 69,
   "metadata": {},
   "outputs": [
    {
     "data": {
      "text/plain": [
       "RELATIONSHIP_married\n",
       "0.0    5189\n",
       "1.0     132\n",
       "Name: count, dtype: int64"
      ]
     },
     "execution_count": 69,
     "metadata": {},
     "output_type": "execute_result"
    }
   ],
   "source": [
    "final_df['RELATIONSHIP_married'].value_counts()"
   ]
  },
  {
   "cell_type": "code",
   "execution_count": 70,
   "metadata": {},
   "outputs": [
    {
     "data": {
      "text/plain": [
       "RELATIONSHIP_partnered\n",
       "0.0    5296\n",
       "1.0      25\n",
       "Name: count, dtype: int64"
      ]
     },
     "execution_count": 70,
     "metadata": {},
     "output_type": "execute_result"
    }
   ],
   "source": [
    "final_df['RELATIONSHIP_partnered'].value_counts()"
   ]
  },
  {
   "cell_type": "code",
   "execution_count": 71,
   "metadata": {},
   "outputs": [
    {
     "data": {
      "text/plain": [
       "RELATIONSHIP_divorced\n",
       "0.0    5304\n",
       "1.0      17\n",
       "Name: count, dtype: int64"
      ]
     },
     "execution_count": 71,
     "metadata": {},
     "output_type": "execute_result"
    }
   ],
   "source": [
    "final_df['RELATIONSHIP_divorced'].value_counts()"
   ]
  },
  {
   "cell_type": "code",
   "execution_count": 72,
   "metadata": {},
   "outputs": [
    {
     "data": {
      "text/plain": [
       "RELATIONSHIP_widowed\n",
       "0.0    5320\n",
       "1.0       1\n",
       "Name: count, dtype: int64"
      ]
     },
     "execution_count": 72,
     "metadata": {},
     "output_type": "execute_result"
    }
   ],
   "source": [
    "final_df['RELATIONSHIP_widowed'].value_counts()"
   ]
  },
  {
   "cell_type": "code",
   "execution_count": 73,
   "metadata": {},
   "outputs": [
    {
     "data": {
      "text/plain": [
       "RELATIONSHIP_single\n",
       "0.0    5316\n",
       "1.0       5\n",
       "Name: count, dtype: int64"
      ]
     },
     "execution_count": 73,
     "metadata": {},
     "output_type": "execute_result"
    }
   ],
   "source": [
    "final_df['RELATIONSHIP_single'].value_counts()"
   ]
  },
  {
   "cell_type": "code",
   "execution_count": 74,
   "metadata": {},
   "outputs": [
    {
     "data": {
      "text/plain": [
       "EMPLOYMENT_employed\n",
       "0.0    5290\n",
       "1.0      31\n",
       "Name: count, dtype: int64"
      ]
     },
     "execution_count": 74,
     "metadata": {},
     "output_type": "execute_result"
    }
   ],
   "source": [
    "final_df['EMPLOYMENT_employed'].value_counts()"
   ]
  },
  {
   "cell_type": "code",
   "execution_count": 75,
   "metadata": {},
   "outputs": [
    {
     "data": {
      "text/plain": [
       "EMPLOYMENT_employed\n",
       "0.0    5290\n",
       "1.0      31\n",
       "Name: count, dtype: int64"
      ]
     },
     "execution_count": 75,
     "metadata": {},
     "output_type": "execute_result"
    }
   ],
   "source": [
    "final_df['EMPLOYMENT_employed'].value_counts()"
   ]
  },
  {
   "cell_type": "code",
   "execution_count": 76,
   "metadata": {},
   "outputs": [
    {
     "data": {
      "text/plain": [
       "EMPLOYMENT_underemployed\n",
       "0.0    5318\n",
       "1.0       3\n",
       "Name: count, dtype: int64"
      ]
     },
     "execution_count": 76,
     "metadata": {},
     "output_type": "execute_result"
    }
   ],
   "source": [
    "final_df['EMPLOYMENT_underemployed'].value_counts()"
   ]
  },
  {
   "cell_type": "code",
   "execution_count": 77,
   "metadata": {},
   "outputs": [
    {
     "data": {
      "text/plain": [
       "EMPLOYMENT_unemployed\n",
       "0.0    5311\n",
       "1.0      10\n",
       "Name: count, dtype: int64"
      ]
     },
     "execution_count": 77,
     "metadata": {},
     "output_type": "execute_result"
    }
   ],
   "source": [
    "final_df['EMPLOYMENT_unemployed'].value_counts()"
   ]
  },
  {
   "cell_type": "code",
   "execution_count": 78,
   "metadata": {},
   "outputs": [
    {
     "data": {
      "text/plain": [
       "EMPLOYMENT_disability\n",
       "0.0    5311\n",
       "1.0      10\n",
       "Name: count, dtype: int64"
      ]
     },
     "execution_count": 78,
     "metadata": {},
     "output_type": "execute_result"
    }
   ],
   "source": [
    "final_df['EMPLOYMENT_disability'].value_counts()"
   ]
  },
  {
   "cell_type": "code",
   "execution_count": 79,
   "metadata": {},
   "outputs": [
    {
     "data": {
      "text/plain": [
       "EMPLOYMENT_retired\n",
       "0.0    5316\n",
       "1.0       5\n",
       "Name: count, dtype: int64"
      ]
     },
     "execution_count": 79,
     "metadata": {},
     "output_type": "execute_result"
    }
   ],
   "source": [
    "final_df['EMPLOYMENT_retired'].value_counts()"
   ]
  },
  {
   "cell_type": "code",
   "execution_count": 80,
   "metadata": {},
   "outputs": [
    {
     "data": {
      "text/plain": [
       "EMPLOYMENT_student\n",
       "0.0    5310\n",
       "1.0      11\n",
       "Name: count, dtype: int64"
      ]
     },
     "execution_count": 80,
     "metadata": {},
     "output_type": "execute_result"
    }
   ],
   "source": [
    "final_df['EMPLOYMENT_student'].value_counts()"
   ]
  },
  {
   "cell_type": "code",
   "execution_count": 12,
   "metadata": {},
   "outputs": [
    {
     "name": "stdout",
     "output_type": "stream",
     "text": [
      "He has currently been doing temp work but has had no recent steady work.\n",
      "1. \"EMPLOYMENT\": [\"Underemployed\", \"Unemployed\"]\n",
      "2. \"TRANSPORTATION\": UNKNOWN\n",
      "3. \"HOUSING\": UNKNOWN\n",
      "4. \"MARITAL_STATUS\": UNKNOWN\n",
      "5. \"RELATIONSHIP_CONDITION\": UNKNOWN\n",
      "6. \"EMPLOYMENT_CONDITION\": UNKNOWN\n"
     ]
    }
   ],
   "source": [
    "free_text = final_df[final_df['EMPLOYMENT_adverse'] == True].iloc[0].text\n",
    "print(free_text)\n",
    "system_message = \"You are an information extract tool that follows instructions very well and is specifically trained to extract social determinants of health elements from hospital generated free-text.\"\n",
    "user_message = step1_query_optimized.format(free_text=free_text)\n",
    "openai_message = create_prompt(system_message, user_message)\n",
    "response = send_message(openai_message, deployment_name)\n",
    "print(response.choices[0].message.content)"
   ]
  },
  {
   "cell_type": "code",
   "execution_count": 14,
   "metadata": {},
   "outputs": [
    {
     "name": "stdout",
     "output_type": "stream",
     "text": [
      "Social Work SW spoke with pt s HR rep ([**Telephone/Fax (1) 11673**]) at [**Company 1855**] this AM who repots that pt s short term disability needs to be reinitiated by hospital getting in touch with [**Location (un) 11674**] Insurance CO.\n",
      "{\n",
      "  \"EMPLOYMENT\": \"Disability\",\n",
      "  \"EMPLOYMENT_CD\": 1.0,\n",
      "  \"EMPLOYMENT_evidence\": \"pt's short term disability needs to be reinitiated\"\n",
      "}\n",
      "{\n",
      "  \"TRANSPORTATION\": \"UNKNOWN\",\n",
      "  \"TRANSPORTATION_CD\": 1.0,\n",
      "  \"TRANSPORTATION_evidence\": \"no information regarding transportation status\"\n",
      "}\n",
      "{\n",
      "  \"HOUSING\": \"UNKNOWN\",\n",
      "  \"HOUSING_CD\": 1.0,\n",
      "  \"HOUSING_evidence\": \"no information regarding housing status\"\n",
      "}\n",
      "{\n",
      "  \"MARITAL_STATUS\": \"UNKNOWN\",\n",
      "  \"MARITAL_STATUS_CD\": 1.0,\n",
      "  \"MARITAL_STATUS_evidence\": \"no information regarding marital status\"\n",
      "}\n",
      "{\n",
      "  \"RELATIONSHIP_CONDITION\": \"UNKNOWN\",\n",
      "  \"RELATIONSHIP_CONDITION_CD\": 1.0,\n",
      "  \"RELATIONSHIP_CONDITION_evidence\": \"no information regarding relationship condition\"\n",
      "}\n",
      "{\n",
      "  \"EMPLOYMENT_CONDITION\": \"NonAdverse\",\n",
      "  \"EMPLOYMENT_CONDITION_CD\": 1.0,\n",
      "  \"EMPLOYMENT_CONDITION_evidence\": \"short term disability needs to be reinitiated\"\n",
      "}\n"
     ]
    }
   ],
   "source": [
    "free_text = final_df[final_df['EMPLOYMENT_adverse'] == True].iloc[1].text\n",
    "print(free_text)\n",
    "system_message = \"You are an information extract tool that follows instructions very well and is specifically trained to extract social determinants of health elements from hospital generated free-text.\"\n",
    "user_message = step1_query.format(free_text=free_text)\n",
    "openai_message = create_prompt(system_message, user_message)\n",
    "response = send_message(openai_message, deployment_name)\n",
    "print(response.choices[0].message.content)"
   ]
  },
  {
   "cell_type": "code",
   "execution_count": 15,
   "metadata": {},
   "outputs": [
    {
     "name": "stdout",
     "output_type": "stream",
     "text": [
      "Stopped Seroquel n SICU - n case exacerbates arrhytmias Patient admitted from: [**Hospital1 5**] OR / PACU, SICU History obtained from Patient, Family / Friend, [**Hospital 961**] Medical records Allergies: No Known Drug Allergies Last dose of Antibiotics: Vancomycin - [**2180-8-21**] 08:14 AM Infusions: Other ICU medications: Other medications: Past medical history: Family history: Social History: Stage IV Lung Ca - brain mets s/p right crani at [**Hospital 1215**] in [**9-5**] rx with chrmo XRT without good response and currently off all Rx PE [**1-7**] on coumadin Bipolar- hx of hospitalization x 2 for mania DM GERD Occupation: auto detailer car sales Drugs: neg Tobacco: 40 pk yrs Alcohol: neg Other: lives in [**Location (un) 1130**] with family Review of systems: Cardiovascular: Tachycardia Respiratory: Cough Gastrointestinal: No(t) Abdominal pain Genitourinary: Foley Heme / Lymph: Anemia Neurologic: Seizure Flowsheet Data as of [**2180-8-22**] 02:05 PM Vital Signs Hemodynamic monitoring Fluid Balance 24 hours Since 12 AM Tmax: 37.9 C (100.3 Tcurrent: 37.7 C (99.9 HR: 95 (64 - 141) bpm BP: 133/53(70) {87/45(56) - 147/84(97)} mmHg RR: 22 (19 - 26) insp/min SpO2: 99% Heart rhythm: SR (Sinus Rhythm) Wgt (current): 73 kg (admission): 75.4 kg Height: 66 Inch Total In: 1,904 mL 1,681 mL PO: TF: 784 mL 828 mL IVF: 689 mL 628 mL Blood products: Total out: 2,227 mL 535 mL Urine: 2,227 mL 535 mL NG: Stool: Drains: Balance: -323 mL 1,147 mL Respiratory O2 Delivery Device: Nasal cannula SpO2: 99% ABG: ///28/ Physical Examination Gen: sitting in bed NAD HEENT: op CV: Chest: Abd: Ext: Neuro: can wiggle toes and light pedal flexion on right, left leg no spont movement weak left hand grip.\n",
      "{\n",
      "  \"EMPLOYMENT\": \"UNKNOWN\",\n",
      "  \"EMPLOYMENT_CD\": 1.0,\n",
      "  \"EMPLOYMENT_evidence\": \"Occupation: auto detailer car sales\",\n",
      "  \"TRANSPORTATION\": \"UNKNOWN\",\n",
      "  \"TRANSPORTATION_CD\": 1.0,\n",
      "  \"TRANSPORTATION_evidence\": \"\",\n",
      "  \"HOUSING\": \"UNKNOWN\",\n",
      "  \"HOUSING_CD\": 1.0,\n",
      "  \"HOUSING_evidence\": \"Other: lives in [**Location (un) 1130**] with family\",\n",
      "  \"MARITAL_STATUS\": \"UNKNOWN\",\n",
      "  \"MARITAL_STATUS_CD\": 1.0,\n",
      "  \"MARITAL_STATUS_evidence\": \"\",\n",
      "  \"RELATIONSHIP_CONDITION\": \"UNKNOWN\",\n",
      "  \"RELATIONSHIP_CONDITION_CD\": 1.0,\n",
      "  \"RELATIONSHIP_CONDITION_evidence\": \"\",\n",
      "  \"EMPLOYMENT_CONDITION\": \"NonAdverse\",\n",
      "  \"EMPLOYMENT_CONDITION_CD\": 1.0,\n",
      "  \"EMPLOYMENT_CONDITION_evidence\": \"Occupation: auto detailer car sales\"\n",
      "}\n"
     ]
    }
   ],
   "source": [
    "free_text = final_df[final_df['EMPLOYMENT_nonadverse'] == True].iloc[0].text\n",
    "print(free_text)\n",
    "system_message = \"You are an information extract tool that follows instructions very well and is specifically trained to extract social determinants of health elements from hospital generated free-text.\"\n",
    "user_message = step1_query.format(free_text=free_text)\n",
    "openai_message = create_prompt(system_message, user_message)\n",
    "response = send_message(openai_message, deployment_name)\n",
    "print(response.choices[0].message.content)"
   ]
  },
  {
   "cell_type": "code",
   "execution_count": 16,
   "metadata": {},
   "outputs": [
    {
     "name": "stdout",
     "output_type": "stream",
     "text": [
      "Retired from being an administration assistant.\n",
      "{\n",
      "  \"EMPLOYMENT\": \"Retired\",\n",
      "  \"EMPLOYMENT_CD\": 1.0,\n",
      "  \"EMPLOYMENT_evidence\": \"Retired from being an administration assistant.\"\n",
      "}\n",
      "{\n",
      "  \"TRANSPORTATION\": \"UNKNOWN\",\n",
      "  \"TRANSPORTATION_CD\": 1.0,\n",
      "  \"TRANSPORTATION_evidence\": \"No information regarding transportation status.\"\n",
      "}\n",
      "{\n",
      "  \"HOUSING\": \"UNKNOWN\",\n",
      "  \"HOUSING_CD\": 1.0,\n",
      "  \"HOUSING_evidence\": \"No information regarding housing status.\"\n",
      "}\n",
      "{\n",
      "  \"MARITAL_STATUS\": \"UNKNOWN\",\n",
      "  \"MARITAL_STATUS_CD\": 1.0,\n",
      "  \"MARITAL_STATUS_evidence\": \"No information regarding marital status.\"\n",
      "}\n",
      "{\n",
      "  \"RELATIONSHIP_CONDITION\": \"UNKNOWN\",\n",
      "  \"RELATIONSHIP_CONDITION_CD\": 1.0,\n",
      "  \"RELATIONSHIP_CONDITION_evidence\": \"No information regarding relationship condition.\"\n",
      "}\n",
      "{\n",
      "  \"EMPLOYMENT_CONDITION\": \"UNKNOWN\",\n",
      "  \"EMPLOYMENT_CONDITION_CD\": 1.0,\n",
      "  \"EMPLOYMENT_CONDITION_evidence\": \"No information regarding employment condition.\"\n",
      "}\n"
     ]
    }
   ],
   "source": [
    "free_text = final_df[final_df['EMPLOYMENT_nonadverse'] == True].iloc[1].text\n",
    "print(free_text)\n",
    "system_message = \"You are an information extract tool that follows instructions very well and is specifically trained to extract social determinants of health elements from hospital generated free-text.\"\n",
    "user_message = step1_query.format(free_text=free_text)\n",
    "openai_message = create_prompt(system_message, user_message)\n",
    "response = send_message(openai_message, deployment_name)\n",
    "print(response.choices[0].message.content)"
   ]
  },
  {
   "cell_type": "code",
   "execution_count": 18,
   "metadata": {},
   "outputs": [
    {
     "name": "stdout",
     "output_type": "stream",
     "text": [
      "NTS provided on two occasions today 2^nd pt inability to manage sec with copious thick tan/brownish sec mobilized.\n",
      "{\n",
      "  \"EMPLOYMENT\": \"UNKNOWN\",\n",
      "  \"EMPLOYMENT_CD\": 1.0,\n",
      "  \"EMPLOYMENT_evidence\": \"No information regarding employment status mentioned in the text.\",\n",
      "  \"TRANSPORTATION\": \"UNKNOWN\",\n",
      "  \"TRANSPORTATION_CD\": 1.0,\n",
      "  \"TRANSPORTATION_evidence\": \"No information regarding transportation mentioned in the text.\",\n",
      "  \"HOUSING\": \"UNKNOWN\",\n",
      "  \"HOUSING_CD\": 1.0,\n",
      "  \"HOUSING_evidence\": \"No information regarding housing mentioned in the text.\",\n",
      "  \"MARITAL_STATUS\": \"UNKNOWN\",\n",
      "  \"MARITAL_STATUS_CD\": 1.0,\n",
      "  \"MARITAL_STATUS_evidence\": \"No information regarding marital status mentioned in the text.\",\n",
      "  \"RELATIONSHIP_CONDITION\": \"UNKNOWN\",\n",
      "  \"RELATIONSHIP_CONDITION_CD\": 1.0,\n",
      "  \"RELATIONSHIP_CONDITION_evidence\": \"No information regarding relationship condition mentioned in the text.\",\n",
      "  \"EMPLOYMENT_CONDITION\": \"UNKNOWN\",\n",
      "  \"EMPLOYMENT_CONDITION_CD\": 1.0,\n",
      "  \"EMPLOYMENT_CONDITION_evidence\": \"No information regarding employment condition mentioned in the text.\"\n",
      "}\n"
     ]
    }
   ],
   "source": [
    "free_text = final_df[final_df['RELATIONSHIP_adverse'] == True].iloc[0].text\n",
    "print(free_text)\n",
    "system_message = \"You are an information extract tool that follows instructions very well and is specifically trained to extract social determinants of health elements from hospital generated free-text.\"\n",
    "user_message = step1_query.format(free_text=free_text)\n",
    "openai_message = create_prompt(system_message, user_message)\n",
    "response = send_message(openai_message, deployment_name)\n",
    "print(response.choices[0].message.content)"
   ]
  },
  {
   "cell_type": "code",
   "execution_count": 19,
   "metadata": {},
   "outputs": [
    {
     "name": "stdout",
     "output_type": "stream",
     "text": [
      "The pt remains a Full Code. .H/O airway, Inability to Protect (Risk for Aspiration, Altered Gag, Airway Clearance, Cough) Assessment: Pt received NPO this AM taking PO ice chips without overt swallowing issues.\n",
      "{\n",
      "  \"EMPLOYMENT\": \"UNKNOWN\",\n",
      "  \"EMPLOYMENT_CD\": 1.0,\n",
      "  \"EMPLOYMENT_evidence\": \"No information regarding employment status mentioned in the text.\",\n",
      "  \"TRANSPORTATION\": \"UNKNOWN\",\n",
      "  \"TRANSPORTATION_CD\": 1.0,\n",
      "  \"TRANSPORTATION_evidence\": \"No information regarding transportation mentioned in the text.\",\n",
      "  \"HOUSING\": \"UNKNOWN\",\n",
      "  \"HOUSING_CD\": 1.0,\n",
      "  \"HOUSING_evidence\": \"No information regarding housing mentioned in the text.\",\n",
      "  \"MARITAL_STATUS\": \"UNKNOWN\",\n",
      "  \"MARITAL_STATUS_CD\": 1.0,\n",
      "  \"MARITAL_STATUS_evidence\": \"No information regarding marital status mentioned in the text.\",\n",
      "  \"RELATIONSHIP_CONDITION\": \"UNKNOWN\",\n",
      "  \"RELATIONSHIP_CONDITION_CD\": 1.0,\n",
      "  \"RELATIONSHIP_CONDITION_evidence\": \"No information regarding relationship condition mentioned in the text.\",\n",
      "  \"EMPLOYMENT_CONDITION\": \"UNKNOWN\",\n",
      "  \"EMPLOYMENT_CONDITION_CD\": 1.0,\n",
      "  \"EMPLOYMENT_CONDITION_evidence\": \"No information regarding employment condition mentioned in the text.\"\n",
      "}\n"
     ]
    }
   ],
   "source": [
    "free_text = final_df[final_df['RELATIONSHIP_adverse'] == True].iloc[1].text\n",
    "print(free_text)\n",
    "system_message = \"You are an information extract tool that follows instructions very well and is specifically trained to extract social determinants of health elements from hospital generated free-text.\"\n",
    "user_message = step1_query.format(free_text=free_text)\n",
    "openai_message = create_prompt(system_message, user_message)\n",
    "response = send_message(openai_message, deployment_name)\n",
    "print(response.choices[0].message.content)"
   ]
  },
  {
   "cell_type": "code",
   "execution_count": 20,
   "metadata": {},
   "outputs": [
    {
     "name": "stdout",
     "output_type": "stream",
     "text": [
      "Pts husband in most ot the night.\n",
      "{\n",
      "  \"EMPLOYMENT\": \"UNKNOWN\",\n",
      "  \"EMPLOYMENT_CD\": 1.0,\n",
      "  \"EMPLOYMENT_evidence\": \"No information regarding employment status mentioned in the text\",\n",
      "  \"TRANSPORTATION\": \"UNKNOWN\",\n",
      "  \"TRANSPORTATION_CD\": 1.0,\n",
      "  \"TRANSPORTATION_evidence\": \"No information regarding transportation mentioned in the text\",\n",
      "  \"HOUSING\": \"UNKNOWN\",\n",
      "  \"HOUSING_CD\": 1.0,\n",
      "  \"HOUSING_evidence\": \"No information regarding housing mentioned in the text\",\n",
      "  \"MARITAL_STATUS\": \"UNKNOWN\",\n",
      "  \"MARITAL_STATUS_CD\": 1.0,\n",
      "  \"MARITAL_STATUS_evidence\": \"No information regarding marital status mentioned in the text\",\n",
      "  \"RELATIONSHIP_CONDITION\": \"UNKNOWN\",\n",
      "  \"RELATIONSHIP_CONDITION_CD\": 1.0,\n",
      "  \"RELATIONSHIP_CONDITION_evidence\": \"No information regarding relationship condition mentioned in the text\",\n",
      "  \"EMPLOYMENT_CONDITION\": \"UNKNOWN\",\n",
      "  \"EMPLOYMENT_CONDITION_CD\": 1.0,\n",
      "  \"EMPLOYMENT_CONDITION_evidence\": \"No information regarding employment condition mentioned in the text\"\n",
      "}\n"
     ]
    }
   ],
   "source": [
    "free_text = final_df[final_df['RELATIONSHIP_nonadverse'] == True].iloc[0].text\n",
    "print(free_text)\n",
    "system_message = \"You are an information extract tool that follows instructions very well and is specifically trained to extract social determinants of health elements from hospital generated free-text.\"\n",
    "user_message = step1_query.format(free_text=free_text)\n",
    "openai_message = create_prompt(system_message, user_message)\n",
    "response = send_message(openai_message, deployment_name)\n",
    "print(response.choices[0].message.content)"
   ]
  },
  {
   "cell_type": "code",
   "execution_count": 22,
   "metadata": {},
   "outputs": [
    {
     "name": "stdout",
     "output_type": "stream",
     "text": [
      "Endo: blood sugars 233 and 207 Social: Pt s son called in AM updated on pt s condition.\n",
      "{\n",
      "  \"EMPLOYMENT\": \"UNKNOWN\",\n",
      "  \"EMPLOYMENT_CD\": 1.0,\n",
      "  \"EMPLOYMENT_evidence\": \"No information regarding employment status mentioned in the text.\",\n",
      "  \"TRANSPORTATION\": \"UNKNOWN\",\n",
      "  \"TRANSPORTATION_CD\": 1.0,\n",
      "  \"TRANSPORTATION_evidence\": \"No information regarding transportation mentioned in the text.\",\n",
      "  \"HOUSING\": \"UNKNOWN\",\n",
      "  \"HOUSING_CD\": 1.0,\n",
      "  \"HOUSING_evidence\": \"No information regarding housing mentioned in the text.\",\n",
      "  \"MARITAL_STATUS\": \"UNKNOWN\",\n",
      "  \"MARITAL_STATUS_CD\": 1.0,\n",
      "  \"MARITAL_STATUS_evidence\": \"No information regarding marital status mentioned in the text.\",\n",
      "  \"RELATIONSHIP_CONDITION\": \"UNKNOWN\",\n",
      "  \"RELATIONSHIP_CONDITION_CD\": 1.0,\n",
      "  \"RELATIONSHIP_CONDITION_evidence\": \"No information regarding relationship condition mentioned in the text.\",\n",
      "  \"EMPLOYMENT_CONDITION\": \"UNKNOWN\",\n",
      "  \"EMPLOYMENT_CONDITION_CD\": 1.0,\n",
      "  \"EMPLOYMENT_CONDITION_evidence\": \"No information regarding employment condition mentioned in the text.\"\n",
      "}\n"
     ]
    }
   ],
   "source": [
    "free_text = final_df[final_df['RELATIONSHIP_nonadverse'] == True].iloc[2].text\n",
    "print(free_text)\n",
    "system_message = \"You are an information extract tool that follows instructions very well and is specifically trained to extract social determinants of health elements from hospital generated free-text.\"\n",
    "user_message = step1_query.format(free_text=free_text)\n",
    "openai_message = create_prompt(system_message, user_message)\n",
    "response = send_message(openai_message, deployment_name)\n",
    "print(response.choices[0].message.content)"
   ]
  },
  {
   "cell_type": "code",
   "execution_count": 23,
   "metadata": {},
   "outputs": [
    {
     "name": "stdout",
     "output_type": "stream",
     "text": [
      "They are hoping to relocate pt from his current living situation in [**Location (un) 702**], MA closer to their home in NH.\n",
      "{\n",
      "  \"EMPLOYMENT\": \"UNKNOWN\",\n",
      "  \"EMPLOYMENT_CD\": 1.0,\n",
      "  \"EMPLOYMENT_evidence\": \"No evidence regarding employment status mentioned in the text.\",\n",
      "  \"TRANSPORTATION\": \"Resource\",\n",
      "  \"TRANSPORTATION_CD\": 1.0,\n",
      "  \"TRANSPORTATION_evidence\": \"The patient is being relocated to a location closer to their home, indicating that transportation resources may have been a factor in the decision.\",\n",
      "  \"HOUSING\": \"UNKNOWN\",\n",
      "  \"HOUSING_CD\": 1.0,\n",
      "  \"HOUSING_evidence\": \"No evidence regarding housing status mentioned in the text.\",\n",
      "  \"MARITAL_STATUS\": \"UNKNOWN\",\n",
      "  \"MARITAL_STATUS_CD\": 1.0,\n",
      "  \"MARITAL_STATUS_evidence\": \"No evidence regarding marital status mentioned in the text.\",\n",
      "  \"RELATIONSHIP_CONDITION\": \"UNKNOWN\",\n",
      "  \"RELATIONSHIP_CONDITION_CD\": 1.0,\n",
      "  \"RELATIONSHIP_CONDITION_evidence\": \"No evidence regarding relationship condition mentioned in the text.\",\n",
      "  \"EMPLOYMENT_CONDITION\": \"UNKNOWN\",\n",
      "  \"EMPLOYMENT_CONDITION_CD\": 1.0,\n",
      "  \"EMPLOYMENT_CONDITION_evidence\": \"No evidence regarding employment condition mentioned in the text.\"\n",
      "}\n"
     ]
    }
   ],
   "source": [
    "free_text = final_df[final_df['TRANSPORTATION_distance'] == True].iloc[0].text\n",
    "print(free_text)\n",
    "system_message = \"You are an information extract tool that follows instructions very well and is specifically trained to extract social determinants of health elements from hospital generated free-text.\"\n",
    "user_message = step1_query.format(free_text=free_text)\n",
    "openai_message = create_prompt(system_message, user_message)\n",
    "response = send_message(openai_message, deployment_name)\n",
    "print(response.choices[0].message.content)"
   ]
  },
  {
   "cell_type": "code",
   "execution_count": 24,
   "metadata": {},
   "outputs": [
    {
     "name": "stdout",
     "output_type": "stream",
     "text": [
      "Wife also reports that she prefers \"The Maples\" [**Hospital1 238**] near [**Location (un) 13062**] if possible because she lives in [**Location 5548**].\n",
      "{\n",
      "  \"EMPLOYMENT\": \"UNKNOWN\",\n",
      "  \"EMPLOYMENT_CD\": 1.0,\n",
      "  \"EMPLOYMENT_evidence\": \"No information regarding employment status mentioned in the text.\",\n",
      "  \"TRANSPORTATION\": \"Resource\",\n",
      "  \"TRANSPORTATION_CD\": 1.0,\n",
      "  \"TRANSPORTATION_evidence\": \"The patient prefers a hospital that is closer to her residence.\",\n",
      "  \"HOUSING\": \"UNKNOWN\",\n",
      "  \"HOUSING_CD\": 1.0,\n",
      "  \"HOUSING_evidence\": \"No information regarding housing status mentioned in the text.\",\n",
      "  \"MARITAL_STATUS\": \"UNKNOWN\",\n",
      "  \"MARITAL_STATUS_CD\": 1.0,\n",
      "  \"MARITAL_STATUS_evidence\": \"No information regarding marital status mentioned in the text.\",\n",
      "  \"RELATIONSHIP_CONDITION\": \"NonAdverse\",\n",
      "  \"RELATIONSHIP_CONDITION_CD\": 1.0,\n",
      "  \"RELATIONSHIP_CONDITION_evidence\": \"The patient's wife is mentioned in the text and there is no indication of any adverse relationship.\",\n",
      "  \"EMPLOYMENT_CONDITION\": \"UNKNOWN\",\n",
      "  \"EMPLOYMENT_CONDITION_CD\": 1.0,\n",
      "  \"EMPLOYMENT_CONDITION_evidence\": \"No information regarding employment condition mentioned in the text.\"\n",
      "}\n"
     ]
    }
   ],
   "source": [
    "free_text = final_df[final_df['TRANSPORTATION_distance'] == True].iloc[1].text\n",
    "print(free_text)\n",
    "system_message = \"You are an information extract tool that follows instructions very well and is specifically trained to extract social determinants of health elements from hospital generated free-text.\"\n",
    "user_message = step1_query.format(free_text=free_text)\n",
    "openai_message = create_prompt(system_message, user_message)\n",
    "response = send_message(openai_message, deployment_name)\n",
    "print(response.choices[0].message.content)"
   ]
  },
  {
   "cell_type": "code",
   "execution_count": 25,
   "metadata": {},
   "outputs": [
    {
     "name": "stdout",
     "output_type": "stream",
     "text": [
      "The combined income of both allows them to pay rent in subsidized housing but the couple does live from month to month.\n",
      "{\n",
      "  \"EMPLOYMENT\": \"UNKNOWN\",\n",
      "  \"EMPLOYMENT_CD\": 1.0,\n",
      "  \"EMPLOYMENT_evidence\": \"No information regarding employment status is mentioned in the text.\",\n",
      "  \"TRANSPORTATION\": \"UNKNOWN\",\n",
      "  \"TRANSPORTATION_CD\": 1.0,\n",
      "  \"TRANSPORTATION_evidence\": \"No information regarding transportation is mentioned in the text.\",\n",
      "  \"HOUSING\": \"Poor\",\n",
      "  \"HOUSING_CD\": 1.0,\n",
      "  \"HOUSING_evidence\": \"The text mentions that the couple lives from month to month and pays rent in subsidized housing, indicating that their housing situation is poor.\",\n",
      "  \"MARITAL_STATUS\": \"Partnered\",\n",
      "  \"MARITAL_STATUS_CD\": 1.0,\n",
      "  \"MARITAL_STATUS_evidence\": \"The text mentions a couple, indicating that they are partnered.\",\n",
      "  \"RELATIONSHIP_CONDITION\": \"NonAdverse\",\n",
      "  \"RELATIONSHIP_CONDITION_CD\": 1.0,\n",
      "  \"RELATIONSHIP_CONDITION_evidence\": \"No information regarding the relationship condition is mentioned in the text.\"\n",
      "}\n"
     ]
    }
   ],
   "source": [
    "free_text = final_df[final_df['HOUSING_poor'] == True].iloc[0].text\n",
    "print(free_text)\n",
    "system_message = \"You are an information extract tool that follows instructions very well and is specifically trained to extract social determinants of health elements from hospital generated free-text.\"\n",
    "user_message = step1_query.format(free_text=free_text)\n",
    "openai_message = create_prompt(system_message, user_message)\n",
    "response = send_message(openai_message, deployment_name)\n",
    "print(response.choices[0].message.content)"
   ]
  },
  {
   "cell_type": "code",
   "execution_count": 26,
   "metadata": {},
   "outputs": [
    {
     "name": "stdout",
     "output_type": "stream",
     "text": [
      "Per previous OMR note, pt lives alone in an apartment at [**Location 7455**] House ([**0-0-**]), a subsidized independent living building for seniors and adults with disabilities in\n",
      "{\n",
      "  \"EMPLOYMENT\": \"UNKNOWN\",\n",
      "  \"EMPLOYMENT_CD\": 1.0,\n",
      "  \"EMPLOYMENT_evidence\": \"No information regarding employment status mentioned in the text\",\n",
      "  \"TRANSPORTATION\": \"UNKNOWN\",\n",
      "  \"TRANSPORTATION_CD\": 1.0,\n",
      "  \"TRANSPORTATION_evidence\": \"No information regarding transportation mentioned in the text\",\n",
      "  \"HOUSING\": \"Poor\",\n",
      "  \"HOUSING_CD\": 1.0,\n",
      "  \"HOUSING_evidence\": \"The patient lives in a subsidized independent living building for seniors and adults with disabilities\",\n",
      "  \"MARITAL_STATUS\": \"UNKNOWN\",\n",
      "  \"MARITAL_STATUS_CD\": 1.0,\n",
      "  \"MARITAL_STATUS_evidence\": \"No information regarding marital status mentioned in the text\",\n",
      "  \"RELATIONSHIP_CONDITION\": \"UNKNOWN\",\n",
      "  \"RELATIONSHIP_CONDITION_CD\": 1.0,\n",
      "  \"RELATIONSHIP_CONDITION_evidence\": \"No information regarding relationship condition mentioned in the text\",\n",
      "  \"EMPLOYMENT_CONDITION\": \"UNKNOWN\",\n",
      "  \"EMPLOYMENT_CONDITION_CD\": 1.0,\n",
      "  \"EMPLOYMENT_CONDITION_evidence\": \"No information regarding employment condition mentioned in the text\"\n",
      "}\n"
     ]
    }
   ],
   "source": [
    "free_text = final_df[final_df['HOUSING_poor'] == True].iloc[1].text\n",
    "print(free_text)\n",
    "system_message = \"You are an information extract tool that follows instructions very well and is specifically trained to extract social determinants of health elements from hospital generated free-text.\"\n",
    "user_message = step1_query.format(free_text=free_text)\n",
    "openai_message = create_prompt(system_message, user_message)\n",
    "response = send_message(openai_message, deployment_name)\n",
    "print(response.choices[0].message.content)"
   ]
  },
  {
   "cell_type": "code",
   "execution_count": 28,
   "metadata": {},
   "outputs": [
    {
     "name": "stdout",
     "output_type": "stream",
     "text": [
      "Pt husband, daughter, 2 sisters and grandson at her bedside.\n",
      "{\n",
      "  \"EMPLOYMENT\": \"UNKNOWN\",\n",
      "  \"EMPLOYMENT_CD\": 1.0,\n",
      "  \"EMPLOYMENT_evidence\": \"No information regarding employment status mentioned in the text.\",\n",
      "  \"TRANSPORTATION\": \"UNKNOWN\",\n",
      "  \"TRANSPORTATION_CD\": 1.0,\n",
      "  \"TRANSPORTATION_evidence\": \"No information regarding transportation mentioned in the text.\",\n",
      "  \"HOUSING\": \"UNKNOWN\",\n",
      "  \"HOUSING_CD\": 1.0,\n",
      "  \"HOUSING_evidence\": \"No information regarding housing mentioned in the text.\",\n",
      "  \"MARITAL_STATUS\": \"UNKNOWN\",\n",
      "  \"MARITAL_STATUS_CD\": 1.0,\n",
      "  \"MARITAL_STATUS_evidence\": \"No information regarding marital status mentioned in the text.\",\n",
      "  \"RELATIONSHIP_CONDITION\": \"NonAdverse\",\n",
      "  \"RELATIONSHIP_CONDITION_CD\": 1.0,\n",
      "  \"RELATIONSHIP_CONDITION_evidence\": \"The presence of husband, daughter, 2 sisters and grandson at the patient's bedside suggests a non-adverse relationship condition.\",\n",
      "  \"EMPLOYMENT_CONDITION\": \"UNKNOWN\",\n",
      "  \"EMPLOYMENT_CONDITION_CD\": 1.0,\n",
      "  \"EMPLOYMENT_CONDITION_evidence\": \"No information regarding employment condition mentioned in the text.\"\n",
      "}\n"
     ]
    }
   ],
   "source": [
    "free_text = final_df[final_df['RELATIONSHIP_married'] == True].iloc[1].text\n",
    "print(free_text)\n",
    "system_message = \"You are an information extract tool that follows instructions very well and is specifically trained to extract social determinants of health elements from hospital generated free-text.\"\n",
    "user_message = step1_query.format(free_text=free_text)\n",
    "openai_message = create_prompt(system_message, user_message)\n",
    "response = send_message(openai_message, deployment_name)\n",
    "print(response.choices[0].message.content)"
   ]
  },
  {
   "cell_type": "code",
   "execution_count": 30,
   "metadata": {},
   "outputs": [
    {
     "name": "stdout",
     "output_type": "stream",
     "text": [
      "History obtained from patient and girlfriend x 18 years.\n",
      "{\n",
      "  \"EMPLOYMENT\": \"Employed\",\n",
      "  \"EMPLOYMENT_CD\": 0.8,\n",
      "  \"EMPLOYMENT_evidence\": \"Girlfriend mentioned that patient is still working at the same company for the past 5 years.\"\n",
      "}\n",
      "{\n",
      "  \"TRANSPORTATION\": \"Resource\",\n",
      "  \"TRANSPORTATION_CD\": 0.6,\n",
      "  \"TRANSPORTATION_evidence\": \"Patient mentioned that he has a car and can drive himself to appointments.\"\n",
      "}\n",
      "{\n",
      "  \"HOUSING\": \"Unknown\",\n",
      "  \"HOUSING_CD\": 1.0,\n",
      "  \"HOUSING_evidence\": \"No information regarding housing status was mentioned in the text.\"\n",
      "}\n",
      "{\n",
      "  \"MARITAL_STATUS\": \"Single\",\n",
      "  \"MARITAL_STATUS_CD\": 0.9,\n",
      "  \"MARITAL_STATUS_evidence\": \"Patient mentioned that he is not married and has no children.\"\n",
      "}\n",
      "{\n",
      "  \"RELATIONSHIP_CONDITION\": \"NonAdverse\",\n",
      "  \"RELATIONSHIP_CONDITION_CD\": 0.7,\n",
      "  \"RELATIONSHIP_CONDITION_evidence\": \"Girlfriend mentioned that they have been together for 18 years and are still in a relationship.\"\n",
      "}\n",
      "{\n",
      "  \"EMPLOYMENT_CONDITION\": \"NonAdverse\",\n",
      "  \"EMPLOYMENT_CONDITION_CD\": 0.8,\n",
      "  \"EMPLOYMENT_CONDITION_evidence\": \"Patient mentioned that he enjoys his job and has no plans to leave.\"\n",
      "}\n"
     ]
    }
   ],
   "source": [
    "free_text = final_df[final_df['RELATIONSHIP_partnered'] == True].iloc[0].text\n",
    "print(free_text)\n",
    "system_message = \"You are an information extract tool that follows instructions very well and is specifically trained to extract social determinants of health elements from hospital generated free-text.\"\n",
    "user_message = step1_query.format(free_text=free_text)\n",
    "openai_message = create_prompt(system_message, user_message)\n",
    "response = send_message(openai_message, deployment_name)\n",
    "print(response.choices[0].message.content)"
   ]
  },
  {
   "cell_type": "code",
   "execution_count": 31,
   "metadata": {},
   "outputs": [
    {
     "name": "stdout",
     "output_type": "stream",
     "text": [
      "Also, pt s husband died last\n",
      "{\n",
      "  \"EMPLOYMENT\": \"UNKNOWN\",\n",
      "  \"EMPLOYMENT_CD\": 1.0,\n",
      "  \"EMPLOYMENT_evidence\": \"No information regarding employment status mentioned in the text\",\n",
      "  \"TRANSPORTATION\": \"UNKNOWN\",\n",
      "  \"TRANSPORTATION_CD\": 1.0,\n",
      "  \"TRANSPORTATION_evidence\": \"No information regarding transportation mentioned in the text\",\n",
      "  \"HOUSING\": \"UNKNOWN\",\n",
      "  \"HOUSING_CD\": 1.0,\n",
      "  \"HOUSING_evidence\": \"No information regarding housing mentioned in the text\",\n",
      "  \"MARITAL_STATUS\": \"Widowed\",\n",
      "  \"MARITAL_STATUS_CD\": 1.0,\n",
      "  \"MARITAL_STATUS_evidence\": \"The text mentions that the patient's husband died\"\n",
      "  \"RELATIONSHIP_CONDITION\": \"Adverse\",\n",
      "  \"RELATIONSHIP_CONDITION_CD\": 1.0,\n",
      "  \"RELATIONSHIP_CONDITION_evidence\": \"The text mentions that the patient's husband died\"\n",
      "  \"EMPLOYMENT_CONDITION\": \"UNKNOWN\",\n",
      "  \"EMPLOYMENT_CONDITION_CD\": 1.0,\n",
      "  \"EMPLOYMENT_CONDITION_evidence\": \"No information regarding employment condition mentioned in the text\"\n",
      "}\n"
     ]
    }
   ],
   "source": [
    "free_text = final_df[final_df['RELATIONSHIP_widowed'] == True].iloc[0].text\n",
    "print(free_text)\n",
    "system_message = \"You are an information extract tool that follows instructions very well and is specifically trained to extract social determinants of health elements from hospital generated free-text.\"\n",
    "user_message = step1_query.format(free_text=free_text)\n",
    "openai_message = create_prompt(system_message, user_message)\n",
    "response = send_message(openai_message, deployment_name)\n",
    "print(response.choices[0].message.content)"
   ]
  },
  {
   "cell_type": "code",
   "execution_count": 32,
   "metadata": {},
   "outputs": [
    {
     "name": "stdout",
     "output_type": "stream",
     "text": [
      "Additional Information: Patient / Family HX: Dr. [**Last Name (STitle) **] admitted this 25 y/o SWF following having overdosed on heroin, which Mr. [**Name13 (STitle) 9659**] felt that she had stopped a number of months ago.\n",
      "{\n",
      "  \"EMPLOYMENT\": \"UNKNOWN\",\n",
      "  \"EMPLOYMENT_CD\": 1.0,\n",
      "  \"EMPLOYMENT_evidence\": \"No information regarding employment status mentioned in the text.\",\n",
      "  \"TRANSPORTATION\": \"UNKNOWN\",\n",
      "  \"TRANSPORTATION_CD\": 1.0,\n",
      "  \"TRANSPORTATION_evidence\": \"No information regarding transportation mentioned in the text.\",\n",
      "  \"HOUSING\": \"UNKNOWN\",\n",
      "  \"HOUSING_CD\": 1.0,\n",
      "  \"HOUSING_evidence\": \"No information regarding housing mentioned in the text.\",\n",
      "  \"MARITAL_STATUS\": \"Single\",\n",
      "  \"MARITAL_STATUS_CD\": 1.0,\n",
      "  \"MARITAL_STATUS_evidence\": \"The patient is referred to as 'SWF' which stands for 'Single White Female'.\",\n",
      "  \"RELATIONSHIP_CONDITION\": \"NonAdverse\",\n",
      "  \"RELATIONSHIP_CONDITION_CD\": 1.0,\n",
      "  \"RELATIONSHIP_CONDITION_evidence\": \"No information regarding relationship condition mentioned in the text.\",\n",
      "  \"EMPLOYMENT_CONDITION\": \"UNKNOWN\",\n",
      "  \"EMPLOYMENT_CONDITION_CD\": 1.0,\n",
      "  \"EMPLOYMENT_CONDITION_evidence\": \"No information regarding employment condition mentioned in the text.\"\n",
      "}\n"
     ]
    }
   ],
   "source": [
    "free_text = final_df[final_df['RELATIONSHIP_single'] == True].iloc[0].text\n",
    "print(free_text)\n",
    "system_message = \"You are an information extract tool that follows instructions very well and is specifically trained to extract social determinants of health elements from hospital generated free-text.\"\n",
    "user_message = step1_query.format(free_text=free_text)\n",
    "openai_message = create_prompt(system_message, user_message)\n",
    "response = send_message(openai_message, deployment_name)\n",
    "print(response.choices[0].message.content)"
   ]
  },
  {
   "cell_type": "code",
   "execution_count": 34,
   "metadata": {},
   "outputs": [
    {
     "name": "stdout",
     "output_type": "stream",
     "text": [
      "Social Work SW spoke with pt s HR rep ([**Telephone/Fax (1) 11673**]) at [**Company 1855**] this AM who repots that pt s short term disability needs to be reinitiated by hospital getting in touch with [**Location (un) 11674**] Insurance CO.\n",
      "{\n",
      "  \"EMPLOYMENT\": \"Disability\",\n",
      "  \"EMPLOYMENT_CD\": 1.0,\n",
      "  \"EMPLOYMENT_evidence\": \"pt's short term disability needs to be reinitiated\"\n",
      "}\n",
      "{\n",
      "  \"TRANSPORTATION\": \"UNKNOWN\",\n",
      "  \"TRANSPORTATION_CD\": 1.0,\n",
      "  \"TRANSPORTATION_evidence\": \"no information regarding transportation status\"\n",
      "}\n",
      "{\n",
      "  \"HOUSING\": \"UNKNOWN\",\n",
      "  \"HOUSING_CD\": 1.0,\n",
      "  \"HOUSING_evidence\": \"no information regarding housing status\"\n",
      "}\n",
      "{\n",
      "  \"MARITAL_STATUS\": \"UNKNOWN\",\n",
      "  \"MARITAL_STATUS_CD\": 1.0,\n",
      "  \"MARITAL_STATUS_evidence\": \"no information regarding marital status\"\n",
      "}\n",
      "{\n",
      "  \"RELATIONSHIP_CONDITION\": \"UNKNOWN\",\n",
      "  \"RELATIONSHIP_CONDITION_CD\": 1.0,\n",
      "  \"RELATIONSHIP_CONDITION_evidence\": \"no information regarding relationship condition\"\n",
      "}\n",
      "{\n",
      "  \"EMPLOYMENT_CONDITION\": \"NonAdverse\",\n",
      "  \"EMPLOYMENT_CONDITION_CD\": 1.0,\n",
      "  \"EMPLOYMENT_CONDITION_evidence\": \"short term disability needs to be reinitiated\"\n",
      "}\n"
     ]
    }
   ],
   "source": [
    "free_text = final_df[final_df['EMPLOYMENT_employed'] == True].iloc[1].text\n",
    "print(free_text)\n",
    "system_message = \"You are an information extract tool that follows instructions very well and is specifically trained to extract social determinants of health elements from hospital generated free-text.\"\n",
    "user_message = step1_query.format(free_text=free_text)\n",
    "openai_message = create_prompt(system_message, user_message)\n",
    "response = send_message(openai_message, deployment_name)\n",
    "print(response.choices[0].message.content)"
   ]
  },
  {
   "cell_type": "code",
   "execution_count": 35,
   "metadata": {},
   "outputs": [
    {
     "name": "stdout",
     "output_type": "stream",
     "text": [
      "Patient had a hard time coming back to reality and living in the dorm on minimal financial budget.\n",
      "{\n",
      "  \"EMPLOYMENT\": \"Unemployed\",\n",
      "  \"EMPLOYMENT_CD\": 1.0,\n",
      "  \"EMPLOYMENT_evidence\": \"Patient had a hard time coming back to reality and living in the dorm on minimal financial budget.\"\n",
      "}\n",
      "{\n",
      "  \"TRANSPORTATION\": \"UNKNOWN\",\n",
      "  \"TRANSPORTATION_CD\": 1.0,\n",
      "  \"TRANSPORTATION_evidence\": \"No information regarding transportation is mentioned in the text.\"\n",
      "}\n",
      "{\n",
      "  \"HOUSING\": \"Poor\",\n",
      "  \"HOUSING_CD\": 1.0,\n",
      "  \"HOUSING_evidence\": \"Patient is living in a dorm on minimal financial budget.\"\n",
      "}\n",
      "{\n",
      "  \"MARITAL_STATUS\": \"Single\",\n",
      "  \"MARITAL_STATUS_CD\": 1.0,\n",
      "  \"MARITAL_STATUS_evidence\": \"No information regarding marital status is mentioned in the text.\"\n",
      "}\n",
      "{\n",
      "  \"RELATIONSHIP_CONDITION\": \"UNKNOWN\",\n",
      "  \"RELATIONSHIP_CONDITION_CD\": 1.0,\n",
      "  \"RELATIONSHIP_CONDITION_evidence\": \"No information regarding relationship condition is mentioned in the text.\"\n",
      "}\n",
      "{\n",
      "  \"EMPLOYMENT_CONDITION\": \"UNKNOWN\",\n",
      "  \"EMPLOYMENT_CONDITION_CD\": 1.0,\n",
      "  \"EMPLOYMENT_CONDITION_evidence\": \"No information regarding employment condition is mentioned in the text.\"\n",
      "}\n"
     ]
    }
   ],
   "source": [
    "free_text = final_df[final_df['EMPLOYMENT_underemployed'] == True].iloc[0].text\n",
    "print(free_text)\n",
    "system_message = \"You are an information extract tool that follows instructions very well and is specifically trained to extract social determinants of health elements from hospital generated free-text.\"\n",
    "user_message = step1_query.format(free_text=free_text)\n",
    "openai_message = create_prompt(system_message, user_message)\n",
    "response = send_message(openai_message, deployment_name)\n",
    "print(response.choices[0].message.content)"
   ]
  },
  {
   "cell_type": "code",
   "execution_count": 36,
   "metadata": {},
   "outputs": [
    {
     "name": "stdout",
     "output_type": "stream",
     "text": [
      "He has currently been doing temp work but has had no recent steady work.\n",
      "{\n",
      "  \"EMPLOYMENT\": \"Underemployed\",\n",
      "  \"EMPLOYMENT_CD\": 1.0,\n",
      "  \"EMPLOYMENT_evidence\": \"currently been doing temp work but has had no recent steady work\"\n",
      "}\n",
      "{\n",
      "  \"TRANSPORTATION\": \"UNKNOWN\",\n",
      "  \"TRANSPORTATION_CD\": 1.0,\n",
      "  \"TRANSPORTATION_evidence\": \"no information regarding transportation\"\n",
      "}\n",
      "{\n",
      "  \"HOUSING\": \"UNKNOWN\",\n",
      "  \"HOUSING_CD\": 1.0,\n",
      "  \"HOUSING_evidence\": \"no information regarding housing\"\n",
      "}\n",
      "{\n",
      "  \"MARITAL_STATUS\": \"UNKNOWN\",\n",
      "  \"MARITAL_STATUS_CD\": 1.0,\n",
      "  \"MARITAL_STATUS_evidence\": \"no information regarding marital status\"\n",
      "}\n",
      "{\n",
      "  \"RELATIONSHIP_CONDITION\": \"UNKNOWN\",\n",
      "  \"RELATIONSHIP_CONDITION_CD\": 1.0,\n",
      "  \"RELATIONSHIP_CONDITION_evidence\": \"no information regarding relationship condition\"\n",
      "}\n",
      "{\n",
      "  \"EMPLOYMENT_CONDITION\": \"NonAdverse\",\n",
      "  \"EMPLOYMENT_CONDITION_CD\": 1.0,\n",
      "  \"EMPLOYMENT_CONDITION_evidence\": \"no information regarding adverse employment condition\"\n",
      "}\n"
     ]
    }
   ],
   "source": [
    "free_text = final_df[final_df['EMPLOYMENT_unemployed'] == True].iloc[0].text\n",
    "print(free_text)\n",
    "system_message = \"You are an information extract tool that follows instructions very well and is specifically trained to extract social determinants of health elements from hospital generated free-text.\"\n",
    "user_message = step1_query.format(free_text=free_text)\n",
    "openai_message = create_prompt(system_message, user_message)\n",
    "response = send_message(openai_message, deployment_name)\n",
    "print(response.choices[0].message.content)"
   ]
  },
  {
   "cell_type": "code",
   "execution_count": 38,
   "metadata": {},
   "outputs": [
    {
     "name": "stdout",
     "output_type": "stream",
     "text": [
      "Employment status: Disable\n",
      "{\n",
      "  \"EMPLOYMENT\": \"Disability\",\n",
      "  \"EMPLOYMENT_CD\": 1.0,\n",
      "  \"EMPLOYMENT_evidence\": \"Employment status: Disable\"\n",
      "}\n",
      "\n",
      "TRANSPORTATION: UNKNOWN\n",
      "TRANSPORTATION_CD: 0.0\n",
      "TRANSPORTATION_evidence: No evidence found in the given text.\n",
      "\n",
      "HOUSING: UNKNOWN\n",
      "HOUSING_CD: 0.0\n",
      "HOUSING_evidence: No evidence found in the given text.\n",
      "\n",
      "MARITAL_STATUS: UNKNOWN\n",
      "MARITAL_STATUS_CD: 0.0\n",
      "MARITAL_STATUS_evidence: No evidence found in the given text.\n",
      "\n",
      "RELATIONSHIP_CONDITION: UNKNOWN\n",
      "RELATIONSHIP_CONDITION_CD: 0.0\n",
      "RELATIONSHIP_CONDITION_evidence: No evidence found in the given text.\n",
      "\n",
      "EMPLOYMENT_CONDITION: UNKNOWN\n",
      "EMPLOYMENT_CONDITION_CD: 0.0\n",
      "EMPLOYMENT_CONDITION_evidence: No evidence found in the given text.\n"
     ]
    }
   ],
   "source": [
    "free_text = final_df[final_df['EMPLOYMENT_disability'] == True].iloc[3].text\n",
    "print(free_text)\n",
    "system_message = \"You are an information extract tool that follows instructions very well and is specifically trained to extract social determinants of health elements from hospital generated free-text.\"\n",
    "user_message = step1_query.format(free_text=free_text)\n",
    "openai_message = create_prompt(system_message, user_message)\n",
    "response = send_message(openai_message, deployment_name)\n",
    "print(response.choices[0].message.content)"
   ]
  },
  {
   "cell_type": "code",
   "execution_count": 39,
   "metadata": {},
   "outputs": [
    {
     "name": "stdout",
     "output_type": "stream",
     "text": [
      "Previous [**Hospital1 19**] or other hospital admissions: none Past psychiatric history: none known Past addictions history: none known Employment status: Retired Legal involvement: none known Mandated Reporting Information: Additional Information: Patient / Family Assessment: Pt is 72 yr-old gentleman adm w/CVA/ICH.\n",
      "{\n",
      "  \"EMPLOYMENT\": \"Retired\",\n",
      "  \"EMPLOYMENT_CD\": 1.0,\n",
      "  \"EMPLOYMENT_evidence\": \"Employment status: Retired\"\n",
      "}\n",
      "{\n",
      "  \"TRANSPORTATION\": \"UNKNOWN\",\n",
      "  \"TRANSPORTATION_CD\": 1.0,\n",
      "  \"TRANSPORTATION_evidence\": \"\"\n",
      "}\n",
      "{\n",
      "  \"HOUSING\": \"UNKNOWN\",\n",
      "  \"HOUSING_CD\": 1.0,\n",
      "  \"HOUSING_evidence\": \"\"\n",
      "}\n",
      "{\n",
      "  \"MARITAL_STATUS\": \"UNKNOWN\",\n",
      "  \"MARITAL_STATUS_CD\": 1.0,\n",
      "  \"MARITAL_STATUS_evidence\": \"\"\n",
      "}\n",
      "{\n",
      "  \"RELATIONSHIP_CONDITION\": \"UNKNOWN\",\n",
      "  \"RELATIONSHIP_CONDITION_CD\": 1.0,\n",
      "  \"RELATIONSHIP_CONDITION_evidence\": \"\"\n",
      "}\n",
      "{\n",
      "  \"EMPLOYMENT_CONDITION\": \"UNKNOWN\",\n",
      "  \"EMPLOYMENT_CONDITION_CD\": 1.0,\n",
      "  \"EMPLOYMENT_CONDITION_evidence\": \"\"\n",
      "}\n"
     ]
    }
   ],
   "source": [
    "free_text = final_df[final_df['EMPLOYMENT_retired'] == True].iloc[3].text\n",
    "print(free_text)\n",
    "system_message = \"You are an information extract tool that follows instructions very well and is specifically trained to extract social determinants of health elements from hospital generated free-text.\"\n",
    "user_message = step1_query.format(free_text=free_text)\n",
    "openai_message = create_prompt(system_message, user_message)\n",
    "response = send_message(openai_message, deployment_name)\n",
    "print(response.choices[0].message.content)"
   ]
  },
  {
   "cell_type": "code",
   "execution_count": 40,
   "metadata": {},
   "outputs": [
    {
     "name": "stdout",
     "output_type": "stream",
     "text": [
      "Occupation: Student at [**Doctor Last Name 803**] College Drugs: None Tobacco: None Alcohol: Occcassional Other: Originally from [**State 1698**] Review of systems: Constitutional: Fatigue, No(t) Fever Eyes: No(t)  Blurry vision Ear, Nose, Throat: Dry mouth Cardiovascular: No(t) Chest pain, No(t) Palpitations, No(t) Edema, Tachycardia, No(t) Orthopnea Respiratory: No(t) Cough, No(t) Dyspnea, No(t) Tachypnea, No(t) Wheeze Gastrointestinal: No(t) Abdominal pain, No(t) Nausea, No(t) Emesis, No(t) Diarrhea, No(t) Constipation Genitourinary: Foley Musculoskeletal: No(t) Joint pain, No(t) Myalgias Integumentary (skin): No(t) Jaundice, No(t) Rash Endocrine: Hyperglycemia Heme / Lymph: No(t) Anemia Neurologic: No(t) Numbness / tingling, No(t) Headache Allergy / Immunology: No(t) Immunocompromised Pain: No pain / appears comfortable Flowsheet Data as of [**2142-5-15**] 08:29 AM Vital Signs Hemodynamic monitoring Fluid Balance 24 hours Since 12 AM Total In: PO: TF: IVF: Blood products: Total out: 0 mL 0 mL Urine: NG: Stool: Drains: Balance: 0 mL 0 mL Respiratory Physical Examination General Appearance: Well nourished, No acute distress Eyes / Conjunctiva: PERRL, No(t) Pupils dilated Head, Ears, Nose, Throat: Normocephalic Lymphatic: Cervical WNL, Supraclavicular WNL Cardiovascular: (PMI Hyperdynamic), (S1: Normal), (S2: Normal), No(t) S3, No(t) S4, (Murmur: No(t) Systolic, No(t) Diastolic) Peripheral Vascular: (Right radial pulse: Present), (Left radial pulse: Present), (Right DP pulse: Present), (Left DP pulse: Present) Respiratory / Chest: (Expansion: Symmetric),\n",
      "{\n",
      "  \"EMPLOYMENT\": \"Student\",\n",
      "  \"EMPLOYMENT_CD\": 1.0,\n",
      "  \"EMPLOYMENT_evidence\": \"Occupation: Student at [**Doctor Last Name 803**] College\"\n",
      "}\n",
      "{\n",
      "  \"TRANSPORTATION\": \"UNKNOWN\",\n",
      "  \"TRANSPORTATION_CD\": 1.0,\n",
      "  \"TRANSPORTATION_evidence\": \"\"\n",
      "}\n",
      "{\n",
      "  \"HOUSING\": \"UNKNOWN\",\n",
      "  \"HOUSING_CD\": 1.0,\n",
      "  \"HOUSING_evidence\": \"\"\n",
      "}\n",
      "{\n",
      "  \"MARITAL_STATUS\": \"UNKNOWN\",\n",
      "  \"MARITAL_STATUS_CD\": 1.0,\n",
      "  \"MARITAL_STATUS_evidence\": \"\"\n",
      "}\n",
      "{\n",
      "  \"RELATIONSHIP_CONDITION\": \"UNKNOWN\",\n",
      "  \"RELATIONSHIP_CONDITION_CD\": 1.0,\n",
      "  \"RELATIONSHIP_CONDITION_evidence\": \"\"\n",
      "}\n",
      "{\n",
      "  \"EMPLOYMENT_CONDITION\": \"UNKNOWN\",\n",
      "  \"EMPLOYMENT_CONDITION_CD\": 1.0,\n",
      "  \"EMPLOYMENT_CONDITION_evidence\": \"\"\n",
      "}\n"
     ]
    }
   ],
   "source": [
    "free_text = final_df[final_df['EMPLOYMENT_student'] == True].iloc[0].text\n",
    "print(free_text)\n",
    "system_message = \"You are an information extract tool that follows instructions very well and is specifically trained to extract social determinants of health elements from hospital generated free-text.\"\n",
    "user_message = step1_query.format(free_text=free_text)\n",
    "openai_message = create_prompt(system_message, user_message)\n",
    "response = send_message(openai_message, deployment_name)\n",
    "print(response.choices[0].message.content)"
   ]
  },
  {
   "cell_type": "code",
   "execution_count": null,
   "metadata": {},
   "outputs": [],
   "source": [
    "  "
   ]
  }
 ],
 "metadata": {
  "kernelspec": {
   "display_name": "sdoh-guevera",
   "language": "python",
   "name": "python3"
  },
  "language_info": {
   "codemirror_mode": {
    "name": "ipython",
    "version": 3
   },
   "file_extension": ".py",
   "mimetype": "text/x-python",
   "name": "python",
   "nbconvert_exporter": "python",
   "pygments_lexer": "ipython3",
   "version": "3.11.9"
  }
 },
 "nbformat": 4,
 "nbformat_minor": 2
}
