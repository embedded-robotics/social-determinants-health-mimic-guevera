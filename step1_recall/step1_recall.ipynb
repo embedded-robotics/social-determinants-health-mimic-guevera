{
 "cells": [
  {
   "cell_type": "code",
   "execution_count": 2,
   "metadata": {},
   "outputs": [],
   "source": [
    "import pandas as pd\n",
    "from openai import AzureOpenAI\n",
    "import json\n",
    "import openai\n",
    "import pickle\n",
    "import sys\n",
    "import os"
   ]
  },
  {
   "cell_type": "code",
   "execution_count": 3,
   "metadata": {},
   "outputs": [],
   "source": [
    "sys.path.append(os.path.join(os.getcwd(), '..'))"
   ]
  },
  {
   "cell_type": "code",
   "execution_count": 5,
   "metadata": {},
   "outputs": [],
   "source": [
    "from prompts import *"
   ]
  },
  {
   "cell_type": "code",
   "execution_count": 8,
   "metadata": {},
   "outputs": [],
   "source": [
    "employment_ground_truth = pd.read_csv('../eval_employment_prompt.csv')\n",
    "relation_ground_truth = pd.read_csv('../eval_relationship_prompt.csv')"
   ]
  },
  {
   "cell_type": "code",
   "execution_count": 9,
   "metadata": {},
   "outputs": [
    {
     "data": {
      "text/html": [
       "<div>\n",
       "<style scoped>\n",
       "    .dataframe tbody tr th:only-of-type {\n",
       "        vertical-align: middle;\n",
       "    }\n",
       "\n",
       "    .dataframe tbody tr th {\n",
       "        vertical-align: top;\n",
       "    }\n",
       "\n",
       "    .dataframe thead th {\n",
       "        text-align: right;\n",
       "    }\n",
       "</style>\n",
       "<table border=\"1\" class=\"dataframe\">\n",
       "  <thead>\n",
       "    <tr style=\"text-align: right;\">\n",
       "      <th></th>\n",
       "      <th>index</th>\n",
       "      <th>provider_type</th>\n",
       "      <th>patient_id</th>\n",
       "      <th>note_id</th>\n",
       "      <th>sentence_index</th>\n",
       "      <th>text</th>\n",
       "      <th>TRANSPORTATION_distance</th>\n",
       "      <th>TRANSPORTATION_resource</th>\n",
       "      <th>TRANSPORTATION_other</th>\n",
       "      <th>HOUSING_poor</th>\n",
       "      <th>...</th>\n",
       "      <th>EMPLOYMENT_student</th>\n",
       "      <th>SUPPORT_plus</th>\n",
       "      <th>SUPPORT_minus</th>\n",
       "      <th>PARENT</th>\n",
       "      <th>UNKNOWN</th>\n",
       "      <th>llm_text</th>\n",
       "      <th>llm_label_EMPLOYMENT</th>\n",
       "      <th>llm_label_UNKNOWN</th>\n",
       "      <th>EMPLOYMENT_nonadverse</th>\n",
       "      <th>EMPLOYMENT_adverse</th>\n",
       "    </tr>\n",
       "  </thead>\n",
       "  <tbody>\n",
       "    <tr>\n",
       "      <th>0</th>\n",
       "      <td>0</td>\n",
       "      <td>Nursing</td>\n",
       "      <td>10954</td>\n",
       "      <td>401903</td>\n",
       "      <td>0</td>\n",
       "      <td>Ms. [**Known lastname 11692**] is a 52 year ol...</td>\n",
       "      <td>0.0</td>\n",
       "      <td>0.0</td>\n",
       "      <td>0.0</td>\n",
       "      <td>0.0</td>\n",
       "      <td>...</td>\n",
       "      <td>0.0</td>\n",
       "      <td>0.0</td>\n",
       "      <td>0.0</td>\n",
       "      <td>0.0</td>\n",
       "      <td>True</td>\n",
       "      <td>{\\n  \"EMPLOYMENT\": \"UNKNOWN\",\\n  \"EMPLOYMENT_C...</td>\n",
       "      <td>UNKNOWN</td>\n",
       "      <td>True</td>\n",
       "      <td>False</td>\n",
       "      <td>False</td>\n",
       "    </tr>\n",
       "    <tr>\n",
       "      <th>1</th>\n",
       "      <td>1</td>\n",
       "      <td>Nursing</td>\n",
       "      <td>10954</td>\n",
       "      <td>401903</td>\n",
       "      <td>1</td>\n",
       "      <td>During her admission, she developed obtundatio...</td>\n",
       "      <td>0.0</td>\n",
       "      <td>0.0</td>\n",
       "      <td>0.0</td>\n",
       "      <td>0.0</td>\n",
       "      <td>...</td>\n",
       "      <td>0.0</td>\n",
       "      <td>0.0</td>\n",
       "      <td>0.0</td>\n",
       "      <td>0.0</td>\n",
       "      <td>True</td>\n",
       "      <td>{\\n  \"EMPLOYMENT\": \"UNKNOWN\",\\n  \"EMPLOYMENT_C...</td>\n",
       "      <td>UNKNOWN</td>\n",
       "      <td>True</td>\n",
       "      <td>False</td>\n",
       "      <td>False</td>\n",
       "    </tr>\n",
       "    <tr>\n",
       "      <th>2</th>\n",
       "      <td>2</td>\n",
       "      <td>Nursing</td>\n",
       "      <td>10954</td>\n",
       "      <td>401903</td>\n",
       "      <td>2</td>\n",
       "      <td>She was extubated the next day after a thorace...</td>\n",
       "      <td>0.0</td>\n",
       "      <td>0.0</td>\n",
       "      <td>0.0</td>\n",
       "      <td>0.0</td>\n",
       "      <td>...</td>\n",
       "      <td>0.0</td>\n",
       "      <td>0.0</td>\n",
       "      <td>0.0</td>\n",
       "      <td>0.0</td>\n",
       "      <td>True</td>\n",
       "      <td>{\\n  \"EMPLOYMENT\": \"UNKNOWN\",\\n  \"EMPLOYMENT_C...</td>\n",
       "      <td>UNKNOWN</td>\n",
       "      <td>True</td>\n",
       "      <td>False</td>\n",
       "      <td>False</td>\n",
       "    </tr>\n",
       "    <tr>\n",
       "      <th>3</th>\n",
       "      <td>3</td>\n",
       "      <td>Nursing</td>\n",
       "      <td>10954</td>\n",
       "      <td>401903</td>\n",
       "      <td>3</td>\n",
       "      <td>She was transferred to the medical service fro...</td>\n",
       "      <td>0.0</td>\n",
       "      <td>0.0</td>\n",
       "      <td>0.0</td>\n",
       "      <td>0.0</td>\n",
       "      <td>...</td>\n",
       "      <td>0.0</td>\n",
       "      <td>0.0</td>\n",
       "      <td>0.0</td>\n",
       "      <td>0.0</td>\n",
       "      <td>True</td>\n",
       "      <td>{\\n  \"EMPLOYMENT\": \"UNKNOWN\",\\n  \"EMPLOYMENT_C...</td>\n",
       "      <td>UNKNOWN</td>\n",
       "      <td>True</td>\n",
       "      <td>False</td>\n",
       "      <td>False</td>\n",
       "    </tr>\n",
       "    <tr>\n",
       "      <th>4</th>\n",
       "      <td>4</td>\n",
       "      <td>Nursing</td>\n",
       "      <td>10954</td>\n",
       "      <td>401903</td>\n",
       "      <td>4</td>\n",
       "      <td>Please see Vascular, SICU and Medicine admissi...</td>\n",
       "      <td>0.0</td>\n",
       "      <td>0.0</td>\n",
       "      <td>0.0</td>\n",
       "      <td>0.0</td>\n",
       "      <td>...</td>\n",
       "      <td>0.0</td>\n",
       "      <td>0.0</td>\n",
       "      <td>0.0</td>\n",
       "      <td>0.0</td>\n",
       "      <td>True</td>\n",
       "      <td>{\\n  \"EMPLOYMENT\": \"UNKNOWN\",\\n  \"EMPLOYMENT_C...</td>\n",
       "      <td>UNKNOWN</td>\n",
       "      <td>True</td>\n",
       "      <td>False</td>\n",
       "      <td>False</td>\n",
       "    </tr>\n",
       "  </tbody>\n",
       "</table>\n",
       "<p>5 rows × 32 columns</p>\n",
       "</div>"
      ],
      "text/plain": [
       "   index provider_type  patient_id  note_id  sentence_index  \\\n",
       "0      0       Nursing       10954   401903               0   \n",
       "1      1       Nursing       10954   401903               1   \n",
       "2      2       Nursing       10954   401903               2   \n",
       "3      3       Nursing       10954   401903               3   \n",
       "4      4       Nursing       10954   401903               4   \n",
       "\n",
       "                                                text  TRANSPORTATION_distance  \\\n",
       "0  Ms. [**Known lastname 11692**] is a 52 year ol...                      0.0   \n",
       "1  During her admission, she developed obtundatio...                      0.0   \n",
       "2  She was extubated the next day after a thorace...                      0.0   \n",
       "3  She was transferred to the medical service fro...                      0.0   \n",
       "4  Please see Vascular, SICU and Medicine admissi...                      0.0   \n",
       "\n",
       "   TRANSPORTATION_resource  TRANSPORTATION_other  HOUSING_poor  ...  \\\n",
       "0                      0.0                   0.0           0.0  ...   \n",
       "1                      0.0                   0.0           0.0  ...   \n",
       "2                      0.0                   0.0           0.0  ...   \n",
       "3                      0.0                   0.0           0.0  ...   \n",
       "4                      0.0                   0.0           0.0  ...   \n",
       "\n",
       "   EMPLOYMENT_student  SUPPORT_plus  SUPPORT_minus  PARENT  UNKNOWN  \\\n",
       "0                 0.0           0.0            0.0     0.0     True   \n",
       "1                 0.0           0.0            0.0     0.0     True   \n",
       "2                 0.0           0.0            0.0     0.0     True   \n",
       "3                 0.0           0.0            0.0     0.0     True   \n",
       "4                 0.0           0.0            0.0     0.0     True   \n",
       "\n",
       "                                            llm_text  llm_label_EMPLOYMENT  \\\n",
       "0  {\\n  \"EMPLOYMENT\": \"UNKNOWN\",\\n  \"EMPLOYMENT_C...               UNKNOWN   \n",
       "1  {\\n  \"EMPLOYMENT\": \"UNKNOWN\",\\n  \"EMPLOYMENT_C...               UNKNOWN   \n",
       "2  {\\n  \"EMPLOYMENT\": \"UNKNOWN\",\\n  \"EMPLOYMENT_C...               UNKNOWN   \n",
       "3  {\\n  \"EMPLOYMENT\": \"UNKNOWN\",\\n  \"EMPLOYMENT_C...               UNKNOWN   \n",
       "4  {\\n  \"EMPLOYMENT\": \"UNKNOWN\",\\n  \"EMPLOYMENT_C...               UNKNOWN   \n",
       "\n",
       "   llm_label_UNKNOWN  EMPLOYMENT_nonadverse  EMPLOYMENT_adverse  \n",
       "0               True                  False               False  \n",
       "1               True                  False               False  \n",
       "2               True                  False               False  \n",
       "3               True                  False               False  \n",
       "4               True                  False               False  \n",
       "\n",
       "[5 rows x 32 columns]"
      ]
     },
     "execution_count": 9,
     "metadata": {},
     "output_type": "execute_result"
    }
   ],
   "source": [
    "employment_ground_truth.head()"
   ]
  },
  {
   "cell_type": "code",
   "execution_count": 10,
   "metadata": {},
   "outputs": [
    {
     "data": {
      "text/html": [
       "<div>\n",
       "<style scoped>\n",
       "    .dataframe tbody tr th:only-of-type {\n",
       "        vertical-align: middle;\n",
       "    }\n",
       "\n",
       "    .dataframe tbody tr th {\n",
       "        vertical-align: top;\n",
       "    }\n",
       "\n",
       "    .dataframe thead th {\n",
       "        text-align: right;\n",
       "    }\n",
       "</style>\n",
       "<table border=\"1\" class=\"dataframe\">\n",
       "  <thead>\n",
       "    <tr style=\"text-align: right;\">\n",
       "      <th></th>\n",
       "      <th>index</th>\n",
       "      <th>provider_type</th>\n",
       "      <th>patient_id</th>\n",
       "      <th>note_id</th>\n",
       "      <th>sentence_index</th>\n",
       "      <th>text</th>\n",
       "      <th>TRANSPORTATION_distance</th>\n",
       "      <th>TRANSPORTATION_resource</th>\n",
       "      <th>TRANSPORTATION_other</th>\n",
       "      <th>HOUSING_poor</th>\n",
       "      <th>...</th>\n",
       "      <th>SUPPORT_plus</th>\n",
       "      <th>SUPPORT_minus</th>\n",
       "      <th>PARENT</th>\n",
       "      <th>UNKNOWN</th>\n",
       "      <th>llm_text</th>\n",
       "      <th>llm_label_marital_status</th>\n",
       "      <th>llm_label_RELATIONSHIP</th>\n",
       "      <th>llm_label_UNKNOWN</th>\n",
       "      <th>RELATIONSHIP_nonadverse</th>\n",
       "      <th>RELATIONSHIP_adverse</th>\n",
       "    </tr>\n",
       "  </thead>\n",
       "  <tbody>\n",
       "    <tr>\n",
       "      <th>0</th>\n",
       "      <td>0</td>\n",
       "      <td>Nursing</td>\n",
       "      <td>10954</td>\n",
       "      <td>401903</td>\n",
       "      <td>0</td>\n",
       "      <td>Ms. [**Known lastname 11692**] is a 52 year ol...</td>\n",
       "      <td>0.0</td>\n",
       "      <td>0.0</td>\n",
       "      <td>0.0</td>\n",
       "      <td>0.0</td>\n",
       "      <td>...</td>\n",
       "      <td>0.0</td>\n",
       "      <td>0.0</td>\n",
       "      <td>0.0</td>\n",
       "      <td>True</td>\n",
       "      <td>{\\n  \"marital_status\": \"UNKNOWN\",\\n  \"marital_...</td>\n",
       "      <td>UNKNOWN</td>\n",
       "      <td>UNKNOWN</td>\n",
       "      <td>True</td>\n",
       "      <td>False</td>\n",
       "      <td>False</td>\n",
       "    </tr>\n",
       "    <tr>\n",
       "      <th>1</th>\n",
       "      <td>1</td>\n",
       "      <td>Nursing</td>\n",
       "      <td>10954</td>\n",
       "      <td>401903</td>\n",
       "      <td>1</td>\n",
       "      <td>During her admission, she developed obtundatio...</td>\n",
       "      <td>0.0</td>\n",
       "      <td>0.0</td>\n",
       "      <td>0.0</td>\n",
       "      <td>0.0</td>\n",
       "      <td>...</td>\n",
       "      <td>0.0</td>\n",
       "      <td>0.0</td>\n",
       "      <td>0.0</td>\n",
       "      <td>True</td>\n",
       "      <td>{\\n  \"marital_status\": \"UNKNOWN\",\\n  \"marital_...</td>\n",
       "      <td>UNKNOWN</td>\n",
       "      <td>UNKNOWN</td>\n",
       "      <td>True</td>\n",
       "      <td>False</td>\n",
       "      <td>False</td>\n",
       "    </tr>\n",
       "    <tr>\n",
       "      <th>2</th>\n",
       "      <td>2</td>\n",
       "      <td>Nursing</td>\n",
       "      <td>10954</td>\n",
       "      <td>401903</td>\n",
       "      <td>2</td>\n",
       "      <td>She was extubated the next day after a thorace...</td>\n",
       "      <td>0.0</td>\n",
       "      <td>0.0</td>\n",
       "      <td>0.0</td>\n",
       "      <td>0.0</td>\n",
       "      <td>...</td>\n",
       "      <td>0.0</td>\n",
       "      <td>0.0</td>\n",
       "      <td>0.0</td>\n",
       "      <td>True</td>\n",
       "      <td>{\\n  \"marital_status\": \"UNKNOWN\",\\n  \"marital_...</td>\n",
       "      <td>UNKNOWN</td>\n",
       "      <td>UNKNOWN</td>\n",
       "      <td>True</td>\n",
       "      <td>False</td>\n",
       "      <td>False</td>\n",
       "    </tr>\n",
       "    <tr>\n",
       "      <th>3</th>\n",
       "      <td>3</td>\n",
       "      <td>Nursing</td>\n",
       "      <td>10954</td>\n",
       "      <td>401903</td>\n",
       "      <td>3</td>\n",
       "      <td>She was transferred to the medical service fro...</td>\n",
       "      <td>0.0</td>\n",
       "      <td>0.0</td>\n",
       "      <td>0.0</td>\n",
       "      <td>0.0</td>\n",
       "      <td>...</td>\n",
       "      <td>0.0</td>\n",
       "      <td>0.0</td>\n",
       "      <td>0.0</td>\n",
       "      <td>True</td>\n",
       "      <td>{\\n  \"marital_status\": \"UNKNOWN\",\\n  \"marital_...</td>\n",
       "      <td>UNKNOWN</td>\n",
       "      <td>UNKNOWN</td>\n",
       "      <td>True</td>\n",
       "      <td>False</td>\n",
       "      <td>False</td>\n",
       "    </tr>\n",
       "    <tr>\n",
       "      <th>4</th>\n",
       "      <td>4</td>\n",
       "      <td>Nursing</td>\n",
       "      <td>10954</td>\n",
       "      <td>401903</td>\n",
       "      <td>4</td>\n",
       "      <td>Please see Vascular, SICU and Medicine admissi...</td>\n",
       "      <td>0.0</td>\n",
       "      <td>0.0</td>\n",
       "      <td>0.0</td>\n",
       "      <td>0.0</td>\n",
       "      <td>...</td>\n",
       "      <td>0.0</td>\n",
       "      <td>0.0</td>\n",
       "      <td>0.0</td>\n",
       "      <td>True</td>\n",
       "      <td>{\\n  \"marital_status\": \"UNKNOWN\",\\n  \"marital_...</td>\n",
       "      <td>UNKNOWN</td>\n",
       "      <td>UNKNOWN</td>\n",
       "      <td>True</td>\n",
       "      <td>False</td>\n",
       "      <td>False</td>\n",
       "    </tr>\n",
       "  </tbody>\n",
       "</table>\n",
       "<p>5 rows × 33 columns</p>\n",
       "</div>"
      ],
      "text/plain": [
       "   index provider_type  patient_id  note_id  sentence_index  \\\n",
       "0      0       Nursing       10954   401903               0   \n",
       "1      1       Nursing       10954   401903               1   \n",
       "2      2       Nursing       10954   401903               2   \n",
       "3      3       Nursing       10954   401903               3   \n",
       "4      4       Nursing       10954   401903               4   \n",
       "\n",
       "                                                text  TRANSPORTATION_distance  \\\n",
       "0  Ms. [**Known lastname 11692**] is a 52 year ol...                      0.0   \n",
       "1  During her admission, she developed obtundatio...                      0.0   \n",
       "2  She was extubated the next day after a thorace...                      0.0   \n",
       "3  She was transferred to the medical service fro...                      0.0   \n",
       "4  Please see Vascular, SICU and Medicine admissi...                      0.0   \n",
       "\n",
       "   TRANSPORTATION_resource  TRANSPORTATION_other  HOUSING_poor  ...  \\\n",
       "0                      0.0                   0.0           0.0  ...   \n",
       "1                      0.0                   0.0           0.0  ...   \n",
       "2                      0.0                   0.0           0.0  ...   \n",
       "3                      0.0                   0.0           0.0  ...   \n",
       "4                      0.0                   0.0           0.0  ...   \n",
       "\n",
       "   SUPPORT_plus  SUPPORT_minus  PARENT  UNKNOWN  \\\n",
       "0           0.0            0.0     0.0     True   \n",
       "1           0.0            0.0     0.0     True   \n",
       "2           0.0            0.0     0.0     True   \n",
       "3           0.0            0.0     0.0     True   \n",
       "4           0.0            0.0     0.0     True   \n",
       "\n",
       "                                            llm_text  \\\n",
       "0  {\\n  \"marital_status\": \"UNKNOWN\",\\n  \"marital_...   \n",
       "1  {\\n  \"marital_status\": \"UNKNOWN\",\\n  \"marital_...   \n",
       "2  {\\n  \"marital_status\": \"UNKNOWN\",\\n  \"marital_...   \n",
       "3  {\\n  \"marital_status\": \"UNKNOWN\",\\n  \"marital_...   \n",
       "4  {\\n  \"marital_status\": \"UNKNOWN\",\\n  \"marital_...   \n",
       "\n",
       "   llm_label_marital_status  llm_label_RELATIONSHIP  llm_label_UNKNOWN  \\\n",
       "0                   UNKNOWN                 UNKNOWN               True   \n",
       "1                   UNKNOWN                 UNKNOWN               True   \n",
       "2                   UNKNOWN                 UNKNOWN               True   \n",
       "3                   UNKNOWN                 UNKNOWN               True   \n",
       "4                   UNKNOWN                 UNKNOWN               True   \n",
       "\n",
       "   RELATIONSHIP_nonadverse  RELATIONSHIP_adverse  \n",
       "0                    False                 False  \n",
       "1                    False                 False  \n",
       "2                    False                 False  \n",
       "3                    False                 False  \n",
       "4                    False                 False  \n",
       "\n",
       "[5 rows x 33 columns]"
      ]
     },
     "execution_count": 10,
     "metadata": {},
     "output_type": "execute_result"
    }
   ],
   "source": [
    "relation_ground_truth.head()"
   ]
  },
  {
   "cell_type": "code",
   "execution_count": 11,
   "metadata": {},
   "outputs": [
    {
     "data": {
      "text/plain": [
       "Index(['index', 'provider_type', 'patient_id', 'note_id', 'sentence_index',\n",
       "       'text', 'TRANSPORTATION_distance', 'TRANSPORTATION_resource',\n",
       "       'TRANSPORTATION_other', 'HOUSING_poor', 'HOUSING_undomiciled',\n",
       "       'HOUSING_other', 'RELATIONSHIP_married', 'RELATIONSHIP_partnered',\n",
       "       'RELATIONSHIP_divorced', 'RELATIONSHIP_widowed', 'RELATIONSHIP_single',\n",
       "       'EMPLOYMENT_employed', 'EMPLOYMENT_underemployed',\n",
       "       'EMPLOYMENT_unemployed', 'EMPLOYMENT_disability', 'EMPLOYMENT_retired',\n",
       "       'EMPLOYMENT_student', 'SUPPORT_plus', 'SUPPORT_minus', 'PARENT',\n",
       "       'UNKNOWN', 'llm_text', 'llm_label_EMPLOYMENT', 'llm_label_UNKNOWN',\n",
       "       'EMPLOYMENT_nonadverse', 'EMPLOYMENT_adverse'],\n",
       "      dtype='object')"
      ]
     },
     "execution_count": 11,
     "metadata": {},
     "output_type": "execute_result"
    }
   ],
   "source": [
    "employment_ground_truth.columns"
   ]
  },
  {
   "cell_type": "code",
   "execution_count": 12,
   "metadata": {},
   "outputs": [
    {
     "data": {
      "text/plain": [
       "Index(['index', 'provider_type', 'patient_id', 'note_id', 'sentence_index',\n",
       "       'text', 'TRANSPORTATION_distance', 'TRANSPORTATION_resource',\n",
       "       'TRANSPORTATION_other', 'HOUSING_poor', 'HOUSING_undomiciled',\n",
       "       'HOUSING_other', 'RELATIONSHIP_married', 'RELATIONSHIP_partnered',\n",
       "       'RELATIONSHIP_divorced', 'RELATIONSHIP_widowed', 'RELATIONSHIP_single',\n",
       "       'EMPLOYMENT_employed', 'EMPLOYMENT_underemployed',\n",
       "       'EMPLOYMENT_unemployed', 'EMPLOYMENT_disability', 'EMPLOYMENT_retired',\n",
       "       'EMPLOYMENT_student', 'SUPPORT_plus', 'SUPPORT_minus', 'PARENT',\n",
       "       'UNKNOWN', 'llm_text', 'llm_label_marital_status',\n",
       "       'llm_label_RELATIONSHIP', 'llm_label_UNKNOWN',\n",
       "       'RELATIONSHIP_nonadverse', 'RELATIONSHIP_adverse'],\n",
       "      dtype='object')"
      ]
     },
     "execution_count": 12,
     "metadata": {},
     "output_type": "execute_result"
    }
   ],
   "source": [
    "relation_ground_truth.columns"
   ]
  },
  {
   "cell_type": "code",
   "execution_count": 13,
   "metadata": {},
   "outputs": [],
   "source": [
    "relation_df = relation_ground_truth[['RELATIONSHIP_nonadverse', 'RELATIONSHIP_adverse']]"
   ]
  },
  {
   "cell_type": "code",
   "execution_count": 14,
   "metadata": {},
   "outputs": [],
   "source": [
    "final_df = employment_ground_truth.join(relation_df, on='index', how='left')"
   ]
  },
  {
   "cell_type": "code",
   "execution_count": 15,
   "metadata": {},
   "outputs": [
    {
     "data": {
      "text/html": [
       "<div>\n",
       "<style scoped>\n",
       "    .dataframe tbody tr th:only-of-type {\n",
       "        vertical-align: middle;\n",
       "    }\n",
       "\n",
       "    .dataframe tbody tr th {\n",
       "        vertical-align: top;\n",
       "    }\n",
       "\n",
       "    .dataframe thead th {\n",
       "        text-align: right;\n",
       "    }\n",
       "</style>\n",
       "<table border=\"1\" class=\"dataframe\">\n",
       "  <thead>\n",
       "    <tr style=\"text-align: right;\">\n",
       "      <th></th>\n",
       "      <th>index</th>\n",
       "      <th>provider_type</th>\n",
       "      <th>patient_id</th>\n",
       "      <th>note_id</th>\n",
       "      <th>sentence_index</th>\n",
       "      <th>text</th>\n",
       "      <th>TRANSPORTATION_distance</th>\n",
       "      <th>TRANSPORTATION_resource</th>\n",
       "      <th>TRANSPORTATION_other</th>\n",
       "      <th>HOUSING_poor</th>\n",
       "      <th>...</th>\n",
       "      <th>SUPPORT_minus</th>\n",
       "      <th>PARENT</th>\n",
       "      <th>UNKNOWN</th>\n",
       "      <th>llm_text</th>\n",
       "      <th>llm_label_EMPLOYMENT</th>\n",
       "      <th>llm_label_UNKNOWN</th>\n",
       "      <th>EMPLOYMENT_nonadverse</th>\n",
       "      <th>EMPLOYMENT_adverse</th>\n",
       "      <th>RELATIONSHIP_nonadverse</th>\n",
       "      <th>RELATIONSHIP_adverse</th>\n",
       "    </tr>\n",
       "  </thead>\n",
       "  <tbody>\n",
       "    <tr>\n",
       "      <th>0</th>\n",
       "      <td>0</td>\n",
       "      <td>Nursing</td>\n",
       "      <td>10954</td>\n",
       "      <td>401903</td>\n",
       "      <td>0</td>\n",
       "      <td>Ms. [**Known lastname 11692**] is a 52 year ol...</td>\n",
       "      <td>0.0</td>\n",
       "      <td>0.0</td>\n",
       "      <td>0.0</td>\n",
       "      <td>0.0</td>\n",
       "      <td>...</td>\n",
       "      <td>0.0</td>\n",
       "      <td>0.0</td>\n",
       "      <td>True</td>\n",
       "      <td>{\\n  \"EMPLOYMENT\": \"UNKNOWN\",\\n  \"EMPLOYMENT_C...</td>\n",
       "      <td>UNKNOWN</td>\n",
       "      <td>True</td>\n",
       "      <td>False</td>\n",
       "      <td>False</td>\n",
       "      <td>False</td>\n",
       "      <td>False</td>\n",
       "    </tr>\n",
       "    <tr>\n",
       "      <th>1</th>\n",
       "      <td>1</td>\n",
       "      <td>Nursing</td>\n",
       "      <td>10954</td>\n",
       "      <td>401903</td>\n",
       "      <td>1</td>\n",
       "      <td>During her admission, she developed obtundatio...</td>\n",
       "      <td>0.0</td>\n",
       "      <td>0.0</td>\n",
       "      <td>0.0</td>\n",
       "      <td>0.0</td>\n",
       "      <td>...</td>\n",
       "      <td>0.0</td>\n",
       "      <td>0.0</td>\n",
       "      <td>True</td>\n",
       "      <td>{\\n  \"EMPLOYMENT\": \"UNKNOWN\",\\n  \"EMPLOYMENT_C...</td>\n",
       "      <td>UNKNOWN</td>\n",
       "      <td>True</td>\n",
       "      <td>False</td>\n",
       "      <td>False</td>\n",
       "      <td>False</td>\n",
       "      <td>False</td>\n",
       "    </tr>\n",
       "    <tr>\n",
       "      <th>2</th>\n",
       "      <td>2</td>\n",
       "      <td>Nursing</td>\n",
       "      <td>10954</td>\n",
       "      <td>401903</td>\n",
       "      <td>2</td>\n",
       "      <td>She was extubated the next day after a thorace...</td>\n",
       "      <td>0.0</td>\n",
       "      <td>0.0</td>\n",
       "      <td>0.0</td>\n",
       "      <td>0.0</td>\n",
       "      <td>...</td>\n",
       "      <td>0.0</td>\n",
       "      <td>0.0</td>\n",
       "      <td>True</td>\n",
       "      <td>{\\n  \"EMPLOYMENT\": \"UNKNOWN\",\\n  \"EMPLOYMENT_C...</td>\n",
       "      <td>UNKNOWN</td>\n",
       "      <td>True</td>\n",
       "      <td>False</td>\n",
       "      <td>False</td>\n",
       "      <td>False</td>\n",
       "      <td>False</td>\n",
       "    </tr>\n",
       "    <tr>\n",
       "      <th>3</th>\n",
       "      <td>3</td>\n",
       "      <td>Nursing</td>\n",
       "      <td>10954</td>\n",
       "      <td>401903</td>\n",
       "      <td>3</td>\n",
       "      <td>She was transferred to the medical service fro...</td>\n",
       "      <td>0.0</td>\n",
       "      <td>0.0</td>\n",
       "      <td>0.0</td>\n",
       "      <td>0.0</td>\n",
       "      <td>...</td>\n",
       "      <td>0.0</td>\n",
       "      <td>0.0</td>\n",
       "      <td>True</td>\n",
       "      <td>{\\n  \"EMPLOYMENT\": \"UNKNOWN\",\\n  \"EMPLOYMENT_C...</td>\n",
       "      <td>UNKNOWN</td>\n",
       "      <td>True</td>\n",
       "      <td>False</td>\n",
       "      <td>False</td>\n",
       "      <td>False</td>\n",
       "      <td>False</td>\n",
       "    </tr>\n",
       "    <tr>\n",
       "      <th>4</th>\n",
       "      <td>4</td>\n",
       "      <td>Nursing</td>\n",
       "      <td>10954</td>\n",
       "      <td>401903</td>\n",
       "      <td>4</td>\n",
       "      <td>Please see Vascular, SICU and Medicine admissi...</td>\n",
       "      <td>0.0</td>\n",
       "      <td>0.0</td>\n",
       "      <td>0.0</td>\n",
       "      <td>0.0</td>\n",
       "      <td>...</td>\n",
       "      <td>0.0</td>\n",
       "      <td>0.0</td>\n",
       "      <td>True</td>\n",
       "      <td>{\\n  \"EMPLOYMENT\": \"UNKNOWN\",\\n  \"EMPLOYMENT_C...</td>\n",
       "      <td>UNKNOWN</td>\n",
       "      <td>True</td>\n",
       "      <td>False</td>\n",
       "      <td>False</td>\n",
       "      <td>False</td>\n",
       "      <td>False</td>\n",
       "    </tr>\n",
       "  </tbody>\n",
       "</table>\n",
       "<p>5 rows × 34 columns</p>\n",
       "</div>"
      ],
      "text/plain": [
       "   index provider_type  patient_id  note_id  sentence_index  \\\n",
       "0      0       Nursing       10954   401903               0   \n",
       "1      1       Nursing       10954   401903               1   \n",
       "2      2       Nursing       10954   401903               2   \n",
       "3      3       Nursing       10954   401903               3   \n",
       "4      4       Nursing       10954   401903               4   \n",
       "\n",
       "                                                text  TRANSPORTATION_distance  \\\n",
       "0  Ms. [**Known lastname 11692**] is a 52 year ol...                      0.0   \n",
       "1  During her admission, she developed obtundatio...                      0.0   \n",
       "2  She was extubated the next day after a thorace...                      0.0   \n",
       "3  She was transferred to the medical service fro...                      0.0   \n",
       "4  Please see Vascular, SICU and Medicine admissi...                      0.0   \n",
       "\n",
       "   TRANSPORTATION_resource  TRANSPORTATION_other  HOUSING_poor  ...  \\\n",
       "0                      0.0                   0.0           0.0  ...   \n",
       "1                      0.0                   0.0           0.0  ...   \n",
       "2                      0.0                   0.0           0.0  ...   \n",
       "3                      0.0                   0.0           0.0  ...   \n",
       "4                      0.0                   0.0           0.0  ...   \n",
       "\n",
       "   SUPPORT_minus  PARENT  UNKNOWN  \\\n",
       "0            0.0     0.0     True   \n",
       "1            0.0     0.0     True   \n",
       "2            0.0     0.0     True   \n",
       "3            0.0     0.0     True   \n",
       "4            0.0     0.0     True   \n",
       "\n",
       "                                            llm_text  llm_label_EMPLOYMENT  \\\n",
       "0  {\\n  \"EMPLOYMENT\": \"UNKNOWN\",\\n  \"EMPLOYMENT_C...               UNKNOWN   \n",
       "1  {\\n  \"EMPLOYMENT\": \"UNKNOWN\",\\n  \"EMPLOYMENT_C...               UNKNOWN   \n",
       "2  {\\n  \"EMPLOYMENT\": \"UNKNOWN\",\\n  \"EMPLOYMENT_C...               UNKNOWN   \n",
       "3  {\\n  \"EMPLOYMENT\": \"UNKNOWN\",\\n  \"EMPLOYMENT_C...               UNKNOWN   \n",
       "4  {\\n  \"EMPLOYMENT\": \"UNKNOWN\",\\n  \"EMPLOYMENT_C...               UNKNOWN   \n",
       "\n",
       "   llm_label_UNKNOWN  EMPLOYMENT_nonadverse  EMPLOYMENT_adverse  \\\n",
       "0               True                  False               False   \n",
       "1               True                  False               False   \n",
       "2               True                  False               False   \n",
       "3               True                  False               False   \n",
       "4               True                  False               False   \n",
       "\n",
       "   RELATIONSHIP_nonadverse  RELATIONSHIP_adverse  \n",
       "0                    False                 False  \n",
       "1                    False                 False  \n",
       "2                    False                 False  \n",
       "3                    False                 False  \n",
       "4                    False                 False  \n",
       "\n",
       "[5 rows x 34 columns]"
      ]
     },
     "execution_count": 15,
     "metadata": {},
     "output_type": "execute_result"
    }
   ],
   "source": [
    "final_df.head()"
   ]
  },
  {
   "cell_type": "code",
   "execution_count": 17,
   "metadata": {},
   "outputs": [],
   "source": [
    "with open('../azure_credentials.json', 'r') as file:\n",
    "    azure_data = json.load(file)\n",
    "    api_key = azure_data['API_KEY']\n",
    "    api_version = azure_data['API_VERSION']\n",
    "    azure_endpoint = azure_data['AZURE_ENDPOINT']\n",
    "    azure_deployment_name = azure_data['AZURE_DEPLOYMENT_NAME']\n",
    "\n",
    "client = AzureOpenAI(\n",
    "    api_key=api_key,\n",
    "    api_version=api_version,\n",
    "    azure_endpoint = azure_endpoint\n",
    "    )\n",
    "\n",
    "deployment_name=azure_deployment_name #This will correspond to the custom name you chose for your deployment when you deployed a model. Use a gpt-35-turbo-instruct deployment.\n",
    "\n",
    "# Defining a function to create the prompt from the instruction system message, the few-shot examples, and the current query\n",
    "def create_prompt(system_message, user_message):    \n",
    "    formatted_message = [\n",
    "        {\"role\": \"system\", \"content\": system_message},\n",
    "        {\"role\": \"user\", \"content\": user_message}\n",
    "    ]\n",
    "    \n",
    "    return formatted_message\n",
    "\n",
    "# This function sends the prompt to the GPT model\n",
    "def send_message(message, model_name, max_response_tokens=500):\n",
    "    response = client.chat.completions.create(\n",
    "        model=model_name,\n",
    "        messages=message,\n",
    "        temperature=0,\n",
    "        max_tokens=max_response_tokens,\n",
    "        top_p=0.95,\n",
    "        frequency_penalty=0,\n",
    "        presence_penalty=0,\n",
    "        stop=None\n",
    "    )\n",
    "    \n",
    "    return response.choices[0].message.content.strip()"
   ]
  },
  {
   "cell_type": "code",
   "execution_count": 18,
   "metadata": {},
   "outputs": [
    {
     "data": {
      "text/plain": [
       "EMPLOYMENT_nonadverse\n",
       "False    5276\n",
       "True       45\n",
       "Name: count, dtype: int64"
      ]
     },
     "execution_count": 18,
     "metadata": {},
     "output_type": "execute_result"
    }
   ],
   "source": [
    "final_df['EMPLOYMENT_nonadverse'].value_counts()"
   ]
  },
  {
   "cell_type": "code",
   "execution_count": 19,
   "metadata": {},
   "outputs": [],
   "source": [
    "# index_list = []\n",
    "# llm_response_list = []\n",
    "# system_message = \"You are an information extract tool that follows instructions very well and is specifically trained to extract social determinants of health elements from hospital generated free-text.\"\n",
    "# for index, row in final_df[final_df['EMPLOYMENT_nonadverse'] == True].iterrows():\n",
    "#     free_text = row['text']\n",
    "#     user_message = step1_query_optimized.format(free_text=free_text)\n",
    "#     openai_message = create_prompt(system_message, user_message)\n",
    "#     response = send_message(openai_message, deployment_name)\n",
    "    \n",
    "#     index_list.append(index)\n",
    "#     llm_response_list.append(response)\n",
    "#     print(free_text)\n",
    "#     print(response)\n",
    "#     print()\n",
    "\n",
    "# llm_employment_nonadverse_step1 = pd.DataFrame({'index': index_list, 'llm_employment_nonadverse': llm_response_list})\n",
    "\n",
    "# with open('llm_employment_nonadverse_step1.pkl', 'wb') as file:\n",
    "#     pickle.dump(llm_employment_nonadverse_step1, file)"
   ]
  },
  {
   "cell_type": "code",
   "execution_count": 20,
   "metadata": {},
   "outputs": [
    {
     "data": {
      "text/plain": [
       "EMPLOYMENT_adverse\n",
       "False    5299\n",
       "True       22\n",
       "Name: count, dtype: int64"
      ]
     },
     "execution_count": 20,
     "metadata": {},
     "output_type": "execute_result"
    }
   ],
   "source": [
    "final_df['EMPLOYMENT_adverse'].value_counts()"
   ]
  },
  {
   "cell_type": "code",
   "execution_count": 21,
   "metadata": {},
   "outputs": [],
   "source": [
    "# index_list = []\n",
    "# llm_response_list = []\n",
    "# system_message = \"You are an information extract tool that follows instructions very well and is specifically trained to extract social determinants of health elements from hospital generated free-text.\"\n",
    "# for index, row in final_df[final_df['EMPLOYMENT_adverse'] == True].iterrows():\n",
    "#     free_text = row['text']\n",
    "#     user_message = step1_query_optimized.format(free_text=free_text)\n",
    "#     openai_message = create_prompt(system_message, user_message)\n",
    "#     response = send_message(openai_message, deployment_name)\n",
    "    \n",
    "#     index_list.append(index)\n",
    "#     llm_response_list.append(response)\n",
    "#     print(free_text)\n",
    "#     print(response)\n",
    "#     print()\n",
    "\n",
    "# llm_employment_adverse_step1 = pd.DataFrame({'index': index_list, 'llm_employment_adverse': llm_response_list})\n",
    "\n",
    "# with open('llm_employment_adverse_step1.pkl', 'wb') as file:\n",
    "#     pickle.dump(llm_employment_adverse_step1, file)"
   ]
  },
  {
   "cell_type": "code",
   "execution_count": 22,
   "metadata": {},
   "outputs": [
    {
     "data": {
      "text/plain": [
       "RELATIONSHIP_nonadverse\n",
       "False    5157\n",
       "True      157\n",
       "Name: count, dtype: int64"
      ]
     },
     "execution_count": 22,
     "metadata": {},
     "output_type": "execute_result"
    }
   ],
   "source": [
    "final_df['RELATIONSHIP_nonadverse'].value_counts()"
   ]
  },
  {
   "cell_type": "code",
   "execution_count": 23,
   "metadata": {},
   "outputs": [],
   "source": [
    "# index_list = []\n",
    "# llm_response_list = []\n",
    "# system_message = \"You are an information extract tool that follows instructions very well and is specifically trained to extract social determinants of health elements from hospital generated free-text.\"\n",
    "# for index, row in final_df[final_df['RELATIONSHIP_nonadverse'] == True].iterrows():\n",
    "#     free_text = row['text']\n",
    "#     user_message = step1_query_optimized.format(free_text=free_text)\n",
    "#     openai_message = create_prompt(system_message, user_message)\n",
    "#     response = send_message(openai_message, deployment_name)\n",
    "    \n",
    "#     index_list.append(index)\n",
    "#     llm_response_list.append(response)\n",
    "#     print(free_text)\n",
    "#     print(response)\n",
    "#     print()\n",
    "\n",
    "# llm_relationship_nonadverse_step1 = pd.DataFrame({'index': index_list, 'llm_relationship_nonadverse': llm_response_list})\n",
    "\n",
    "# with open('llm_relationship_nonadverse_step1.pkl', 'wb') as file:\n",
    "#     pickle.dump(llm_relationship_nonadverse_step1, file)"
   ]
  },
  {
   "cell_type": "code",
   "execution_count": 24,
   "metadata": {},
   "outputs": [
    {
     "data": {
      "text/plain": [
       "RELATIONSHIP_adverse\n",
       "False    5291\n",
       "True       23\n",
       "Name: count, dtype: int64"
      ]
     },
     "execution_count": 24,
     "metadata": {},
     "output_type": "execute_result"
    }
   ],
   "source": [
    "final_df['RELATIONSHIP_adverse'].value_counts()"
   ]
  },
  {
   "cell_type": "code",
   "execution_count": 25,
   "metadata": {},
   "outputs": [],
   "source": [
    "# index_list = []\n",
    "# llm_response_list = []\n",
    "# system_message = \"You are an information extract tool that follows instructions very well and is specifically trained to extract social determinants of health elements from hospital generated free-text.\"\n",
    "# for index, row in final_df[final_df['RELATIONSHIP_adverse'] == True].iterrows():\n",
    "#     free_text = row['text']\n",
    "#     user_message = step1_query_optimized.format(free_text=free_text)\n",
    "#     openai_message = create_prompt(system_message, user_message)\n",
    "#     response = send_message(openai_message, deployment_name)\n",
    "    \n",
    "#     index_list.append(index)\n",
    "#     llm_response_list.append(response)\n",
    "#     print(free_text)\n",
    "#     print(response)\n",
    "#     print()\n",
    "\n",
    "# llm_relationship_adverse_step1 = pd.DataFrame({'index': index_list, 'llm_relationship_adverse': llm_response_list})\n",
    "\n",
    "# with open('llm_relationship_adverse_step1.pkl', 'wb') as file:\n",
    "#     pickle.dump(llm_relationship_adverse_step1, file)"
   ]
  },
  {
   "cell_type": "code",
   "execution_count": 26,
   "metadata": {},
   "outputs": [
    {
     "data": {
      "text/plain": [
       "TRANSPORTATION_distance\n",
       "0.0    5319\n",
       "1.0       2\n",
       "Name: count, dtype: int64"
      ]
     },
     "execution_count": 26,
     "metadata": {},
     "output_type": "execute_result"
    }
   ],
   "source": [
    "final_df['TRANSPORTATION_distance'].value_counts()"
   ]
  },
  {
   "cell_type": "code",
   "execution_count": 27,
   "metadata": {},
   "outputs": [],
   "source": [
    "# index_list = []\n",
    "# llm_response_list = []\n",
    "# system_message = \"You are an information extract tool that follows instructions very well and is specifically trained to extract social determinants of health elements from hospital generated free-text.\"\n",
    "# for index, row in final_df[final_df['TRANSPORTATION_distance'] == True].iterrows():\n",
    "#     free_text = row['text']\n",
    "#     user_message = step1_query_optimized.format(free_text=free_text)\n",
    "#     openai_message = create_prompt(system_message, user_message)\n",
    "#     response = send_message(openai_message, deployment_name)\n",
    "    \n",
    "#     index_list.append(index)\n",
    "#     llm_response_list.append(response)\n",
    "#     print(free_text)\n",
    "#     print(response)\n",
    "#     print()\n",
    "\n",
    "# llm_transportation_distance_step1 = pd.DataFrame({'index': index_list, 'llm_transportation_distance': llm_response_list})\n",
    "\n",
    "# with open('llm_transportation_distance_step1.pkl', 'wb') as file:\n",
    "#     pickle.dump(llm_transportation_distance_step1, file)"
   ]
  },
  {
   "cell_type": "code",
   "execution_count": 28,
   "metadata": {},
   "outputs": [
    {
     "data": {
      "text/plain": [
       "TRANSPORTATION_resource\n",
       "0.0    5321\n",
       "Name: count, dtype: int64"
      ]
     },
     "execution_count": 28,
     "metadata": {},
     "output_type": "execute_result"
    }
   ],
   "source": [
    "final_df['TRANSPORTATION_resource'].value_counts()"
   ]
  },
  {
   "cell_type": "code",
   "execution_count": 29,
   "metadata": {},
   "outputs": [
    {
     "data": {
      "text/plain": [
       "TRANSPORTATION_other\n",
       "0.0    5320\n",
       "1.0       1\n",
       "Name: count, dtype: int64"
      ]
     },
     "execution_count": 29,
     "metadata": {},
     "output_type": "execute_result"
    }
   ],
   "source": [
    "final_df['TRANSPORTATION_other'].value_counts()"
   ]
  },
  {
   "cell_type": "code",
   "execution_count": 30,
   "metadata": {},
   "outputs": [
    {
     "data": {
      "text/plain": [
       "HOUSING_poor\n",
       "0.0    5319\n",
       "1.0       2\n",
       "Name: count, dtype: int64"
      ]
     },
     "execution_count": 30,
     "metadata": {},
     "output_type": "execute_result"
    }
   ],
   "source": [
    "final_df['HOUSING_poor'].value_counts()"
   ]
  },
  {
   "cell_type": "code",
   "execution_count": null,
   "metadata": {},
   "outputs": [],
   "source": [
    "# index_list = []\n",
    "# llm_response_list = []\n",
    "# system_message = \"You are an information extract tool that follows instructions very well and is specifically trained to extract social determinants of health elements from hospital generated free-text.\"\n",
    "# for index, row in final_df[final_df['HOUSING_poor'] == True].iterrows():\n",
    "#     free_text = row['text']\n",
    "#     user_message = step1_query_optimized.format(free_text=free_text)\n",
    "#     openai_message = create_prompt(system_message, user_message)\n",
    "#     response = send_message(openai_message, deployment_name)\n",
    "    \n",
    "#     index_list.append(index)\n",
    "#     llm_response_list.append(response)\n",
    "#     print(free_text)\n",
    "#     print(response)\n",
    "#     print()\n",
    "\n",
    "# llm_housing_poor_step1 = pd.DataFrame({'index': index_list, 'llm_housing_poor': llm_response_list})\n",
    "\n",
    "# with open('llm_housing_poor_step1.pkl', 'wb') as file:\n",
    "#     pickle.dump(llm_housing_poor_step1, file)"
   ]
  },
  {
   "cell_type": "code",
   "execution_count": 31,
   "metadata": {},
   "outputs": [
    {
     "data": {
      "text/plain": [
       "HOUSING_undomiciled\n",
       "0.0    5321\n",
       "Name: count, dtype: int64"
      ]
     },
     "execution_count": 31,
     "metadata": {},
     "output_type": "execute_result"
    }
   ],
   "source": [
    "final_df['HOUSING_undomiciled'].value_counts()"
   ]
  },
  {
   "cell_type": "code",
   "execution_count": 32,
   "metadata": {},
   "outputs": [
    {
     "data": {
      "text/plain": [
       "HOUSING_other\n",
       "0.0    5320\n",
       "1.0       1\n",
       "Name: count, dtype: int64"
      ]
     },
     "execution_count": 32,
     "metadata": {},
     "output_type": "execute_result"
    }
   ],
   "source": [
    "final_df['HOUSING_other'].value_counts()"
   ]
  },
  {
   "cell_type": "code",
   "execution_count": 33,
   "metadata": {},
   "outputs": [
    {
     "data": {
      "text/plain": [
       "RELATIONSHIP_married\n",
       "0.0    5189\n",
       "1.0     132\n",
       "Name: count, dtype: int64"
      ]
     },
     "execution_count": 33,
     "metadata": {},
     "output_type": "execute_result"
    }
   ],
   "source": [
    "final_df['RELATIONSHIP_married'].value_counts()"
   ]
  },
  {
   "cell_type": "code",
   "execution_count": 34,
   "metadata": {},
   "outputs": [],
   "source": [
    "# index_list = []\n",
    "# llm_response_list = []\n",
    "# system_message = \"You are an information extract tool that follows instructions very well and is specifically trained to extract social determinants of health elements from hospital generated free-text.\"\n",
    "# for index, row in final_df[final_df['RELATIONSHIP_married'] == True].iterrows():\n",
    "#     free_text = row['text']\n",
    "#     user_message = step1_query_optimized.format(free_text=free_text)\n",
    "#     openai_message = create_prompt(system_message, user_message)\n",
    "#     response = send_message(openai_message, deployment_name)\n",
    "    \n",
    "#     index_list.append(index)\n",
    "#     llm_response_list.append(response)\n",
    "#     print(free_text)\n",
    "#     print(response)\n",
    "#     print()\n",
    "\n",
    "# llm_relationship_married_step1 = pd.DataFrame({'index': index_list, 'llm_relationship_married': llm_response_list})\n",
    "\n",
    "# with open('llm_relationship_married_step1.pkl', 'wb') as file:\n",
    "#     pickle.dump(llm_relationship_married_step1, file)"
   ]
  },
  {
   "cell_type": "code",
   "execution_count": 35,
   "metadata": {},
   "outputs": [
    {
     "data": {
      "text/plain": [
       "RELATIONSHIP_partnered\n",
       "0.0    5296\n",
       "1.0      25\n",
       "Name: count, dtype: int64"
      ]
     },
     "execution_count": 35,
     "metadata": {},
     "output_type": "execute_result"
    }
   ],
   "source": [
    "final_df['RELATIONSHIP_partnered'].value_counts()"
   ]
  },
  {
   "cell_type": "code",
   "execution_count": 36,
   "metadata": {},
   "outputs": [],
   "source": [
    "# index_list = []\n",
    "# llm_response_list = []\n",
    "# system_message = \"You are an information extract tool that follows instructions very well and is specifically trained to extract social determinants of health elements from hospital generated free-text.\"\n",
    "# for index, row in final_df[final_df['RELATIONSHIP_partnered'] == True].iterrows():\n",
    "#     free_text = row['text']\n",
    "#     user_message = step1_query_optimized.format(free_text=free_text)\n",
    "#     openai_message = create_prompt(system_message, user_message)\n",
    "#     response = send_message(openai_message, deployment_name)\n",
    "    \n",
    "#     index_list.append(index)\n",
    "#     llm_response_list.append(response)\n",
    "#     print(free_text)\n",
    "#     print(response)\n",
    "#     print()\n",
    "\n",
    "# llm_relationship_partnered_step1 = pd.DataFrame({'index': index_list, 'llm_relationship_partnered': llm_response_list})\n",
    "\n",
    "# with open('llm_relationship_partnered_step1.pkl', 'wb') as file:\n",
    "#     pickle.dump(llm_relationship_partnered_step1, file)"
   ]
  },
  {
   "cell_type": "code",
   "execution_count": 37,
   "metadata": {},
   "outputs": [
    {
     "data": {
      "text/plain": [
       "RELATIONSHIP_divorced\n",
       "0.0    5304\n",
       "1.0      17\n",
       "Name: count, dtype: int64"
      ]
     },
     "execution_count": 37,
     "metadata": {},
     "output_type": "execute_result"
    }
   ],
   "source": [
    "final_df['RELATIONSHIP_divorced'].value_counts()"
   ]
  },
  {
   "cell_type": "code",
   "execution_count": 38,
   "metadata": {},
   "outputs": [],
   "source": [
    "# index_list = []\n",
    "# llm_response_list = []\n",
    "# system_message = \"You are an information extract tool that follows instructions very well and is specifically trained to extract social determinants of health elements from hospital generated free-text.\"\n",
    "# for index, row in final_df[final_df['RELATIONSHIP_divorced'] == True].iterrows():\n",
    "#     free_text = row['text']\n",
    "#     user_message = step1_query_optimized.format(free_text=free_text)\n",
    "#     openai_message = create_prompt(system_message, user_message)\n",
    "#     response = send_message(openai_message, deployment_name)\n",
    "    \n",
    "#     index_list.append(index)\n",
    "#     llm_response_list.append(response)\n",
    "#     print(free_text)\n",
    "#     print(response)\n",
    "#     print()\n",
    "\n",
    "# llm_relationship_divorced_step1 = pd.DataFrame({'index': index_list, 'llm_relationship_divorced': llm_response_list})\n",
    "\n",
    "# with open('llm_relationship_divorced_step1.pkl', 'wb') as file:\n",
    "#     pickle.dump(llm_relationship_divorced_step1, file)"
   ]
  },
  {
   "cell_type": "code",
   "execution_count": 39,
   "metadata": {},
   "outputs": [
    {
     "data": {
      "text/plain": [
       "RELATIONSHIP_widowed\n",
       "0.0    5320\n",
       "1.0       1\n",
       "Name: count, dtype: int64"
      ]
     },
     "execution_count": 39,
     "metadata": {},
     "output_type": "execute_result"
    }
   ],
   "source": [
    "final_df['RELATIONSHIP_widowed'].value_counts()"
   ]
  },
  {
   "cell_type": "code",
   "execution_count": 40,
   "metadata": {},
   "outputs": [],
   "source": [
    "# index_list = []\n",
    "# llm_response_list = []\n",
    "# system_message = \"You are an information extract tool that follows instructions very well and is specifically trained to extract social determinants of health elements from hospital generated free-text.\"\n",
    "# for index, row in final_df[final_df['RELATIONSHIP_widowed'] == True].iterrows():\n",
    "#     free_text = row['text']\n",
    "#     user_message = step1_query_optimized.format(free_text=free_text)\n",
    "#     openai_message = create_prompt(system_message, user_message)\n",
    "#     response = send_message(openai_message, deployment_name)\n",
    "    \n",
    "#     index_list.append(index)\n",
    "#     llm_response_list.append(response)\n",
    "#     print(free_text)\n",
    "#     print(response)\n",
    "#     print()\n",
    "\n",
    "# llm_relationship_widowed_step1 = pd.DataFrame({'index': index_list, 'llm_relationship_widowed': llm_response_list})\n",
    "\n",
    "# with open('llm_relationship_widowed_step1.pkl', 'wb') as file:\n",
    "#     pickle.dump(llm_relationship_widowed_step1, file)"
   ]
  },
  {
   "cell_type": "code",
   "execution_count": 41,
   "metadata": {},
   "outputs": [
    {
     "data": {
      "text/plain": [
       "RELATIONSHIP_single\n",
       "0.0    5316\n",
       "1.0       5\n",
       "Name: count, dtype: int64"
      ]
     },
     "execution_count": 41,
     "metadata": {},
     "output_type": "execute_result"
    }
   ],
   "source": [
    "final_df['RELATIONSHIP_single'].value_counts()"
   ]
  },
  {
   "cell_type": "code",
   "execution_count": 42,
   "metadata": {},
   "outputs": [],
   "source": [
    "# index_list = []\n",
    "# llm_response_list = []\n",
    "# system_message = \"You are an information extract tool that follows instructions very well and is specifically trained to extract social determinants of health elements from hospital generated free-text.\"\n",
    "# for index, row in final_df[final_df['RELATIONSHIP_single'] == True].iterrows():\n",
    "#     free_text = row['text']\n",
    "#     user_message = step1_query_optimized.format(free_text=free_text)\n",
    "#     openai_message = create_prompt(system_message, user_message)\n",
    "#     response = send_message(openai_message, deployment_name)\n",
    "    \n",
    "#     index_list.append(index)\n",
    "#     llm_response_list.append(response)\n",
    "#     print(free_text)\n",
    "#     print(response)\n",
    "#     print()\n",
    "\n",
    "# llm_relationship_single_step1 = pd.DataFrame({'index': index_list, 'llm_relationship_single': llm_response_list})\n",
    "\n",
    "# with open('llm_relationship_single_step1.pkl', 'wb') as file:\n",
    "#     pickle.dump(llm_relationship_single_step1, file)"
   ]
  },
  {
   "cell_type": "code",
   "execution_count": 43,
   "metadata": {},
   "outputs": [
    {
     "data": {
      "text/plain": [
       "EMPLOYMENT_employed\n",
       "0.0    5290\n",
       "1.0      31\n",
       "Name: count, dtype: int64"
      ]
     },
     "execution_count": 43,
     "metadata": {},
     "output_type": "execute_result"
    }
   ],
   "source": [
    "final_df['EMPLOYMENT_employed'].value_counts()"
   ]
  },
  {
   "cell_type": "code",
   "execution_count": 44,
   "metadata": {},
   "outputs": [],
   "source": [
    "# index_list = []\n",
    "# llm_response_list = []\n",
    "# system_message = \"You are an information extract tool that follows instructions very well and is specifically trained to extract social determinants of health elements from hospital generated free-text.\"\n",
    "# for index, row in final_df[final_df['EMPLOYMENT_employed'] == True].iterrows():\n",
    "#     free_text = row['text']\n",
    "#     user_message = step1_query_optimized.format(free_text=free_text)\n",
    "#     openai_message = create_prompt(system_message, user_message)\n",
    "#     response = send_message(openai_message, deployment_name)\n",
    "    \n",
    "#     index_list.append(index)\n",
    "#     llm_response_list.append(response)\n",
    "#     print(free_text)\n",
    "#     print(response)\n",
    "#     print()\n",
    "\n",
    "# llm_employment_employed_step1 = pd.DataFrame({'index': index_list, 'llm_employment_employed': llm_response_list})\n",
    "\n",
    "# with open('llm_employment_employed_step1.pkl', 'wb') as file:\n",
    "#     pickle.dump(llm_employment_employed_step1, file)"
   ]
  },
  {
   "cell_type": "code",
   "execution_count": 45,
   "metadata": {},
   "outputs": [
    {
     "data": {
      "text/plain": [
       "EMPLOYMENT_underemployed\n",
       "0.0    5318\n",
       "1.0       3\n",
       "Name: count, dtype: int64"
      ]
     },
     "execution_count": 45,
     "metadata": {},
     "output_type": "execute_result"
    }
   ],
   "source": [
    "final_df['EMPLOYMENT_underemployed'].value_counts()"
   ]
  },
  {
   "cell_type": "code",
   "execution_count": 46,
   "metadata": {},
   "outputs": [],
   "source": [
    "# index_list = []\n",
    "# llm_response_list = []\n",
    "# system_message = \"You are an information extract tool that follows instructions very well and is specifically trained to extract social determinants of health elements from hospital generated free-text.\"\n",
    "# for index, row in final_df[final_df['EMPLOYMENT_underemployed'] == True].iterrows():\n",
    "#     free_text = row['text']\n",
    "#     user_message = step1_query_optimized.format(free_text=free_text)\n",
    "#     openai_message = create_prompt(system_message, user_message)\n",
    "#     response = send_message(openai_message, deployment_name)\n",
    "    \n",
    "#     index_list.append(index)\n",
    "#     llm_response_list.append(response)\n",
    "#     print(free_text)\n",
    "#     print(response)\n",
    "#     print()\n",
    "\n",
    "# llm_employment_underemployed_step1 = pd.DataFrame({'index': index_list, 'llm_employment_underemployed': llm_response_list})\n",
    "\n",
    "# with open('llm_employment_underemployed_step1.pkl', 'wb') as file:\n",
    "#     pickle.dump(llm_employment_underemployed_step1, file)"
   ]
  },
  {
   "cell_type": "code",
   "execution_count": 47,
   "metadata": {},
   "outputs": [
    {
     "data": {
      "text/plain": [
       "EMPLOYMENT_unemployed\n",
       "0.0    5311\n",
       "1.0      10\n",
       "Name: count, dtype: int64"
      ]
     },
     "execution_count": 47,
     "metadata": {},
     "output_type": "execute_result"
    }
   ],
   "source": [
    "final_df['EMPLOYMENT_unemployed'].value_counts()"
   ]
  },
  {
   "cell_type": "code",
   "execution_count": 48,
   "metadata": {},
   "outputs": [],
   "source": [
    "# index_list = []\n",
    "# llm_response_list = []\n",
    "# system_message = \"You are an information extract tool that follows instructions very well and is specifically trained to extract social determinants of health elements from hospital generated free-text.\"\n",
    "# for index, row in final_df[final_df['EMPLOYMENT_unemployed'] == True].iterrows():\n",
    "#     free_text = row['text']\n",
    "#     user_message = step1_query_optimized.format(free_text=free_text)\n",
    "#     openai_message = create_prompt(system_message, user_message)\n",
    "#     response = send_message(openai_message, deployment_name)\n",
    "    \n",
    "#     index_list.append(index)\n",
    "#     llm_response_list.append(response)\n",
    "#     print(free_text)\n",
    "#     print(response)\n",
    "#     print()\n",
    "\n",
    "# llm_employment_unemployed_step1 = pd.DataFrame({'index': index_list, 'llm_employment_unemployed': llm_response_list})\n",
    "\n",
    "# with open('llm_employment_unemployed_step1.pkl', 'wb') as file:\n",
    "#     pickle.dump(llm_employment_unemployed_step1, file)"
   ]
  },
  {
   "cell_type": "code",
   "execution_count": 49,
   "metadata": {},
   "outputs": [
    {
     "data": {
      "text/plain": [
       "EMPLOYMENT_disability\n",
       "0.0    5311\n",
       "1.0      10\n",
       "Name: count, dtype: int64"
      ]
     },
     "execution_count": 49,
     "metadata": {},
     "output_type": "execute_result"
    }
   ],
   "source": [
    "final_df['EMPLOYMENT_disability'].value_counts()"
   ]
  },
  {
   "cell_type": "code",
   "execution_count": 50,
   "metadata": {},
   "outputs": [],
   "source": [
    "# index_list = []\n",
    "# llm_response_list = []\n",
    "# system_message = \"You are an information extract tool that follows instructions very well and is specifically trained to extract social determinants of health elements from hospital generated free-text.\"\n",
    "# for index, row in final_df[final_df['EMPLOYMENT_disability'] == True].iterrows():\n",
    "#     free_text = row['text']\n",
    "#     user_message = step1_query_optimized.format(free_text=free_text)\n",
    "#     openai_message = create_prompt(system_message, user_message)\n",
    "#     response = send_message(openai_message, deployment_name)\n",
    "    \n",
    "#     index_list.append(index)\n",
    "#     llm_response_list.append(response)\n",
    "#     print(free_text)\n",
    "#     print(response)\n",
    "#     print()\n",
    "\n",
    "# llm_employment_disability_step1 = pd.DataFrame({'index': index_list, 'llm_employment_disability': llm_response_list})\n",
    "\n",
    "# with open('llm_employment_disability_step1.pkl', 'wb') as file:\n",
    "#     pickle.dump(llm_employment_disability_step1, file)"
   ]
  },
  {
   "cell_type": "code",
   "execution_count": 51,
   "metadata": {},
   "outputs": [
    {
     "data": {
      "text/plain": [
       "EMPLOYMENT_retired\n",
       "0.0    5316\n",
       "1.0       5\n",
       "Name: count, dtype: int64"
      ]
     },
     "execution_count": 51,
     "metadata": {},
     "output_type": "execute_result"
    }
   ],
   "source": [
    "final_df['EMPLOYMENT_retired'].value_counts()"
   ]
  },
  {
   "cell_type": "code",
   "execution_count": 52,
   "metadata": {},
   "outputs": [],
   "source": [
    "# index_list = []\n",
    "# llm_response_list = []\n",
    "# system_message = \"You are an information extract tool that follows instructions very well and is specifically trained to extract social determinants of health elements from hospital generated free-text.\"\n",
    "# for index, row in final_df[final_df['EMPLOYMENT_retired'] == True].iterrows():\n",
    "#     free_text = row['text']\n",
    "#     user_message = step1_query_optimized.format(free_text=free_text)\n",
    "#     openai_message = create_prompt(system_message, user_message)\n",
    "#     response = send_message(openai_message, deployment_name)\n",
    "    \n",
    "#     index_list.append(index)\n",
    "#     llm_response_list.append(response)\n",
    "#     print(free_text)\n",
    "#     print(response)\n",
    "#     print()\n",
    "\n",
    "# llm_employment_retired_step1 = pd.DataFrame({'index': index_list, 'llm_employment_retired': llm_response_list})\n",
    "\n",
    "# with open('llm_employment_retired_step1.pkl', 'wb') as file:\n",
    "#     pickle.dump(llm_employment_retired_step1, file)"
   ]
  },
  {
   "cell_type": "code",
   "execution_count": 53,
   "metadata": {},
   "outputs": [
    {
     "data": {
      "text/plain": [
       "EMPLOYMENT_student\n",
       "0.0    5310\n",
       "1.0      11\n",
       "Name: count, dtype: int64"
      ]
     },
     "execution_count": 53,
     "metadata": {},
     "output_type": "execute_result"
    }
   ],
   "source": [
    "final_df['EMPLOYMENT_student'].value_counts()"
   ]
  },
  {
   "cell_type": "code",
   "execution_count": 54,
   "metadata": {},
   "outputs": [],
   "source": [
    "# index_list = []\n",
    "# llm_response_list = []\n",
    "# system_message = \"You are an information extract tool that follows instructions very well and is specifically trained to extract social determinants of health elements from hospital generated free-text.\"\n",
    "# for index, row in final_df[final_df['EMPLOYMENT_student'] == True].iterrows():\n",
    "#     free_text = row['text']\n",
    "#     user_message = step1_query_optimized.format(free_text=free_text)\n",
    "#     openai_message = create_prompt(system_message, user_message)\n",
    "#     response = send_message(openai_message, deployment_name)\n",
    "    \n",
    "#     index_list.append(index)\n",
    "#     llm_response_list.append(response)\n",
    "#     print(free_text)\n",
    "#     print(response)\n",
    "#     print()\n",
    "\n",
    "# llm_employment_student_step1 = pd.DataFrame({'index': index_list, 'llm_employment_student': llm_response_list})\n",
    "\n",
    "# with open('llm_employment_student_step1.pkl', 'wb') as file:\n",
    "#     pickle.dump(llm_employment_student_step1, file)"
   ]
  },
  {
   "cell_type": "markdown",
   "metadata": {},
   "source": [
    "### Extracting Insights"
   ]
  },
  {
   "cell_type": "code",
   "execution_count": 55,
   "metadata": {},
   "outputs": [],
   "source": [
    "recall_insights = {}"
   ]
  },
  {
   "cell_type": "code",
   "execution_count": 56,
   "metadata": {},
   "outputs": [],
   "source": [
    "with open('llm_employment_nonadverse_step1.pkl', 'rb') as file:\n",
    "    llm_employment_nonadverse_step1 = pickle.load(file)\n",
    "\n",
    "recall_insights['llm_employment_nonadverse_step1'] = sum(llm_employment_nonadverse_step1['llm_employment_nonadverse'] == 'YES')/len(llm_employment_nonadverse_step1)"
   ]
  },
  {
   "cell_type": "code",
   "execution_count": 57,
   "metadata": {},
   "outputs": [],
   "source": [
    "with open('llm_employment_adverse_step1.pkl', 'rb') as file:\n",
    "    llm_employment_adverse_step1 = pickle.load(file)\n",
    "    \n",
    "recall_insights['llm_employment_adverse_step1'] = sum(llm_employment_adverse_step1['llm_employment_adverse'] == 'YES')/len(llm_employment_adverse_step1)"
   ]
  },
  {
   "cell_type": "code",
   "execution_count": 58,
   "metadata": {},
   "outputs": [],
   "source": [
    "with open('llm_employment_employed_step1.pkl', 'rb') as file:\n",
    "    llm_employment_employed_step1 = pickle.load(file)\n",
    "    \n",
    "recall_insights['llm_employment_employed_step1'] = sum(llm_employment_employed_step1['llm_employment_employed'] == 'YES')/len(llm_employment_employed_step1)"
   ]
  },
  {
   "cell_type": "code",
   "execution_count": 59,
   "metadata": {},
   "outputs": [],
   "source": [
    "with open('llm_employment_retired_step1.pkl', 'rb') as file:\n",
    "    llm_employment_retired_step1 = pickle.load(file)\n",
    "    \n",
    "recall_insights['llm_employment_retired_step1'] = sum(llm_employment_retired_step1['llm_employment_retired'] == 'YES')/len(llm_employment_retired_step1)"
   ]
  },
  {
   "cell_type": "code",
   "execution_count": 60,
   "metadata": {},
   "outputs": [],
   "source": [
    "with open('llm_employment_student_step1.pkl', 'rb') as file:\n",
    "    llm_employment_student_step1 = pickle.load(file)\n",
    "    \n",
    "recall_insights['llm_employment_student_step1'] = sum(llm_employment_student_step1['llm_employment_student'] == 'YES')/len(llm_employment_student_step1)"
   ]
  },
  {
   "cell_type": "code",
   "execution_count": 61,
   "metadata": {},
   "outputs": [],
   "source": [
    "with open('llm_employment_underemployed_step1.pkl', 'rb') as file:\n",
    "    llm_employment_underemployed_step1 = pickle.load(file)\n",
    "    \n",
    "recall_insights['llm_employment_underemployed_step1'] = sum(llm_employment_underemployed_step1['llm_employment_underemployed'] == 'YES')/len(llm_employment_underemployed_step1)"
   ]
  },
  {
   "cell_type": "code",
   "execution_count": 62,
   "metadata": {},
   "outputs": [],
   "source": [
    "with open('llm_employment_unemployed_step1.pkl', 'rb') as file:\n",
    "    llm_employment_unemployed_step1 = pickle.load(file)\n",
    "    \n",
    "recall_insights['llm_employment_unemployed_step1'] = sum(llm_employment_unemployed_step1['llm_employment_unemployed'] == 'YES')/len(llm_employment_unemployed_step1)"
   ]
  },
  {
   "cell_type": "code",
   "execution_count": 63,
   "metadata": {},
   "outputs": [],
   "source": [
    "with open('llm_housing_poor_step1.pkl', 'rb') as file:\n",
    "    llm_housing_poor_step1 = pickle.load(file)\n",
    "    \n",
    "recall_insights['llm_housing_poor_step1'] = sum(llm_housing_poor_step1['llm_housing_poor'] == 'YES')/len(llm_housing_poor_step1)"
   ]
  },
  {
   "cell_type": "code",
   "execution_count": 64,
   "metadata": {},
   "outputs": [],
   "source": [
    "with open('llm_relationship_adverse_step1.pkl', 'rb') as file:\n",
    "    llm_relationship_adverse_step1 = pickle.load(file)\n",
    "    \n",
    "recall_insights['llm_relationship_adverse_step1'] = sum(llm_relationship_adverse_step1['llm_relationship_adverse'] == 'YES')/len(llm_relationship_adverse_step1)"
   ]
  },
  {
   "cell_type": "code",
   "execution_count": 65,
   "metadata": {},
   "outputs": [],
   "source": [
    "with open('llm_relationship_divorced_step1.pkl', 'rb') as file:\n",
    "    llm_relationship_divorced_step1 = pickle.load(file)\n",
    "    \n",
    "recall_insights['llm_relationship_divorced_step1'] = sum(llm_relationship_divorced_step1['llm_relationship_divorced'] == 'YES')/len(llm_relationship_divorced_step1)"
   ]
  },
  {
   "cell_type": "code",
   "execution_count": 66,
   "metadata": {},
   "outputs": [],
   "source": [
    "with open('llm_relationship_married_step1.pkl', 'rb') as file:\n",
    "    llm_relationship_married_step1 = pickle.load(file)\n",
    "    \n",
    "recall_insights['llm_relationship_married_step1'] = sum(llm_relationship_married_step1['llm_relationship_married'] == 'YES')/len(llm_relationship_married_step1)"
   ]
  },
  {
   "cell_type": "code",
   "execution_count": 67,
   "metadata": {},
   "outputs": [],
   "source": [
    "with open('llm_relationship_nonadverse_step1.pkl', 'rb') as file:\n",
    "    llm_relationship_nonadverse_step1 = pickle.load(file)\n",
    "    \n",
    "recall_insights['llm_relationship_nonadverse_step1'] = sum(llm_relationship_nonadverse_step1['llm_relationship_nonadverse'] == 'YES')/len(llm_relationship_nonadverse_step1)"
   ]
  },
  {
   "cell_type": "code",
   "execution_count": 68,
   "metadata": {},
   "outputs": [],
   "source": [
    "with open('llm_relationship_partnered_step1.pkl', 'rb') as file:\n",
    "    llm_relationship_partnered_step1 = pickle.load(file)\n",
    "    \n",
    "recall_insights['llm_relationship_partnered_step1'] = sum(llm_relationship_partnered_step1['llm_relationship_partnered'] == 'YES')/len(llm_relationship_partnered_step1)"
   ]
  },
  {
   "cell_type": "code",
   "execution_count": 69,
   "metadata": {},
   "outputs": [],
   "source": [
    "with open('llm_relationship_single_step1.pkl', 'rb') as file:\n",
    "    llm_relationship_single_step1 = pickle.load(file)\n",
    "    \n",
    "recall_insights['llm_relationship_single_step1'] = sum(llm_relationship_single_step1['llm_relationship_single'] == 'YES')/len(llm_relationship_single_step1)"
   ]
  },
  {
   "cell_type": "code",
   "execution_count": 70,
   "metadata": {},
   "outputs": [],
   "source": [
    "with open('llm_relationship_widowed_step1.pkl', 'rb') as file:\n",
    "    llm_relationship_widowed_step1 = pickle.load(file)\n",
    "    \n",
    "recall_insights['llm_relationship_widowed_step1'] = sum(llm_relationship_widowed_step1['llm_relationship_widowed'] == 'YES')/len(llm_relationship_widowed_step1)"
   ]
  },
  {
   "cell_type": "code",
   "execution_count": 71,
   "metadata": {},
   "outputs": [],
   "source": [
    "with open('llm_transportation_distance_step1.pkl', 'rb') as file:\n",
    "    llm_transportation_distance_step1 = pickle.load(file)\n",
    "    \n",
    "recall_insights['llm_transportation_distance_step1'] = sum(llm_transportation_distance_step1['llm_transportation_distance'] == 'YES')/len(llm_transportation_distance_step1)"
   ]
  },
  {
   "cell_type": "code",
   "execution_count": 72,
   "metadata": {},
   "outputs": [
    {
     "data": {
      "text/plain": [
       "{'llm_employment_nonadverse_step1': 0.9777777777777777,\n",
       " 'llm_employment_adverse_step1': 0.9545454545454546,\n",
       " 'llm_employment_employed_step1': 0.967741935483871,\n",
       " 'llm_employment_retired_step1': 1.0,\n",
       " 'llm_employment_student_step1': 1.0,\n",
       " 'llm_employment_underemployed_step1': 1.0,\n",
       " 'llm_employment_unemployed_step1': 1.0,\n",
       " 'llm_housing_poor_step1': 1.0,\n",
       " 'llm_relationship_adverse_step1': 0.30434782608695654,\n",
       " 'llm_relationship_divorced_step1': 0.7058823529411765,\n",
       " 'llm_relationship_married_step1': 0.5681818181818182,\n",
       " 'llm_relationship_nonadverse_step1': 0.28662420382165604,\n",
       " 'llm_relationship_partnered_step1': 0.6,\n",
       " 'llm_relationship_single_step1': 0.4,\n",
       " 'llm_relationship_widowed_step1': 1.0,\n",
       " 'llm_transportation_distance_step1': 1.0}"
      ]
     },
     "execution_count": 72,
     "metadata": {},
     "output_type": "execute_result"
    }
   ],
   "source": [
    "recall_insights"
   ]
  },
  {
   "cell_type": "code",
   "execution_count": null,
   "metadata": {},
   "outputs": [],
   "source": []
  }
 ],
 "metadata": {
  "kernelspec": {
   "display_name": "sdoh-guevera",
   "language": "python",
   "name": "python3"
  },
  "language_info": {
   "codemirror_mode": {
    "name": "ipython",
    "version": 3
   },
   "file_extension": ".py",
   "mimetype": "text/x-python",
   "name": "python",
   "nbconvert_exporter": "python",
   "pygments_lexer": "ipython3",
   "version": "3.11.9"
  }
 },
 "nbformat": 4,
 "nbformat_minor": 2
}
